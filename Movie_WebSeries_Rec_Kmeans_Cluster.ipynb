{
 "cells": [
  {
   "cell_type": "code",
   "execution_count": 3,
   "metadata": {
    "id": "BQkotpbi7V_o"
   },
   "outputs": [],
   "source": [
    "# For loading data and data manipulation\n",
    "import pandas as pd\n",
    "# For mathematical computations\n",
    "import numpy as np\n",
    "# For model building\n",
    "from sklearn.cluster import KMeans\n",
    "# For finding the optimal number of k\n",
    "from sklearn.metrics import silhouette_score\n",
    "# For evaluating performance of the model\n",
    "from sklearn.metrics import davies_bouldin_score\n",
    "from sklearn.metrics import calinski_harabasz_score\n",
    "# For data visualization\n",
    "import matplotlib.pyplot as plt\n",
    "import seaborn as sns\n",
    "import warnings\n",
    "import mysql.connector as connection\n",
    "warnings.filterwarnings('ignore')"
   ]
  },
  {
   "cell_type": "markdown",
   "metadata": {},
   "source": [
    "# Load the data through MySQL"
   ]
  },
  {
   "cell_type": "code",
   "execution_count": 4,
   "metadata": {},
   "outputs": [
    {
     "name": "stdout",
     "output_type": "stream",
     "text": [
      "CPU times: user 17.3 s, sys: 3.73 s, total: 21 s\n",
      "Wall time: 22.2 s\n"
     ]
    }
   ],
   "source": [
    "%%time\n",
    "try:\n",
    "    mydb = connection.connect(host=\"localhost\", database = 'movie_series_rec',user=\"root\", passwd=\"root\",use_pure=True)\n",
    "    movie_series_query = \"select * from movie_series_data;\"\n",
    "    movie_series_df = pd.read_sql(movie_series_query, mydb)\n",
    "    mv_srs_user_query = \"select * from movie_series_userid;\"\n",
    "    mv_srs_user_df = pd.read_sql(mv_srs_user_query, mydb)\n",
    "    mydb.close() #close the connection\n",
    "except Exception as e:\n",
    "    mydb.close()\n",
    "    print(str(e))"
   ]
  },
  {
   "cell_type": "code",
   "execution_count": 5,
   "metadata": {
    "colab": {
     "base_uri": "https://localhost:8080/"
    },
    "id": "_BvcMuWF8FCd",
    "outputId": "1212559c-ee37-457e-82a5-72ee0d39a923"
   },
   "outputs": [
    {
     "name": "stdout",
     "output_type": "stream",
     "text": [
      "CPU times: user 29.7 ms, sys: 12.3 ms, total: 42 ms\n",
      "Wall time: 48.9 ms\n"
     ]
    }
   ],
   "source": [
    "%%time\n",
    "movies_df = movie_series_df.loc[movie_series_df['TYPE'] == \"movie\"]\n",
    "series_df = movie_series_df.loc[movie_series_df['TYPE'] == \"series\"]"
   ]
  },
  {
   "cell_type": "code",
   "execution_count": 6,
   "metadata": {
    "colab": {
     "base_uri": "https://localhost:8080/",
     "height": 409
    },
    "id": "qizYG6YH8l9w",
    "outputId": "676cb341-5f31-446b-ac3d-e36275452338"
   },
   "outputs": [
    {
     "data": {
      "text/html": [
       "<div>\n",
       "<style scoped>\n",
       "    .dataframe tbody tr th:only-of-type {\n",
       "        vertical-align: middle;\n",
       "    }\n",
       "\n",
       "    .dataframe tbody tr th {\n",
       "        vertical-align: top;\n",
       "    }\n",
       "\n",
       "    .dataframe thead th {\n",
       "        text-align: right;\n",
       "    }\n",
       "</style>\n",
       "<table border=\"1\" class=\"dataframe\">\n",
       "  <thead>\n",
       "    <tr style=\"text-align: right;\">\n",
       "      <th></th>\n",
       "      <th>TITLE_ID</th>\n",
       "      <th>TITLE</th>\n",
       "      <th>IMDB_SCORE</th>\n",
       "      <th>TYPE</th>\n",
       "      <th>GENRE</th>\n",
       "      <th>POSTER</th>\n",
       "      <th>ACTORS</th>\n",
       "      <th>RATED</th>\n",
       "      <th>LANGUAGES</th>\n",
       "      <th>YEAR</th>\n",
       "    </tr>\n",
       "  </thead>\n",
       "  <tbody>\n",
       "    <tr>\n",
       "      <th>0</th>\n",
       "      <td>1</td>\n",
       "      <td>Toy Story</td>\n",
       "      <td>8.3</td>\n",
       "      <td>movie</td>\n",
       "      <td>Animation, Adventure, Comedy</td>\n",
       "      <td>https://m.media-amazon.com/images/M/MV5BMDU2ZW...</td>\n",
       "      <td>Tom Hanks, Tim Allen, Don Rickles</td>\n",
       "      <td>G</td>\n",
       "      <td>English</td>\n",
       "      <td>1995</td>\n",
       "    </tr>\n",
       "    <tr>\n",
       "      <th>1</th>\n",
       "      <td>2</td>\n",
       "      <td>Jumanji</td>\n",
       "      <td>7.0</td>\n",
       "      <td>movie</td>\n",
       "      <td>Adventure, Comedy, Family</td>\n",
       "      <td>https://m.media-amazon.com/images/M/MV5BZTk2Zm...</td>\n",
       "      <td>Robin Williams, Kirsten Dunst, Bonnie Hunt</td>\n",
       "      <td>PG</td>\n",
       "      <td>English, French</td>\n",
       "      <td>1995</td>\n",
       "    </tr>\n",
       "    <tr>\n",
       "      <th>2</th>\n",
       "      <td>3</td>\n",
       "      <td>Grumpier Old Men</td>\n",
       "      <td>6.6</td>\n",
       "      <td>movie</td>\n",
       "      <td>Comedy, Romance</td>\n",
       "      <td>https://m.media-amazon.com/images/M/MV5BMjQxM2...</td>\n",
       "      <td>Walter Matthau, Jack Lemmon, Ann-Margret</td>\n",
       "      <td>PG-13</td>\n",
       "      <td>English, Italian, German</td>\n",
       "      <td>1995</td>\n",
       "    </tr>\n",
       "    <tr>\n",
       "      <th>3</th>\n",
       "      <td>4</td>\n",
       "      <td>Waiting to Exhale</td>\n",
       "      <td>5.9</td>\n",
       "      <td>movie</td>\n",
       "      <td>Comedy, Drama, Romance</td>\n",
       "      <td>https://m.media-amazon.com/images/M/MV5BYzcyMD...</td>\n",
       "      <td>Whitney Houston, Angela Bassett, Loretta Devine</td>\n",
       "      <td>R</td>\n",
       "      <td>English</td>\n",
       "      <td>1995</td>\n",
       "    </tr>\n",
       "    <tr>\n",
       "      <th>4</th>\n",
       "      <td>5</td>\n",
       "      <td>Father of the Bride Part II</td>\n",
       "      <td>6.0</td>\n",
       "      <td>movie</td>\n",
       "      <td>Comedy, Family, Romance</td>\n",
       "      <td>https://m.media-amazon.com/images/M/MV5BOTEyNz...</td>\n",
       "      <td>Steve Martin, Diane Keaton, Martin Short</td>\n",
       "      <td>PG</td>\n",
       "      <td>English</td>\n",
       "      <td>1995</td>\n",
       "    </tr>\n",
       "  </tbody>\n",
       "</table>\n",
       "</div>"
      ],
      "text/plain": [
       "   TITLE_ID                         TITLE  IMDB_SCORE   TYPE  \\\n",
       "0         1                    Toy Story          8.3  movie   \n",
       "1         2                      Jumanji          7.0  movie   \n",
       "2         3             Grumpier Old Men          6.6  movie   \n",
       "3         4            Waiting to Exhale          5.9  movie   \n",
       "4         5  Father of the Bride Part II          6.0  movie   \n",
       "\n",
       "                          GENRE  \\\n",
       "0  Animation, Adventure, Comedy   \n",
       "1     Adventure, Comedy, Family   \n",
       "2               Comedy, Romance   \n",
       "3        Comedy, Drama, Romance   \n",
       "4       Comedy, Family, Romance   \n",
       "\n",
       "                                              POSTER  \\\n",
       "0  https://m.media-amazon.com/images/M/MV5BMDU2ZW...   \n",
       "1  https://m.media-amazon.com/images/M/MV5BZTk2Zm...   \n",
       "2  https://m.media-amazon.com/images/M/MV5BMjQxM2...   \n",
       "3  https://m.media-amazon.com/images/M/MV5BYzcyMD...   \n",
       "4  https://m.media-amazon.com/images/M/MV5BOTEyNz...   \n",
       "\n",
       "                                            ACTORS  RATED  \\\n",
       "0                Tom Hanks, Tim Allen, Don Rickles      G   \n",
       "1       Robin Williams, Kirsten Dunst, Bonnie Hunt     PG   \n",
       "2         Walter Matthau, Jack Lemmon, Ann-Margret  PG-13   \n",
       "3  Whitney Houston, Angela Bassett, Loretta Devine      R   \n",
       "4         Steve Martin, Diane Keaton, Martin Short     PG   \n",
       "\n",
       "                  LANGUAGES  YEAR  \n",
       "0                   English  1995  \n",
       "1           English, French  1995  \n",
       "2  English, Italian, German  1995  \n",
       "3                   English  1995  \n",
       "4                   English  1995  "
      ]
     },
     "execution_count": 6,
     "metadata": {},
     "output_type": "execute_result"
    }
   ],
   "source": [
    "# Top observation in movie dataset\n",
    "movies_df.head()"
   ]
  },
  {
   "cell_type": "code",
   "execution_count": 7,
   "metadata": {
    "colab": {
     "base_uri": "https://localhost:8080/",
     "height": 201
    },
    "id": "LbLtL0Xp8sqB",
    "outputId": "69bd477f-4f94-478b-c943-0cd2076a12dc"
   },
   "outputs": [
    {
     "data": {
      "text/html": [
       "<div>\n",
       "<style scoped>\n",
       "    .dataframe tbody tr th:only-of-type {\n",
       "        vertical-align: middle;\n",
       "    }\n",
       "\n",
       "    .dataframe tbody tr th {\n",
       "        vertical-align: top;\n",
       "    }\n",
       "\n",
       "    .dataframe thead th {\n",
       "        text-align: right;\n",
       "    }\n",
       "</style>\n",
       "<table border=\"1\" class=\"dataframe\">\n",
       "  <thead>\n",
       "    <tr style=\"text-align: right;\">\n",
       "      <th></th>\n",
       "      <th>USER_ID</th>\n",
       "      <th>TITLE_ID</th>\n",
       "    </tr>\n",
       "  </thead>\n",
       "  <tbody>\n",
       "    <tr>\n",
       "      <th>0</th>\n",
       "      <td>1</td>\n",
       "      <td>307</td>\n",
       "    </tr>\n",
       "    <tr>\n",
       "      <th>1</th>\n",
       "      <td>1</td>\n",
       "      <td>481</td>\n",
       "    </tr>\n",
       "    <tr>\n",
       "      <th>2</th>\n",
       "      <td>1</td>\n",
       "      <td>1091</td>\n",
       "    </tr>\n",
       "    <tr>\n",
       "      <th>3</th>\n",
       "      <td>1</td>\n",
       "      <td>1257</td>\n",
       "    </tr>\n",
       "    <tr>\n",
       "      <th>4</th>\n",
       "      <td>1</td>\n",
       "      <td>1449</td>\n",
       "    </tr>\n",
       "  </tbody>\n",
       "</table>\n",
       "</div>"
      ],
      "text/plain": [
       "   USER_ID  TITLE_ID\n",
       "0        1       307\n",
       "1        1       481\n",
       "2        1      1091\n",
       "3        1      1257\n",
       "4        1      1449"
      ]
     },
     "execution_count": 7,
     "metadata": {},
     "output_type": "execute_result"
    }
   ],
   "source": [
    "# Top observation in movie_uid dataset\n",
    "mv_srs_user_df.head() "
   ]
  },
  {
   "cell_type": "code",
   "execution_count": 8,
   "metadata": {
    "colab": {
     "base_uri": "https://localhost:8080/"
    },
    "id": "-PzvDgZo8--g",
    "outputId": "46f0df77-b3ef-4463-cf25-5cf3737ae58f"
   },
   "outputs": [
    {
     "name": "stdout",
     "output_type": "stream",
     "text": [
      "Dimension of the movie dataset \n",
      "| (48423, 10)\n"
     ]
    }
   ],
   "source": [
    "# Dimension of the datasets related to movies\n",
    "print(\"Dimension of the movie dataset \\n|\", movies_df.shape)"
   ]
  },
  {
   "cell_type": "code",
   "execution_count": 9,
   "metadata": {
    "colab": {
     "base_uri": "https://localhost:8080/",
     "height": 392
    },
    "id": "wD4wEuv2-ZRj",
    "outputId": "14f0e453-88d4-4291-f7de-a1d4f6c64d5a"
   },
   "outputs": [
    {
     "data": {
      "text/html": [
       "<div>\n",
       "<style scoped>\n",
       "    .dataframe tbody tr th:only-of-type {\n",
       "        vertical-align: middle;\n",
       "    }\n",
       "\n",
       "    .dataframe tbody tr th {\n",
       "        vertical-align: top;\n",
       "    }\n",
       "\n",
       "    .dataframe thead th {\n",
       "        text-align: right;\n",
       "    }\n",
       "</style>\n",
       "<table border=\"1\" class=\"dataframe\">\n",
       "  <thead>\n",
       "    <tr style=\"text-align: right;\">\n",
       "      <th></th>\n",
       "      <th>TITLE_ID</th>\n",
       "      <th>TITLE</th>\n",
       "      <th>IMDB_SCORE</th>\n",
       "      <th>TYPE</th>\n",
       "      <th>GENRE</th>\n",
       "      <th>POSTER</th>\n",
       "      <th>ACTORS</th>\n",
       "      <th>RATED</th>\n",
       "      <th>LANGUAGES</th>\n",
       "      <th>YEAR</th>\n",
       "    </tr>\n",
       "  </thead>\n",
       "  <tbody>\n",
       "    <tr>\n",
       "      <th>48423</th>\n",
       "      <td>193889</td>\n",
       "      <td>Unforgettable</td>\n",
       "      <td>6.7</td>\n",
       "      <td>series</td>\n",
       "      <td>Crime, Drama, Mystery</td>\n",
       "      <td>https://m.media-amazon.com/images/M/MV5BMTYwMz...</td>\n",
       "      <td>Poppy Montgomery, Dylan Walsh, James Hiroyuki ...</td>\n",
       "      <td>TV-14</td>\n",
       "      <td>None</td>\n",
       "      <td>2011</td>\n",
       "    </tr>\n",
       "    <tr>\n",
       "      <th>48424</th>\n",
       "      <td>193890</td>\n",
       "      <td>Pie in the Sky</td>\n",
       "      <td>7.6</td>\n",
       "      <td>series</td>\n",
       "      <td>Comedy, Crime, Drama</td>\n",
       "      <td>https://m.media-amazon.com/images/M/MV5BMTYzMD...</td>\n",
       "      <td>Richard Griffiths, Maggie Steed, Malcolm Sinclair</td>\n",
       "      <td>Not Rated</td>\n",
       "      <td>English</td>\n",
       "      <td>1994</td>\n",
       "    </tr>\n",
       "    <tr>\n",
       "      <th>48425</th>\n",
       "      <td>193891</td>\n",
       "      <td>Reckless</td>\n",
       "      <td>7.0</td>\n",
       "      <td>series</td>\n",
       "      <td>Crime, Drama</td>\n",
       "      <td>https://m.media-amazon.com/images/M/MV5BYjk0Zj...</td>\n",
       "      <td>Kim Wayans, Michael Gladis, Gregory Harrison</td>\n",
       "      <td>None</td>\n",
       "      <td>English</td>\n",
       "      <td>2014</td>\n",
       "    </tr>\n",
       "    <tr>\n",
       "      <th>48426</th>\n",
       "      <td>193892</td>\n",
       "      <td>Hunted</td>\n",
       "      <td>7.3</td>\n",
       "      <td>series</td>\n",
       "      <td>Action, Drama</td>\n",
       "      <td>https://m.media-amazon.com/images/M/MV5BMGFiMG...</td>\n",
       "      <td>Melissa George, Adam Rayner, Patrick Malahide</td>\n",
       "      <td>TV-MA</td>\n",
       "      <td>English, Arabic</td>\n",
       "      <td>2012</td>\n",
       "    </tr>\n",
       "    <tr>\n",
       "      <th>48427</th>\n",
       "      <td>193893</td>\n",
       "      <td>Little Princess</td>\n",
       "      <td>5.6</td>\n",
       "      <td>series</td>\n",
       "      <td>Animation, Family</td>\n",
       "      <td>https://m.media-amazon.com/images/M/MV5BMjI5Nj...</td>\n",
       "      <td>Jane Horrocks, Colin McFarlane, Julian Clary</td>\n",
       "      <td>TV-Y7</td>\n",
       "      <td>English</td>\n",
       "      <td>2006</td>\n",
       "    </tr>\n",
       "  </tbody>\n",
       "</table>\n",
       "</div>"
      ],
      "text/plain": [
       "       TITLE_ID            TITLE  IMDB_SCORE    TYPE                  GENRE  \\\n",
       "48423    193889   Unforgettable          6.7  series  Crime, Drama, Mystery   \n",
       "48424    193890  Pie in the Sky          7.6  series   Comedy, Crime, Drama   \n",
       "48425    193891        Reckless          7.0  series           Crime, Drama   \n",
       "48426    193892           Hunted         7.3  series          Action, Drama   \n",
       "48427    193893  Little Princess         5.6  series      Animation, Family   \n",
       "\n",
       "                                                  POSTER  \\\n",
       "48423  https://m.media-amazon.com/images/M/MV5BMTYwMz...   \n",
       "48424  https://m.media-amazon.com/images/M/MV5BMTYzMD...   \n",
       "48425  https://m.media-amazon.com/images/M/MV5BYjk0Zj...   \n",
       "48426  https://m.media-amazon.com/images/M/MV5BMGFiMG...   \n",
       "48427  https://m.media-amazon.com/images/M/MV5BMjI5Nj...   \n",
       "\n",
       "                                                  ACTORS      RATED  \\\n",
       "48423  Poppy Montgomery, Dylan Walsh, James Hiroyuki ...      TV-14   \n",
       "48424  Richard Griffiths, Maggie Steed, Malcolm Sinclair  Not Rated   \n",
       "48425       Kim Wayans, Michael Gladis, Gregory Harrison       None   \n",
       "48426      Melissa George, Adam Rayner, Patrick Malahide      TV-MA   \n",
       "48427       Jane Horrocks, Colin McFarlane, Julian Clary      TV-Y7   \n",
       "\n",
       "             LANGUAGES  YEAR  \n",
       "48423             None  2011  \n",
       "48424          English  1994  \n",
       "48425          English  2014  \n",
       "48426  English, Arabic  2012  \n",
       "48427          English  2006  "
      ]
     },
     "execution_count": 9,
     "metadata": {},
     "output_type": "execute_result"
    }
   ],
   "source": [
    "# Top observation in series dataset\n",
    "series_df.head()"
   ]
  },
  {
   "cell_type": "code",
   "execution_count": 10,
   "metadata": {
    "colab": {
     "base_uri": "https://localhost:8080/"
    },
    "id": "De17-JEM_Ycq",
    "outputId": "02797b3e-c6ff-473f-c705-38ecdb63c672"
   },
   "outputs": [
    {
     "name": "stdout",
     "output_type": "stream",
     "text": [
      "Dimension of the series dataset \n",
      "| (24791, 10)\n"
     ]
    }
   ],
   "source": [
    "# Dimension of the datasets\n",
    "print(\"Dimension of the series dataset \\n|\", series_df.shape)"
   ]
  },
  {
   "cell_type": "code",
   "execution_count": 11,
   "metadata": {
    "colab": {
     "base_uri": "https://localhost:8080/"
    },
    "id": "k6nb_BIX_zRE",
    "outputId": "3d8ea17a-3fe9-4266-edd7-6b2f31afbfb0"
   },
   "outputs": [
    {
     "data": {
      "text/plain": [
       "(73214, 10)"
      ]
     },
     "execution_count": 11,
     "metadata": {},
     "output_type": "execute_result"
    }
   ],
   "source": [
    "movie_series_df.shape"
   ]
  },
  {
   "cell_type": "code",
   "execution_count": 12,
   "metadata": {
    "id": "joidBsPmLhl6"
   },
   "outputs": [],
   "source": [
    "#Removing Trailing Spaces from Movie/Series Titles\n",
    "movie_series_df['TITLE'] = movie_series_df['TITLE'].str.strip()"
   ]
  },
  {
   "cell_type": "code",
   "execution_count": 13,
   "metadata": {
    "colab": {
     "base_uri": "https://localhost:8080/"
    },
    "id": "zHcH5taIpoAd",
    "outputId": "8bcefc0d-3eb0-4d74-f19c-8ab16cc256c4"
   },
   "outputs": [
    {
     "data": {
      "text/plain": [
       "TITLE_ID          0\n",
       "TITLE             0\n",
       "IMDB_SCORE        0\n",
       "TYPE              0\n",
       "GENRE           262\n",
       "POSTER         1390\n",
       "ACTORS         1021\n",
       "RATED         26540\n",
       "LANGUAGES       925\n",
       "YEAR              0\n",
       "dtype: int64"
      ]
     },
     "execution_count": 13,
     "metadata": {},
     "output_type": "execute_result"
    }
   ],
   "source": [
    "# Check if the missing values has been removed\n",
    "movie_series_df.isna().sum()"
   ]
  },
  {
   "cell_type": "code",
   "execution_count": 14,
   "metadata": {
    "colab": {
     "base_uri": "https://localhost:8080/"
    },
    "id": "HmtFDAUfhGBh",
    "outputId": "c10e96d7-952e-408f-fe6f-679df684a580"
   },
   "outputs": [
    {
     "data": {
      "text/plain": [
       "TITLE_ID        0\n",
       "TITLE           0\n",
       "IMDB_SCORE      0\n",
       "TYPE            0\n",
       "GENRE         262\n",
       "POSTER          0\n",
       "ACTORS          0\n",
       "RATED           0\n",
       "LANGUAGES     925\n",
       "YEAR            0\n",
       "dtype: int64"
      ]
     },
     "execution_count": 14,
     "metadata": {},
     "output_type": "execute_result"
    }
   ],
   "source": [
    "movie_series_df[['RATED']] = movie_series_df[['RATED']].fillna(value='Unrated')\n",
    "movie_series_df[['POSTER']] = movie_series_df[['POSTER']].fillna(value='Unavailable')\n",
    "movie_series_df[['ACTORS']] = movie_series_df[['ACTORS']].fillna(value='Unknown')\n",
    "movie_series_df.isna().sum()"
   ]
  },
  {
   "cell_type": "code",
   "execution_count": 15,
   "metadata": {
    "colab": {
     "base_uri": "https://localhost:8080/"
    },
    "id": "hK3UwZkbp4YB",
    "outputId": "e52944d7-826a-4c0b-9c9a-66c81c8869b1"
   },
   "outputs": [
    {
     "data": {
      "text/plain": [
       "TITLE_ID      0\n",
       "TITLE         0\n",
       "IMDB_SCORE    0\n",
       "TYPE          0\n",
       "GENRE         0\n",
       "POSTER        0\n",
       "ACTORS        0\n",
       "RATED         0\n",
       "LANGUAGES     0\n",
       "YEAR          0\n",
       "dtype: int64"
      ]
     },
     "execution_count": 15,
     "metadata": {},
     "output_type": "execute_result"
    }
   ],
   "source": [
    "# Delete missing values\n",
    "movie_series_df.dropna(inplace= True)\n",
    "movie_series_df.isna().sum()"
   ]
  },
  {
   "cell_type": "code",
   "execution_count": 16,
   "metadata": {
    "colab": {
     "base_uri": "https://localhost:8080/"
    },
    "id": "hNOCBNN1oqvn",
    "outputId": "698f5860-1f31-458f-804e-735ac5ca3008"
   },
   "outputs": [
    {
     "name": "stdout",
     "output_type": "stream",
     "text": [
      "Number of Duplicated values: \n",
      "5775\n",
      "\n",
      "Duplicated values in Percentage: \n",
      "8.01%\n"
     ]
    }
   ],
   "source": [
    "# Duplicated values\n",
    "print('Number of Duplicated values: \\n{}'.format(movie_series_df.duplicated().sum()))\n",
    "print('\\nDuplicated values in Percentage: \\n{}%'.format((movie_series_df.duplicated().sum()/len(movie_series_df)*100).round(2)))"
   ]
  },
  {
   "cell_type": "code",
   "execution_count": 17,
   "metadata": {
    "colab": {
     "base_uri": "https://localhost:8080/"
    },
    "id": "udozmNWDo4pI",
    "outputId": "73d62ca5-e6ed-4d97-a61b-5e939b3c3469"
   },
   "outputs": [
    {
     "data": {
      "text/plain": [
       "(66296, 10)"
      ]
     },
     "execution_count": 17,
     "metadata": {},
     "output_type": "execute_result"
    }
   ],
   "source": [
    "# Drop the duplicated values as it is less than 10%\n",
    "movie_series_df.drop_duplicates(inplace = True)\n",
    "movie_series_df.shape"
   ]
  },
  {
   "cell_type": "code",
   "execution_count": 18,
   "metadata": {
    "colab": {
     "base_uri": "https://localhost:8080/"
    },
    "id": "-Xk2_2CTpIbS",
    "outputId": "4eccc35d-09ec-4f30-8a5c-eb870adb672d"
   },
   "outputs": [
    {
     "data": {
      "text/plain": [
       "(63049, 10)"
      ]
     },
     "execution_count": 18,
     "metadata": {},
     "output_type": "execute_result"
    }
   ],
   "source": [
    "#Removing if there are duplicate TITLE_ID\n",
    "movie_series_df = movie_series_df.drop_duplicates(subset=['TITLE_ID'], keep=False)\n",
    "movie_series_df.shape"
   ]
  },
  {
   "cell_type": "code",
   "execution_count": 19,
   "metadata": {
    "colab": {
     "base_uri": "https://localhost:8080/"
    },
    "id": "iiIEeHRhpMvE",
    "outputId": "04c0e32a-0968-44e2-8ede-32fece78a123"
   },
   "outputs": [
    {
     "data": {
      "text/plain": [
       "(63049, 10)"
      ]
     },
     "execution_count": 19,
     "metadata": {},
     "output_type": "execute_result"
    }
   ],
   "source": [
    "movie_series_df = movie_series_df.drop_duplicates(subset=['TITLE', 'TYPE', 'IMDB_SCORE'], keep=False)\n",
    "movie_series_df.shape"
   ]
  },
  {
   "cell_type": "markdown",
   "metadata": {},
   "source": [
    "# Standardize RATED Category"
   ]
  },
  {
   "cell_type": "code",
   "execution_count": 20,
   "metadata": {
    "id": "6R-8-HHvj4W8"
   },
   "outputs": [],
   "source": [
    "# Captalize RATED column \n",
    "movie_series_df['RATED'] = movie_series_df['RATED'].str.upper()"
   ]
  },
  {
   "cell_type": "code",
   "execution_count": 21,
   "metadata": {
    "colab": {
     "base_uri": "https://localhost:8080/"
    },
    "id": "DPKomZ6zpQuk",
    "outputId": "83f1f4b3-b698-446b-8af2-654c2ed2993b"
   },
   "outputs": [
    {
     "name": "stdout",
     "output_type": "stream",
     "text": [
      "['G' 'PG' 'PG-13' 'R' 'PASSED' 'NOT RATED' 'UNRATED' 'TV-14' 'NC-17'\n",
      " 'APPROVED' 'TV-MA' 'X' 'TV-PG' 'M/PG' 'GP' 'TV-Y7' 'M' 'TV-G' 'TV-Y7-FV'\n",
      " '16' 'OPEN' 'TV-13' 'TV-Y' 'E' 'S' 'AO' 'LIVRE' '15' '13' 'E10+' 'MA-17'\n",
      " '12']\n",
      "\n",
      "Number of Unique Values = 32\n"
     ]
    }
   ],
   "source": [
    "# Check for the unique values in Rated column\n",
    "print(movie_series_df['RATED'].unique())\n",
    "print(\"\\nNumber of Unique Values =\", movie_series_df['RATED'].nunique())"
   ]
  },
  {
   "cell_type": "code",
   "execution_count": 22,
   "metadata": {
    "id": "KfNMYMJ5CBV5"
   },
   "outputs": [],
   "source": [
    "movie_series_df[['RATED']] = movie_series_df[['RATED']].replace(dict.fromkeys(['OPEN', 'UNRATED', 'G', 'TV-G', 'LIVRE', 'E', 'BTL', 'S', 'K-3'], 'G'))\n",
    "movie_series_df[['RATED']] = movie_series_df[['RATED']].replace(dict.fromkeys(['R', 'TV-MA', 'M-PG' 'NC-17', 'AO', 'X', 'O.AL.'], 'R'))\n",
    "movie_series_df[['RATED']] = movie_series_df[['RATED']].replace(dict.fromkeys(['TV-Y7-FV', 'TV-Y7'], 'TV-Y7'))\n",
    "movie_series_df[['RATED']] = movie_series_df[['RATED']].replace(dict.fromkeys(['MA-13', 'TV-13', '13'], 'MA-13'))\n",
    "movie_series_df[['RATED']] = movie_series_df[['RATED']].replace(dict.fromkeys(['M', '15'], 'M'))\n",
    "movie_series_df[['RATED']] = movie_series_df[['RATED']].replace(dict.fromkeys(['MA-17', 'M-PG', '16'], 'MA-17'))\n",
    "movie_series_df[['RATED']] = movie_series_df[['RATED']].replace(dict.fromkeys(['NOT RATED', 'UNRATED', 'Unrated', 'Not Rated'], 'PG'))"
   ]
  },
  {
   "cell_type": "code",
   "execution_count": 23,
   "metadata": {
    "colab": {
     "base_uri": "https://localhost:8080/"
    },
    "id": "zjwTp-5_B2K2",
    "outputId": "62bd6681-ff7f-4e71-8dae-1b2eab978a3f"
   },
   "outputs": [
    {
     "name": "stdout",
     "output_type": "stream",
     "text": [
      "['G' 'PG' 'PG-13' 'R' 'PASSED' 'TV-14' 'NC-17' 'APPROVED' 'TV-PG' 'M/PG'\n",
      " 'GP' 'TV-Y7' 'M' 'MA-17' 'MA-13' 'TV-Y' 'E10+' '12']\n",
      "\n",
      "Total Unique Ratings = 18\n"
     ]
    }
   ],
   "source": [
    "print(movie_series_df['RATED'].unique())\n",
    "print()\n",
    "print('Total Unique Ratings =', len(movie_series_df['RATED'].unique()))"
   ]
  },
  {
   "cell_type": "code",
   "execution_count": 24,
   "metadata": {
    "colab": {
     "base_uri": "https://localhost:8080/"
    },
    "id": "LGpC1NU4CTtz",
    "outputId": "161003a4-b0af-43b9-cad7-24720dfa46de"
   },
   "outputs": [
    {
     "name": "stdout",
     "output_type": "stream",
     "text": [
      "['G' 'PG' 'PG-13' 'R']\n",
      "\n",
      "Total Unique Ratings = 4\n"
     ]
    }
   ],
   "source": [
    "movie_series_df[['RATED']] = movie_series_df[['RATED']].replace(dict.fromkeys(['M', 'MA-13', 'UNAVAILABLE'], 'PG-13'))\n",
    "movie_series_df[['RATED']] = movie_series_df[['RATED']].replace(dict.fromkeys(['NC-17', 'MA-17'], 'R'))\n",
    "movie_series_df[['RATED']] = movie_series_df[['RATED']].replace(dict.fromkeys(['GP', 'E10+', '12','M/PG', 'TV-PG', 'TV-14'], 'PG'))\n",
    "movie_series_df[['RATED']] = movie_series_df[['RATED']].replace(dict.fromkeys(['TV-Y7','TV-Y'], 'G'))\n",
    "movie_series_df[['RATED']] = movie_series_df[['RATED']].replace(dict.fromkeys(['APPROVED','PASSED'], 'G'))\n",
    "print(movie_series_df['RATED'].unique())\n",
    "print()\n",
    "print('Total Unique Ratings =', len(movie_series_df['RATED'].unique()))"
   ]
  },
  {
   "cell_type": "markdown",
   "metadata": {},
   "source": [
    "# EDA"
   ]
  },
  {
   "cell_type": "code",
   "execution_count": 25,
   "metadata": {
    "colab": {
     "base_uri": "https://localhost:8080/",
     "height": 369
    },
    "id": "ltWf8CXWCZeq",
    "outputId": "379e08ce-685f-4558-849e-52a9796198e5"
   },
   "outputs": [
    {
     "data": {
      "image/png": "[encoded data removed]",
      "text/plain": [
       "<Figure size 1080x360 with 1 Axes>"
      ]
     },
     "metadata": {
      "needs_background": "light"
     },
     "output_type": "display_data"
    }
   ],
   "source": [
    "# Analysis of Rated Movies and Web Series\n",
    "plt.figure(figsize=(15,5))\n",
    "sns.countplot(x=\"RATED\", data = movie_series_df, color =\"#4472C4\", order = movie_series_df['RATED'].value_counts().index[0:19])\n",
    "plt.title('Rating Analysis of Movies and Web Series')\n",
    "plt.xticks(rotation=90)\n",
    "plt.show()"
   ]
  },
  {
   "cell_type": "code",
   "execution_count": 26,
   "metadata": {
    "colab": {
     "base_uri": "https://localhost:8080/",
     "height": 589
    },
    "id": "Xpu_upq8Cct3",
    "outputId": "8f4163d0-2c27-4d2e-d3ce-03c93fff8ccf"
   },
   "outputs": [
    {
     "data": {
      "text/plain": [
       "<AxesSubplot:title={'center':'Year Wise Analysis'}, xlabel='count', ylabel='YEAR'>"
      ]
     },
     "execution_count": 26,
     "metadata": {},
     "output_type": "execute_result"
    },
    {
     "data": {
      "image/png": "[encoded data removed]",
      "text/plain": [
       "<Figure size 1440x720 with 1 Axes>"
      ]
     },
     "metadata": {
      "needs_background": "light"
     },
     "output_type": "display_data"
    }
   ],
   "source": [
    "# Year Wise Analysis\n",
    "plt.figure(figsize=(20,10))\n",
    "plt.title('Year Wise Analysis')\n",
    "sns.countplot(y =\"YEAR\", data = movie_series_df, color =\"#4472C4\", order = movie_series_df['YEAR'].value_counts().index[0:20])"
   ]
  },
  {
   "cell_type": "code",
   "execution_count": 27,
   "metadata": {
    "colab": {
     "base_uri": "https://localhost:8080/",
     "height": 534
    },
    "id": "o-FTVOJTCn4-",
    "outputId": "d9460ff1-5ed8-488f-e7aa-5beb3ea63609"
   },
   "outputs": [
    {
     "data": {
      "text/plain": [
       "<AxesSubplot:title={'center':'Genre Wise Analysis'}, xlabel='count', ylabel='GENRE'>"
      ]
     },
     "execution_count": 27,
     "metadata": {},
     "output_type": "execute_result"
    },
    {
     "data": {
      "image/png": "[encoded data removed]",
      "text/plain": [
       "<Figure size 1440x720 with 1 Axes>"
      ]
     },
     "metadata": {
      "needs_background": "light"
     },
     "output_type": "display_data"
    }
   ],
   "source": [
    "# Genre Wise Analysis\n",
    "plt.figure(figsize=(20,10))\n",
    "plt.title('Genre Wise Analysis')\n",
    "sns.countplot(y =\"GENRE\", data = movie_series_df, color =\"#4472C4\", order = movie_series_df['GENRE'].value_counts().index[0:20])"
   ]
  },
  {
   "cell_type": "code",
   "execution_count": 28,
   "metadata": {
    "colab": {
     "base_uri": "https://localhost:8080/",
     "height": 561
    },
    "id": "6drC5VelDBGy",
    "outputId": "0d321f28-5f57-41d1-b8ed-d1bb32b2a828"
   },
   "outputs": [
    {
     "data": {
      "text/plain": [
       "<AxesSubplot:title={'center':'Language Wise Analysis'}, xlabel='count', ylabel='LANGUAGES'>"
      ]
     },
     "execution_count": 28,
     "metadata": {},
     "output_type": "execute_result"
    },
    {
     "data": {
      "image/png": "[encoded data removed]",
      "text/plain": [
       "<Figure size 1440x720 with 1 Axes>"
      ]
     },
     "metadata": {
      "needs_background": "light"
     },
     "output_type": "display_data"
    }
   ],
   "source": [
    "# Language Wise Analysis\n",
    "plt.figure(figsize=(20,10))\n",
    "plt.title('Language Wise Analysis')\n",
    "sns.countplot(y =\"LANGUAGES\", data = movie_series_df, color =\"#4472C4\", order = movie_series_df['LANGUAGES'].value_counts().index[0:20])"
   ]
  },
  {
   "cell_type": "code",
   "execution_count": 29,
   "metadata": {
    "colab": {
     "base_uri": "https://localhost:8080/",
     "height": 411
    },
    "id": "xMUM78L1D1BC",
    "outputId": "4b525d29-ee67-4155-e745-079bdb7facc2"
   },
   "outputs": [
    {
     "data": {
      "text/html": [
       "<div>\n",
       "<style scoped>\n",
       "    .dataframe tbody tr th:only-of-type {\n",
       "        vertical-align: middle;\n",
       "    }\n",
       "\n",
       "    .dataframe tbody tr th {\n",
       "        vertical-align: top;\n",
       "    }\n",
       "\n",
       "    .dataframe thead th {\n",
       "        text-align: right;\n",
       "    }\n",
       "</style>\n",
       "<table border=\"1\" class=\"dataframe\">\n",
       "  <thead>\n",
       "    <tr style=\"text-align: right;\">\n",
       "      <th></th>\n",
       "      <th>USER_ID</th>\n",
       "      <th>TITLE_ID</th>\n",
       "    </tr>\n",
       "  </thead>\n",
       "  <tbody>\n",
       "    <tr>\n",
       "      <th>0</th>\n",
       "      <td>1</td>\n",
       "      <td>307</td>\n",
       "    </tr>\n",
       "    <tr>\n",
       "      <th>1</th>\n",
       "      <td>1</td>\n",
       "      <td>481</td>\n",
       "    </tr>\n",
       "    <tr>\n",
       "      <th>2</th>\n",
       "      <td>1</td>\n",
       "      <td>1091</td>\n",
       "    </tr>\n",
       "    <tr>\n",
       "      <th>3</th>\n",
       "      <td>1</td>\n",
       "      <td>1257</td>\n",
       "    </tr>\n",
       "    <tr>\n",
       "      <th>4</th>\n",
       "      <td>1</td>\n",
       "      <td>1449</td>\n",
       "    </tr>\n",
       "    <tr>\n",
       "      <th>...</th>\n",
       "      <td>...</td>\n",
       "      <td>...</td>\n",
       "    </tr>\n",
       "    <tr>\n",
       "      <th>1669779</th>\n",
       "      <td>3627</td>\n",
       "      <td>199056</td>\n",
       "    </tr>\n",
       "    <tr>\n",
       "      <th>1669780</th>\n",
       "      <td>3627</td>\n",
       "      <td>199210</td>\n",
       "    </tr>\n",
       "    <tr>\n",
       "      <th>1669781</th>\n",
       "      <td>3627</td>\n",
       "      <td>194882</td>\n",
       "    </tr>\n",
       "    <tr>\n",
       "      <th>1669782</th>\n",
       "      <td>3627</td>\n",
       "      <td>217207</td>\n",
       "    </tr>\n",
       "    <tr>\n",
       "      <th>1669783</th>\n",
       "      <td>3627</td>\n",
       "      <td>213128</td>\n",
       "    </tr>\n",
       "  </tbody>\n",
       "</table>\n",
       "<p>1669784 rows × 2 columns</p>\n",
       "</div>"
      ],
      "text/plain": [
       "         USER_ID  TITLE_ID\n",
       "0              1       307\n",
       "1              1       481\n",
       "2              1      1091\n",
       "3              1      1257\n",
       "4              1      1449\n",
       "...          ...       ...\n",
       "1669779     3627    199056\n",
       "1669780     3627    199210\n",
       "1669781     3627    194882\n",
       "1669782     3627    217207\n",
       "1669783     3627    213128\n",
       "\n",
       "[1669784 rows x 2 columns]"
      ]
     },
     "execution_count": 29,
     "metadata": {},
     "output_type": "execute_result"
    }
   ],
   "source": [
    "mv_srs_user_df"
   ]
  },
  {
   "cell_type": "code",
   "execution_count": 30,
   "metadata": {
    "colab": {
     "base_uri": "https://localhost:8080/"
    },
    "id": "EZVe_MA2FL2u",
    "outputId": "eeb464ee-2731-4bf9-ff8d-1be63a2e69a5"
   },
   "outputs": [
    {
     "name": "stdout",
     "output_type": "stream",
     "text": [
      "CPU times: user 287 ms, sys: 71.7 ms, total: 359 ms\n",
      "Wall time: 372 ms\n"
     ]
    },
    {
     "data": {
      "text/plain": [
       "(1350397, 11)"
      ]
     },
     "execution_count": 30,
     "metadata": {},
     "output_type": "execute_result"
    }
   ],
   "source": [
    "%%time\n",
    "# Merge movie and movie_uid to get User ID for the movie dataset\n",
    "mv_srs_user_df = pd.merge(mv_srs_user_df, movie_series_df)\n",
    "mv_srs_user_df.shape"
   ]
  },
  {
   "cell_type": "markdown",
   "metadata": {},
   "source": [
    "# Dataset Sampling "
   ]
  },
  {
   "cell_type": "code",
   "execution_count": 31,
   "metadata": {
    "colab": {
     "base_uri": "https://localhost:8080/",
     "height": 508
    },
    "id": "Ph73h2gOIKc3",
    "outputId": "5ed2bea7-3c63-4e96-b90c-c37aa763428b"
   },
   "outputs": [
    {
     "name": "stdout",
     "output_type": "stream",
     "text": [
      "(146631, 11)\n"
     ]
    },
    {
     "data": {
      "text/html": [
       "<div>\n",
       "<style scoped>\n",
       "    .dataframe tbody tr th:only-of-type {\n",
       "        vertical-align: middle;\n",
       "    }\n",
       "\n",
       "    .dataframe tbody tr th {\n",
       "        vertical-align: top;\n",
       "    }\n",
       "\n",
       "    .dataframe thead th {\n",
       "        text-align: right;\n",
       "    }\n",
       "</style>\n",
       "<table border=\"1\" class=\"dataframe\">\n",
       "  <thead>\n",
       "    <tr style=\"text-align: right;\">\n",
       "      <th></th>\n",
       "      <th>USER_ID</th>\n",
       "      <th>TITLE_ID</th>\n",
       "      <th>TITLE</th>\n",
       "      <th>IMDB_SCORE</th>\n",
       "      <th>TYPE</th>\n",
       "      <th>GENRE</th>\n",
       "      <th>POSTER</th>\n",
       "      <th>ACTORS</th>\n",
       "      <th>RATED</th>\n",
       "      <th>LANGUAGES</th>\n",
       "      <th>YEAR</th>\n",
       "    </tr>\n",
       "  </thead>\n",
       "  <tbody>\n",
       "    <tr>\n",
       "      <th>0</th>\n",
       "      <td>1</td>\n",
       "      <td>307</td>\n",
       "      <td>Three Colors: Blue</td>\n",
       "      <td>7.9</td>\n",
       "      <td>movie</td>\n",
       "      <td>Drama, Music, Mystery</td>\n",
       "      <td>https://m.media-amazon.com/images/M/MV5BZWU5NW...</td>\n",
       "      <td>Juliette Binoche, Zbigniew Zamachowski, Julie ...</td>\n",
       "      <td>R</td>\n",
       "      <td>French</td>\n",
       "      <td>1993</td>\n",
       "    </tr>\n",
       "    <tr>\n",
       "      <th>1</th>\n",
       "      <td>6</td>\n",
       "      <td>307</td>\n",
       "      <td>Three Colors: Blue</td>\n",
       "      <td>7.9</td>\n",
       "      <td>movie</td>\n",
       "      <td>Drama, Music, Mystery</td>\n",
       "      <td>https://m.media-amazon.com/images/M/MV5BZWU5NW...</td>\n",
       "      <td>Juliette Binoche, Zbigniew Zamachowski, Julie ...</td>\n",
       "      <td>R</td>\n",
       "      <td>French</td>\n",
       "      <td>1993</td>\n",
       "    </tr>\n",
       "    <tr>\n",
       "      <th>2</th>\n",
       "      <td>56</td>\n",
       "      <td>307</td>\n",
       "      <td>Three Colors: Blue</td>\n",
       "      <td>7.9</td>\n",
       "      <td>movie</td>\n",
       "      <td>Drama, Music, Mystery</td>\n",
       "      <td>https://m.media-amazon.com/images/M/MV5BZWU5NW...</td>\n",
       "      <td>Juliette Binoche, Zbigniew Zamachowski, Julie ...</td>\n",
       "      <td>R</td>\n",
       "      <td>French</td>\n",
       "      <td>1993</td>\n",
       "    </tr>\n",
       "    <tr>\n",
       "      <th>3</th>\n",
       "      <td>71</td>\n",
       "      <td>307</td>\n",
       "      <td>Three Colors: Blue</td>\n",
       "      <td>7.9</td>\n",
       "      <td>movie</td>\n",
       "      <td>Drama, Music, Mystery</td>\n",
       "      <td>https://m.media-amazon.com/images/M/MV5BZWU5NW...</td>\n",
       "      <td>Juliette Binoche, Zbigniew Zamachowski, Julie ...</td>\n",
       "      <td>R</td>\n",
       "      <td>French</td>\n",
       "      <td>1993</td>\n",
       "    </tr>\n",
       "    <tr>\n",
       "      <th>4</th>\n",
       "      <td>84</td>\n",
       "      <td>307</td>\n",
       "      <td>Three Colors: Blue</td>\n",
       "      <td>7.9</td>\n",
       "      <td>movie</td>\n",
       "      <td>Drama, Music, Mystery</td>\n",
       "      <td>https://m.media-amazon.com/images/M/MV5BZWU5NW...</td>\n",
       "      <td>Juliette Binoche, Zbigniew Zamachowski, Julie ...</td>\n",
       "      <td>R</td>\n",
       "      <td>French</td>\n",
       "      <td>1993</td>\n",
       "    </tr>\n",
       "  </tbody>\n",
       "</table>\n",
       "</div>"
      ],
      "text/plain": [
       "   USER_ID  TITLE_ID               TITLE  IMDB_SCORE   TYPE  \\\n",
       "0        1       307  Three Colors: Blue         7.9  movie   \n",
       "1        6       307  Three Colors: Blue         7.9  movie   \n",
       "2       56       307  Three Colors: Blue         7.9  movie   \n",
       "3       71       307  Three Colors: Blue         7.9  movie   \n",
       "4       84       307  Three Colors: Blue         7.9  movie   \n",
       "\n",
       "                   GENRE                                             POSTER  \\\n",
       "0  Drama, Music, Mystery  https://m.media-amazon.com/images/M/MV5BZWU5NW...   \n",
       "1  Drama, Music, Mystery  https://m.media-amazon.com/images/M/MV5BZWU5NW...   \n",
       "2  Drama, Music, Mystery  https://m.media-amazon.com/images/M/MV5BZWU5NW...   \n",
       "3  Drama, Music, Mystery  https://m.media-amazon.com/images/M/MV5BZWU5NW...   \n",
       "4  Drama, Music, Mystery  https://m.media-amazon.com/images/M/MV5BZWU5NW...   \n",
       "\n",
       "                                              ACTORS RATED LANGUAGES  YEAR  \n",
       "0  Juliette Binoche, Zbigniew Zamachowski, Julie ...     R    French  1993  \n",
       "1  Juliette Binoche, Zbigniew Zamachowski, Julie ...     R    French  1993  \n",
       "2  Juliette Binoche, Zbigniew Zamachowski, Julie ...     R    French  1993  \n",
       "3  Juliette Binoche, Zbigniew Zamachowski, Julie ...     R    French  1993  \n",
       "4  Juliette Binoche, Zbigniew Zamachowski, Julie ...     R    French  1993  "
      ]
     },
     "execution_count": 31,
     "metadata": {},
     "output_type": "execute_result"
    }
   ],
   "source": [
    "mv_srs_user_sample_df_1 = mv_srs_user_df.query('1 <= USER_ID <= 100')\n",
    "mv_srs_user_sample_df_2 = mv_srs_user_df.query('1000 <= USER_ID <= 1100')\n",
    "mv_srs_user_sample_df_3 = mv_srs_user_df.query('2000 <= USER_ID <= 2100')\n",
    "mv_srs_user_sample_df_4 = mv_srs_user_df.query('3000 <= USER_ID <= 3100')\n",
    "mv_srs_user_sample_df_5 = mv_srs_user_df.query('4000 <= USER_ID <= 4100')\n",
    "mv_srs_user_sample_df_6 = mv_srs_user_df.query('5000 <= USER_ID <= 5100')\n",
    "mv_srs_user_sample_df_7 = mv_srs_user_df.query('6000 <= USER_ID <= 6100')\n",
    "mv_srs_user_sample_df_8 = mv_srs_user_df.query('7000 <= USER_ID <= 7100')\n",
    "mv_srs_user_sample_df_9 = mv_srs_user_df.query('8000 <= USER_ID <= 8100')\n",
    "mv_srs_user_sample_df_10 = mv_srs_user_df.query('9000 <= USER_ID <= 9100')\n",
    "mv_srs_user_sample_df_11 = mv_srs_user_df.query('9900 <= USER_ID <= 10000')\n",
    "\n",
    "# List of your dataframes\n",
    "pdList = [mv_srs_user_sample_df_1, mv_srs_user_sample_df_2, mv_srs_user_sample_df_3, mv_srs_user_sample_df_4, mv_srs_user_sample_df_5,\n",
    "          mv_srs_user_sample_df_6, mv_srs_user_sample_df_7, mv_srs_user_sample_df_8, mv_srs_user_sample_df_9, mv_srs_user_sample_df_10,\n",
    "          mv_srs_user_sample_df_11] \n",
    "mv_srs_user_sample_df = pd.concat(pdList)\n",
    "print(mv_srs_user_sample_df.shape)\n",
    "mv_srs_user_sample_df.head()"
   ]
  },
  {
   "cell_type": "code",
   "execution_count": 32,
   "metadata": {
    "colab": {
     "base_uri": "https://localhost:8080/",
     "height": 1000
    },
    "id": "FSckWSS8IR3D",
    "outputId": "0bf5d08b-f5ab-45cd-9cf9-410dc7e8e2e8"
   },
   "outputs": [
    {
     "data": {
      "text/html": [
       "<div>\n",
       "<style scoped>\n",
       "    .dataframe tbody tr th:only-of-type {\n",
       "        vertical-align: middle;\n",
       "    }\n",
       "\n",
       "    .dataframe tbody tr th {\n",
       "        vertical-align: top;\n",
       "    }\n",
       "\n",
       "    .dataframe thead th {\n",
       "        text-align: right;\n",
       "    }\n",
       "</style>\n",
       "<table border=\"1\" class=\"dataframe\">\n",
       "  <thead>\n",
       "    <tr style=\"text-align: right;\">\n",
       "      <th></th>\n",
       "      <th>USER_ID</th>\n",
       "      <th>TITLE_ID</th>\n",
       "      <th>TITLE</th>\n",
       "      <th>IMDB_SCORE</th>\n",
       "      <th>TYPE</th>\n",
       "      <th>GENRE</th>\n",
       "      <th>POSTER</th>\n",
       "      <th>ACTORS</th>\n",
       "      <th>RATED</th>\n",
       "      <th>LANGUAGES</th>\n",
       "      <th>YEAR</th>\n",
       "    </tr>\n",
       "  </thead>\n",
       "  <tbody>\n",
       "    <tr>\n",
       "      <th>0</th>\n",
       "      <td>1</td>\n",
       "      <td>307</td>\n",
       "      <td>Three Colors: Blue</td>\n",
       "      <td>7.9</td>\n",
       "      <td>movie</td>\n",
       "      <td>Drama, Music, Mystery</td>\n",
       "      <td>https://m.media-amazon.com/images/M/MV5BZWU5NW...</td>\n",
       "      <td>Juliette Binoche, Zbigniew Zamachowski, Julie ...</td>\n",
       "      <td>R</td>\n",
       "      <td>French</td>\n",
       "      <td>1993</td>\n",
       "    </tr>\n",
       "    <tr>\n",
       "      <th>1</th>\n",
       "      <td>6</td>\n",
       "      <td>307</td>\n",
       "      <td>Three Colors: Blue</td>\n",
       "      <td>7.9</td>\n",
       "      <td>movie</td>\n",
       "      <td>Drama, Music, Mystery</td>\n",
       "      <td>https://m.media-amazon.com/images/M/MV5BZWU5NW...</td>\n",
       "      <td>Juliette Binoche, Zbigniew Zamachowski, Julie ...</td>\n",
       "      <td>R</td>\n",
       "      <td>French</td>\n",
       "      <td>1993</td>\n",
       "    </tr>\n",
       "    <tr>\n",
       "      <th>2</th>\n",
       "      <td>56</td>\n",
       "      <td>307</td>\n",
       "      <td>Three Colors: Blue</td>\n",
       "      <td>7.9</td>\n",
       "      <td>movie</td>\n",
       "      <td>Drama, Music, Mystery</td>\n",
       "      <td>https://m.media-amazon.com/images/M/MV5BZWU5NW...</td>\n",
       "      <td>Juliette Binoche, Zbigniew Zamachowski, Julie ...</td>\n",
       "      <td>R</td>\n",
       "      <td>French</td>\n",
       "      <td>1993</td>\n",
       "    </tr>\n",
       "    <tr>\n",
       "      <th>3</th>\n",
       "      <td>71</td>\n",
       "      <td>307</td>\n",
       "      <td>Three Colors: Blue</td>\n",
       "      <td>7.9</td>\n",
       "      <td>movie</td>\n",
       "      <td>Drama, Music, Mystery</td>\n",
       "      <td>https://m.media-amazon.com/images/M/MV5BZWU5NW...</td>\n",
       "      <td>Juliette Binoche, Zbigniew Zamachowski, Julie ...</td>\n",
       "      <td>R</td>\n",
       "      <td>French</td>\n",
       "      <td>1993</td>\n",
       "    </tr>\n",
       "    <tr>\n",
       "      <th>4</th>\n",
       "      <td>84</td>\n",
       "      <td>307</td>\n",
       "      <td>Three Colors: Blue</td>\n",
       "      <td>7.9</td>\n",
       "      <td>movie</td>\n",
       "      <td>Drama, Music, Mystery</td>\n",
       "      <td>https://m.media-amazon.com/images/M/MV5BZWU5NW...</td>\n",
       "      <td>Juliette Binoche, Zbigniew Zamachowski, Julie ...</td>\n",
       "      <td>R</td>\n",
       "      <td>French</td>\n",
       "      <td>1993</td>\n",
       "    </tr>\n",
       "    <tr>\n",
       "      <th>...</th>\n",
       "      <td>...</td>\n",
       "      <td>...</td>\n",
       "      <td>...</td>\n",
       "      <td>...</td>\n",
       "      <td>...</td>\n",
       "      <td>...</td>\n",
       "      <td>...</td>\n",
       "      <td>...</td>\n",
       "      <td>...</td>\n",
       "      <td>...</td>\n",
       "      <td>...</td>\n",
       "    </tr>\n",
       "    <tr>\n",
       "      <th>1333355</th>\n",
       "      <td>10000</td>\n",
       "      <td>197912</td>\n",
       "      <td>Capitol Critters</td>\n",
       "      <td>7.0</td>\n",
       "      <td>series</td>\n",
       "      <td>Animation, Comedy, Drama</td>\n",
       "      <td>https://m.media-amazon.com/images/M/MV5BNzNjYT...</td>\n",
       "      <td>Neil Patrick Harris, Charlie Adler, Patti Deutsch</td>\n",
       "      <td>PG</td>\n",
       "      <td>English</td>\n",
       "      <td>1992</td>\n",
       "    </tr>\n",
       "    <tr>\n",
       "      <th>1334051</th>\n",
       "      <td>10000</td>\n",
       "      <td>210380</td>\n",
       "      <td>Sword of the Atom</td>\n",
       "      <td>7.2</td>\n",
       "      <td>series</td>\n",
       "      <td>Animation, Sci-Fi</td>\n",
       "      <td>https://m.media-amazon.com/images/M/MV5BYjQ2ZD...</td>\n",
       "      <td>Jason Marsden, David Kaye, Armin Shimerman</td>\n",
       "      <td>G</td>\n",
       "      <td>English</td>\n",
       "      <td>2012</td>\n",
       "    </tr>\n",
       "    <tr>\n",
       "      <th>1338040</th>\n",
       "      <td>10000</td>\n",
       "      <td>216842</td>\n",
       "      <td>H3 Podcast</td>\n",
       "      <td>6.9</td>\n",
       "      <td>series</td>\n",
       "      <td>Comedy, Talk-Show</td>\n",
       "      <td>https://m.media-amazon.com/images/M/MV5BODZhYm...</td>\n",
       "      <td>Ethan Klein, Hila Klein</td>\n",
       "      <td>PG</td>\n",
       "      <td>English</td>\n",
       "      <td>2016</td>\n",
       "    </tr>\n",
       "    <tr>\n",
       "      <th>1338167</th>\n",
       "      <td>10000</td>\n",
       "      <td>195248</td>\n",
       "      <td>Doctor's Orders</td>\n",
       "      <td>6.5</td>\n",
       "      <td>series</td>\n",
       "      <td>Documentary, Crime</td>\n",
       "      <td>https://m.media-amazon.com/images/M/MV5BOGUzNT...</td>\n",
       "      <td>Kim Pack, Adal Ray, Damon Tyner</td>\n",
       "      <td>G</td>\n",
       "      <td>English</td>\n",
       "      <td>2021</td>\n",
       "    </tr>\n",
       "    <tr>\n",
       "      <th>1338178</th>\n",
       "      <td>10000</td>\n",
       "      <td>217714</td>\n",
       "      <td>Survivor 2018</td>\n",
       "      <td>4.6</td>\n",
       "      <td>series</td>\n",
       "      <td>Adventure, Game-Show, Reality-TV</td>\n",
       "      <td>https://m.media-amazon.com/images/M/MV5BZmZiOD...</td>\n",
       "      <td>Hilmi Cem Intepe, Adem Kili\\347\\347i, Acun Ili...</td>\n",
       "      <td>G</td>\n",
       "      <td>Turkish</td>\n",
       "      <td>2018</td>\n",
       "    </tr>\n",
       "  </tbody>\n",
       "</table>\n",
       "<p>146631 rows × 11 columns</p>\n",
       "</div>"
      ],
      "text/plain": [
       "         USER_ID  TITLE_ID               TITLE  IMDB_SCORE    TYPE  \\\n",
       "0              1       307  Three Colors: Blue         7.9   movie   \n",
       "1              6       307  Three Colors: Blue         7.9   movie   \n",
       "2             56       307  Three Colors: Blue         7.9   movie   \n",
       "3             71       307  Three Colors: Blue         7.9   movie   \n",
       "4             84       307  Three Colors: Blue         7.9   movie   \n",
       "...          ...       ...                 ...         ...     ...   \n",
       "1333355    10000    197912    Capitol Critters         7.0  series   \n",
       "1334051    10000    210380   Sword of the Atom         7.2  series   \n",
       "1338040    10000    216842          H3 Podcast         6.9  series   \n",
       "1338167    10000    195248     Doctor's Orders         6.5  series   \n",
       "1338178    10000    217714       Survivor 2018         4.6  series   \n",
       "\n",
       "                                    GENRE  \\\n",
       "0                   Drama, Music, Mystery   \n",
       "1                   Drama, Music, Mystery   \n",
       "2                   Drama, Music, Mystery   \n",
       "3                   Drama, Music, Mystery   \n",
       "4                   Drama, Music, Mystery   \n",
       "...                                   ...   \n",
       "1333355          Animation, Comedy, Drama   \n",
       "1334051                 Animation, Sci-Fi   \n",
       "1338040                 Comedy, Talk-Show   \n",
       "1338167                Documentary, Crime   \n",
       "1338178  Adventure, Game-Show, Reality-TV   \n",
       "\n",
       "                                                    POSTER  \\\n",
       "0        https://m.media-amazon.com/images/M/MV5BZWU5NW...   \n",
       "1        https://m.media-amazon.com/images/M/MV5BZWU5NW...   \n",
       "2        https://m.media-amazon.com/images/M/MV5BZWU5NW...   \n",
       "3        https://m.media-amazon.com/images/M/MV5BZWU5NW...   \n",
       "4        https://m.media-amazon.com/images/M/MV5BZWU5NW...   \n",
       "...                                                    ...   \n",
       "1333355  https://m.media-amazon.com/images/M/MV5BNzNjYT...   \n",
       "1334051  https://m.media-amazon.com/images/M/MV5BYjQ2ZD...   \n",
       "1338040  https://m.media-amazon.com/images/M/MV5BODZhYm...   \n",
       "1338167  https://m.media-amazon.com/images/M/MV5BOGUzNT...   \n",
       "1338178  https://m.media-amazon.com/images/M/MV5BZmZiOD...   \n",
       "\n",
       "                                                    ACTORS RATED LANGUAGES  \\\n",
       "0        Juliette Binoche, Zbigniew Zamachowski, Julie ...     R    French   \n",
       "1        Juliette Binoche, Zbigniew Zamachowski, Julie ...     R    French   \n",
       "2        Juliette Binoche, Zbigniew Zamachowski, Julie ...     R    French   \n",
       "3        Juliette Binoche, Zbigniew Zamachowski, Julie ...     R    French   \n",
       "4        Juliette Binoche, Zbigniew Zamachowski, Julie ...     R    French   \n",
       "...                                                    ...   ...       ...   \n",
       "1333355  Neil Patrick Harris, Charlie Adler, Patti Deutsch    PG   English   \n",
       "1334051         Jason Marsden, David Kaye, Armin Shimerman     G   English   \n",
       "1338040                            Ethan Klein, Hila Klein    PG   English   \n",
       "1338167                    Kim Pack, Adal Ray, Damon Tyner     G   English   \n",
       "1338178  Hilmi Cem Intepe, Adem Kili\\347\\347i, Acun Ili...     G   Turkish   \n",
       "\n",
       "         YEAR  \n",
       "0        1993  \n",
       "1        1993  \n",
       "2        1993  \n",
       "3        1993  \n",
       "4        1993  \n",
       "...       ...  \n",
       "1333355  1992  \n",
       "1334051  2012  \n",
       "1338040  2016  \n",
       "1338167  2021  \n",
       "1338178  2018  \n",
       "\n",
       "[146631 rows x 11 columns]"
      ]
     },
     "execution_count": 32,
     "metadata": {},
     "output_type": "execute_result"
    }
   ],
   "source": [
    "mv_srs_user_sample_df"
   ]
  },
  {
   "cell_type": "code",
   "execution_count": 33,
   "metadata": {
    "colab": {
     "base_uri": "https://localhost:8080/",
     "height": 1000
    },
    "id": "jlpGK-BC7izW",
    "outputId": "e92f8888-8c4f-44a0-8a9b-f3444806a2e9"
   },
   "outputs": [
    {
     "data": {
      "text/html": [
       "<div>\n",
       "<style scoped>\n",
       "    .dataframe tbody tr th:only-of-type {\n",
       "        vertical-align: middle;\n",
       "    }\n",
       "\n",
       "    .dataframe tbody tr th {\n",
       "        vertical-align: top;\n",
       "    }\n",
       "\n",
       "    .dataframe thead th {\n",
       "        text-align: right;\n",
       "    }\n",
       "</style>\n",
       "<table border=\"1\" class=\"dataframe\">\n",
       "  <thead>\n",
       "    <tr style=\"text-align: right;\">\n",
       "      <th></th>\n",
       "      <th>USER_ID</th>\n",
       "      <th>TITLE_ID</th>\n",
       "      <th>TITLE</th>\n",
       "      <th>IMDB_SCORE</th>\n",
       "      <th>TYPE</th>\n",
       "      <th>GENRE</th>\n",
       "      <th>POSTER</th>\n",
       "      <th>ACTORS</th>\n",
       "      <th>RATED</th>\n",
       "      <th>LANGUAGES</th>\n",
       "      <th>YEAR</th>\n",
       "    </tr>\n",
       "  </thead>\n",
       "  <tbody>\n",
       "    <tr>\n",
       "      <th>0</th>\n",
       "      <td>1</td>\n",
       "      <td>307</td>\n",
       "      <td>Three Colors: Blue</td>\n",
       "      <td>7.9</td>\n",
       "      <td>movie</td>\n",
       "      <td>Drama, Music, Mystery</td>\n",
       "      <td>https://m.media-amazon.com/images/M/MV5BZWU5NW...</td>\n",
       "      <td>Juliette Binoche, Zbigniew Zamachowski, Julie ...</td>\n",
       "      <td>R</td>\n",
       "      <td>French</td>\n",
       "      <td>1993</td>\n",
       "    </tr>\n",
       "    <tr>\n",
       "      <th>332</th>\n",
       "      <td>1</td>\n",
       "      <td>481</td>\n",
       "      <td>Kalifornia</td>\n",
       "      <td>6.7</td>\n",
       "      <td>movie</td>\n",
       "      <td>Crime, Drama, Thriller</td>\n",
       "      <td>https://m.media-amazon.com/images/M/MV5BNDE2OD...</td>\n",
       "      <td>Brad Pitt, Juliette Lewis, Kathy Larson</td>\n",
       "      <td>R</td>\n",
       "      <td>English</td>\n",
       "      <td>1993</td>\n",
       "    </tr>\n",
       "    <tr>\n",
       "      <th>598</th>\n",
       "      <td>1</td>\n",
       "      <td>1091</td>\n",
       "      <td>Curtis's Charm</td>\n",
       "      <td>6.7</td>\n",
       "      <td>movie</td>\n",
       "      <td>Comedy, Drama</td>\n",
       "      <td>https://m.media-amazon.com/images/M/MV5BY2MxOD...</td>\n",
       "      <td>Maurice Dean Wint, Callum Keith Rennie, Rachae...</td>\n",
       "      <td>G</td>\n",
       "      <td>English</td>\n",
       "      <td>1995</td>\n",
       "    </tr>\n",
       "    <tr>\n",
       "      <th>825</th>\n",
       "      <td>1</td>\n",
       "      <td>1257</td>\n",
       "      <td>Better Off Dead...</td>\n",
       "      <td>7.1</td>\n",
       "      <td>movie</td>\n",
       "      <td>Comedy, Romance</td>\n",
       "      <td>https://m.media-amazon.com/images/M/MV5BMzRmMj...</td>\n",
       "      <td>John Cusack, David Ogden Stiers, Kim Darby</td>\n",
       "      <td>PG</td>\n",
       "      <td>English</td>\n",
       "      <td>1985</td>\n",
       "    </tr>\n",
       "    <tr>\n",
       "      <th>1066</th>\n",
       "      <td>1</td>\n",
       "      <td>1449</td>\n",
       "      <td>Waiting for Guffman</td>\n",
       "      <td>7.4</td>\n",
       "      <td>movie</td>\n",
       "      <td>Comedy</td>\n",
       "      <td>https://m.media-amazon.com/images/M/MV5BYWY4OG...</td>\n",
       "      <td>Christopher Guest, Fred Willard, Catherine O'Hara</td>\n",
       "      <td>R</td>\n",
       "      <td>English</td>\n",
       "      <td>1996</td>\n",
       "    </tr>\n",
       "    <tr>\n",
       "      <th>...</th>\n",
       "      <td>...</td>\n",
       "      <td>...</td>\n",
       "      <td>...</td>\n",
       "      <td>...</td>\n",
       "      <td>...</td>\n",
       "      <td>...</td>\n",
       "      <td>...</td>\n",
       "      <td>...</td>\n",
       "      <td>...</td>\n",
       "      <td>...</td>\n",
       "      <td>...</td>\n",
       "    </tr>\n",
       "    <tr>\n",
       "      <th>1326548</th>\n",
       "      <td>9988</td>\n",
       "      <td>195661</td>\n",
       "      <td>Life with Elizabeth</td>\n",
       "      <td>7.3</td>\n",
       "      <td>series</td>\n",
       "      <td>Comedy</td>\n",
       "      <td>https://m.media-amazon.com/images/M/MV5BMWUwYz...</td>\n",
       "      <td>Betty White, Del Moore, Jack Narz</td>\n",
       "      <td>G</td>\n",
       "      <td>English</td>\n",
       "      <td>1952</td>\n",
       "    </tr>\n",
       "    <tr>\n",
       "      <th>1326596</th>\n",
       "      <td>9989</td>\n",
       "      <td>206848</td>\n",
       "      <td>Livet i Fagervik</td>\n",
       "      <td>7.0</td>\n",
       "      <td>series</td>\n",
       "      <td>Drama</td>\n",
       "      <td>https://m.media-amazon.com/images/M/MV5BOTk5ZT...</td>\n",
       "      <td>Henrik Johansson, Maria Sid, Lars Lind</td>\n",
       "      <td>G</td>\n",
       "      <td>Swedish</td>\n",
       "      <td>2008</td>\n",
       "    </tr>\n",
       "    <tr>\n",
       "      <th>1327843</th>\n",
       "      <td>9999</td>\n",
       "      <td>207549</td>\n",
       "      <td>Atashinchi no danshi</td>\n",
       "      <td>7.1</td>\n",
       "      <td>series</td>\n",
       "      <td>Comedy</td>\n",
       "      <td>https://m.media-amazon.com/images/M/MV5BZjUwMz...</td>\n",
       "      <td>Maki Horikita, Jun Kaname, Yoshinori Okada</td>\n",
       "      <td>G</td>\n",
       "      <td>Japanese</td>\n",
       "      <td>2009</td>\n",
       "    </tr>\n",
       "    <tr>\n",
       "      <th>1328997</th>\n",
       "      <td>10000</td>\n",
       "      <td>202851</td>\n",
       "      <td>Waltz</td>\n",
       "      <td>7.9</td>\n",
       "      <td>series</td>\n",
       "      <td>Drama</td>\n",
       "      <td>https://m.media-amazon.com/images/M/MV5BMTQwMD...</td>\n",
       "      <td>Aart Staartjes, Olga Louzgina, Theo Maassen</td>\n",
       "      <td>G</td>\n",
       "      <td>Dutch</td>\n",
       "      <td>2006</td>\n",
       "    </tr>\n",
       "    <tr>\n",
       "      <th>1338040</th>\n",
       "      <td>10000</td>\n",
       "      <td>216842</td>\n",
       "      <td>H3 Podcast</td>\n",
       "      <td>6.9</td>\n",
       "      <td>series</td>\n",
       "      <td>Comedy, Talk-Show</td>\n",
       "      <td>https://m.media-amazon.com/images/M/MV5BODZhYm...</td>\n",
       "      <td>Ethan Klein, Hila Klein</td>\n",
       "      <td>PG</td>\n",
       "      <td>English</td>\n",
       "      <td>2016</td>\n",
       "    </tr>\n",
       "  </tbody>\n",
       "</table>\n",
       "<p>23255 rows × 11 columns</p>\n",
       "</div>"
      ],
      "text/plain": [
       "         USER_ID  TITLE_ID                 TITLE  IMDB_SCORE    TYPE  \\\n",
       "0              1       307    Three Colors: Blue         7.9   movie   \n",
       "332            1       481            Kalifornia         6.7   movie   \n",
       "598            1      1091        Curtis's Charm         6.7   movie   \n",
       "825            1      1257    Better Off Dead...         7.1   movie   \n",
       "1066           1      1449   Waiting for Guffman         7.4   movie   \n",
       "...          ...       ...                   ...         ...     ...   \n",
       "1326548     9988    195661   Life with Elizabeth         7.3  series   \n",
       "1326596     9989    206848      Livet i Fagervik         7.0  series   \n",
       "1327843     9999    207549  Atashinchi no danshi         7.1  series   \n",
       "1328997    10000    202851                 Waltz         7.9  series   \n",
       "1338040    10000    216842            H3 Podcast         6.9  series   \n",
       "\n",
       "                          GENRE  \\\n",
       "0         Drama, Music, Mystery   \n",
       "332      Crime, Drama, Thriller   \n",
       "598               Comedy, Drama   \n",
       "825             Comedy, Romance   \n",
       "1066                     Comedy   \n",
       "...                         ...   \n",
       "1326548                  Comedy   \n",
       "1326596                   Drama   \n",
       "1327843                  Comedy   \n",
       "1328997                   Drama   \n",
       "1338040       Comedy, Talk-Show   \n",
       "\n",
       "                                                    POSTER  \\\n",
       "0        https://m.media-amazon.com/images/M/MV5BZWU5NW...   \n",
       "332      https://m.media-amazon.com/images/M/MV5BNDE2OD...   \n",
       "598      https://m.media-amazon.com/images/M/MV5BY2MxOD...   \n",
       "825      https://m.media-amazon.com/images/M/MV5BMzRmMj...   \n",
       "1066     https://m.media-amazon.com/images/M/MV5BYWY4OG...   \n",
       "...                                                    ...   \n",
       "1326548  https://m.media-amazon.com/images/M/MV5BMWUwYz...   \n",
       "1326596  https://m.media-amazon.com/images/M/MV5BOTk5ZT...   \n",
       "1327843  https://m.media-amazon.com/images/M/MV5BZjUwMz...   \n",
       "1328997  https://m.media-amazon.com/images/M/MV5BMTQwMD...   \n",
       "1338040  https://m.media-amazon.com/images/M/MV5BODZhYm...   \n",
       "\n",
       "                                                    ACTORS RATED LANGUAGES  \\\n",
       "0        Juliette Binoche, Zbigniew Zamachowski, Julie ...     R    French   \n",
       "332                Brad Pitt, Juliette Lewis, Kathy Larson     R   English   \n",
       "598      Maurice Dean Wint, Callum Keith Rennie, Rachae...     G   English   \n",
       "825             John Cusack, David Ogden Stiers, Kim Darby    PG   English   \n",
       "1066     Christopher Guest, Fred Willard, Catherine O'Hara     R   English   \n",
       "...                                                    ...   ...       ...   \n",
       "1326548                  Betty White, Del Moore, Jack Narz     G   English   \n",
       "1326596             Henrik Johansson, Maria Sid, Lars Lind     G   Swedish   \n",
       "1327843         Maki Horikita, Jun Kaname, Yoshinori Okada     G  Japanese   \n",
       "1328997        Aart Staartjes, Olga Louzgina, Theo Maassen     G     Dutch   \n",
       "1338040                            Ethan Klein, Hila Klein    PG   English   \n",
       "\n",
       "         YEAR  \n",
       "0        1993  \n",
       "332      1993  \n",
       "598      1995  \n",
       "825      1985  \n",
       "1066     1996  \n",
       "...       ...  \n",
       "1326548  1952  \n",
       "1326596  2008  \n",
       "1327843  2009  \n",
       "1328997  2006  \n",
       "1338040  2016  \n",
       "\n",
       "[23255 rows x 11 columns]"
      ]
     },
     "execution_count": 33,
     "metadata": {},
     "output_type": "execute_result"
    }
   ],
   "source": [
    "#Creating EDA Data again for visualizing RATED, YEAR, GENRE, LANGUAGE\n",
    "mv_srs_user_sample_df_eda = mv_srs_user_sample_df.drop_duplicates(subset=['TITLE_ID', 'TYPE', 'IMDB_SCORE'])\n",
    "mv_srs_user_sample_df_eda"
   ]
  },
  {
   "cell_type": "code",
   "execution_count": 34,
   "metadata": {
    "colab": {
     "base_uri": "https://localhost:8080/",
     "height": 369
    },
    "id": "UQZpokws3cRo",
    "outputId": "2f05e097-78d4-47ce-fcc0-52f8f6a597f8"
   },
   "outputs": [
    {
     "data": {
      "image/png": "[encoded data removed]",
      "text/plain": [
       "<Figure size 1080x360 with 1 Axes>"
      ]
     },
     "metadata": {
      "needs_background": "light"
     },
     "output_type": "display_data"
    }
   ],
   "source": [
    "# Analysis of Rated Movies and Web Series after sampling\n",
    "plt.figure(figsize=(15,5))\n",
    "sns.countplot(x=\"RATED\", data = mv_srs_user_sample_df_eda, color =\"#4472C4\", order = mv_srs_user_sample_df_eda['RATED'].value_counts().index[0:19])\n",
    "plt.title('Rating Analysis of Movies and Web Series')\n",
    "plt.xticks(rotation=90)\n",
    "plt.show()"
   ]
  },
  {
   "cell_type": "code",
   "execution_count": 35,
   "metadata": {
    "colab": {
     "base_uri": "https://localhost:8080/",
     "height": 589
    },
    "id": "OkrVnNNu5Fsi",
    "outputId": "8c8d3fac-f439-4e6f-ecce-607aad79a25c"
   },
   "outputs": [
    {
     "data": {
      "text/plain": [
       "<AxesSubplot:title={'center':'Year Wise Analysis'}, xlabel='count', ylabel='YEAR'>"
      ]
     },
     "execution_count": 35,
     "metadata": {},
     "output_type": "execute_result"
    },
    {
     "data": {
      "image/png": "[encoded data removed]",
      "text/plain": [
       "<Figure size 1440x720 with 1 Axes>"
      ]
     },
     "metadata": {
      "needs_background": "light"
     },
     "output_type": "display_data"
    }
   ],
   "source": [
    "# Year Wise Analysis after sampling\n",
    "plt.figure(figsize=(20,10))\n",
    "plt.title('Year Wise Analysis')\n",
    "sns.countplot(y =\"YEAR\", data = mv_srs_user_sample_df_eda, color =\"#4472C4\", order = mv_srs_user_sample_df_eda['YEAR'].value_counts().index[0:20])"
   ]
  },
  {
   "cell_type": "code",
   "execution_count": 36,
   "metadata": {
    "colab": {
     "base_uri": "https://localhost:8080/",
     "height": 534
    },
    "id": "_bSNIo9V5Wdt",
    "outputId": "1868c7b2-24a6-4a71-a65c-14eb9549c8b2"
   },
   "outputs": [
    {
     "data": {
      "text/plain": [
       "<AxesSubplot:title={'center':'Genre Wise Analysis'}, xlabel='count', ylabel='GENRE'>"
      ]
     },
     "execution_count": 36,
     "metadata": {},
     "output_type": "execute_result"
    },
    {
     "data": {
      "image/png": "[encoded data removed]",
      "text/plain": [
       "<Figure size 1440x720 with 1 Axes>"
      ]
     },
     "metadata": {
      "needs_background": "light"
     },
     "output_type": "display_data"
    }
   ],
   "source": [
    "# Genre Wise Analysis after sampling\n",
    "plt.figure(figsize=(20,10))\n",
    "plt.title('Genre Wise Analysis')\n",
    "sns.countplot(y =\"GENRE\", data = mv_srs_user_sample_df_eda, color =\"#4472C4\", order = mv_srs_user_sample_df_eda['GENRE'].value_counts().index[0:20])"
   ]
  },
  {
   "cell_type": "code",
   "execution_count": 37,
   "metadata": {
    "colab": {
     "base_uri": "https://localhost:8080/",
     "height": 561
    },
    "id": "zcmdbmOU5rLj",
    "outputId": "d51e5e38-6343-4734-ccdb-e31c1347e0a8"
   },
   "outputs": [
    {
     "data": {
      "text/plain": [
       "<AxesSubplot:title={'center':'Language Wise Analysis'}, xlabel='count', ylabel='LANGUAGES'>"
      ]
     },
     "execution_count": 37,
     "metadata": {},
     "output_type": "execute_result"
    },
    {
     "data": {
      "image/png": "[encoded data removed]",
      "text/plain": [
       "<Figure size 1440x720 with 1 Axes>"
      ]
     },
     "metadata": {
      "needs_background": "light"
     },
     "output_type": "display_data"
    }
   ],
   "source": [
    "# Language Wise Analysis after sampling\n",
    "plt.figure(figsize=(20,10))\n",
    "plt.title('Language Wise Analysis')\n",
    "sns.countplot(y =\"LANGUAGES\", data = mv_srs_user_sample_df_eda, color =\"#4472C4\", order = mv_srs_user_sample_df_eda['LANGUAGES'].value_counts().index[0:20])"
   ]
  },
  {
   "cell_type": "code",
   "execution_count": 38,
   "metadata": {
    "colab": {
     "base_uri": "https://localhost:8080/",
     "height": 545
    },
    "id": "nJbvXpb4tACM",
    "outputId": "97a10eee-ac8c-4dd3-dc4e-ab65e5355c03"
   },
   "outputs": [
    {
     "data": {
      "image/png": "[encoded data removed]",
      "text/plain": [
       "<Figure size 1080x360 with 1 Axes>"
      ]
     },
     "metadata": {
      "needs_background": "light"
     },
     "output_type": "display_data"
    }
   ],
   "source": [
    "# Analysis of User Viewership for Top 20 Movies after sampling\n",
    "plt.figure(figsize=(15,5))\n",
    "sns.countplot(x=\"TITLE\", data = mv_srs_user_sample_df, color =\"#4472C4\", order = mv_srs_user_sample_df.loc[mv_srs_user_sample_df['TYPE'] == 'movie']['TITLE'].value_counts().index[0:19])\n",
    "plt.title('User Viewership for Top 20 Movies')\n",
    "plt.xticks(rotation=90)\n",
    "plt.ylabel('Users', fontsize=13)\n",
    "plt.xlabel('Movies', fontsize=13)\n",
    "plt.show()"
   ]
  },
  {
   "cell_type": "code",
   "execution_count": 39,
   "metadata": {
    "colab": {
     "base_uri": "https://localhost:8080/",
     "height": 529
    },
    "id": "SzDT168TuQDX",
    "outputId": "3eb7af22-eef7-4a39-d42f-fbaa13c00172"
   },
   "outputs": [
    {
     "data": {
      "image/png": "[encoded data removed]",
      "text/plain": [
       "<Figure size 1080x360 with 1 Axes>"
      ]
     },
     "metadata": {
      "needs_background": "light"
     },
     "output_type": "display_data"
    }
   ],
   "source": [
    "# Analysis of User Viewership for Top 20 Web Series after sampling\n",
    "plt.figure(figsize=(15,5))\n",
    "sns.countplot(x=\"TITLE\", data = mv_srs_user_sample_df, color =\"#4472C4\", order = mv_srs_user_sample_df.loc[mv_srs_user_sample_df['TYPE'] == 'series']['TITLE'].value_counts().index[0:19])\n",
    "plt.title('User Viewership for Top 20 Series')\n",
    "plt.xticks(rotation=90)\n",
    "plt.ylabel('Users', fontsize=13)\n",
    "plt.xlabel('Series', fontsize=13)\n",
    "plt.show()"
   ]
  },
  {
   "cell_type": "code",
   "execution_count": 40,
   "metadata": {
    "colab": {
     "base_uri": "https://localhost:8080/",
     "height": 1000
    },
    "id": "NRulVAFV5bjq",
    "outputId": "0888402a-cdcc-4e26-a5ea-3a6df537cc67"
   },
   "outputs": [
    {
     "data": {
      "image/png": "[encoded data removed]",
      "text/plain": [
       "<Figure size 1152x360 with 2 Axes>"
      ]
     },
     "metadata": {
      "needs_background": "light"
     },
     "output_type": "display_data"
    },
    {
     "name": "stdout",
     "output_type": "stream",
     "text": [
      "CPU times: user 204 ms, sys: 12.9 ms, total: 217 ms\n",
      "Wall time: 219 ms\n"
     ]
    },
    {
     "data": {
      "text/html": [
       "<div>\n",
       "<style scoped>\n",
       "    .dataframe tbody tr th:only-of-type {\n",
       "        vertical-align: middle;\n",
       "    }\n",
       "\n",
       "    .dataframe tbody tr th {\n",
       "        vertical-align: top;\n",
       "    }\n",
       "\n",
       "    .dataframe thead th {\n",
       "        text-align: right;\n",
       "    }\n",
       "</style>\n",
       "<table border=\"1\" class=\"dataframe\">\n",
       "  <thead>\n",
       "    <tr style=\"text-align: right;\">\n",
       "      <th></th>\n",
       "      <th>USER_ID</th>\n",
       "      <th>TITLE_ID</th>\n",
       "      <th>TITLE</th>\n",
       "      <th>IMDB_SCORE</th>\n",
       "      <th>TYPE</th>\n",
       "      <th>GENRE</th>\n",
       "      <th>POSTER</th>\n",
       "      <th>ACTORS</th>\n",
       "      <th>RATED</th>\n",
       "      <th>LANGUAGES</th>\n",
       "      <th>YEAR</th>\n",
       "    </tr>\n",
       "  </thead>\n",
       "  <tbody>\n",
       "    <tr>\n",
       "      <th>0</th>\n",
       "      <td>1</td>\n",
       "      <td>307</td>\n",
       "      <td>Three Colors: Blue</td>\n",
       "      <td>7.9</td>\n",
       "      <td>movie</td>\n",
       "      <td>Drama, Music, Mystery</td>\n",
       "      <td>https://m.media-amazon.com/images/M/MV5BZWU5NW...</td>\n",
       "      <td>Juliette Binoche, Zbigniew Zamachowski, Julie ...</td>\n",
       "      <td>R</td>\n",
       "      <td>French</td>\n",
       "      <td>1993</td>\n",
       "    </tr>\n",
       "    <tr>\n",
       "      <th>1</th>\n",
       "      <td>6</td>\n",
       "      <td>307</td>\n",
       "      <td>Three Colors: Blue</td>\n",
       "      <td>7.9</td>\n",
       "      <td>movie</td>\n",
       "      <td>Drama, Music, Mystery</td>\n",
       "      <td>https://m.media-amazon.com/images/M/MV5BZWU5NW...</td>\n",
       "      <td>Juliette Binoche, Zbigniew Zamachowski, Julie ...</td>\n",
       "      <td>R</td>\n",
       "      <td>French</td>\n",
       "      <td>1993</td>\n",
       "    </tr>\n",
       "    <tr>\n",
       "      <th>2</th>\n",
       "      <td>56</td>\n",
       "      <td>307</td>\n",
       "      <td>Three Colors: Blue</td>\n",
       "      <td>7.9</td>\n",
       "      <td>movie</td>\n",
       "      <td>Drama, Music, Mystery</td>\n",
       "      <td>https://m.media-amazon.com/images/M/MV5BZWU5NW...</td>\n",
       "      <td>Juliette Binoche, Zbigniew Zamachowski, Julie ...</td>\n",
       "      <td>R</td>\n",
       "      <td>French</td>\n",
       "      <td>1993</td>\n",
       "    </tr>\n",
       "    <tr>\n",
       "      <th>3</th>\n",
       "      <td>71</td>\n",
       "      <td>307</td>\n",
       "      <td>Three Colors: Blue</td>\n",
       "      <td>7.9</td>\n",
       "      <td>movie</td>\n",
       "      <td>Drama, Music, Mystery</td>\n",
       "      <td>https://m.media-amazon.com/images/M/MV5BZWU5NW...</td>\n",
       "      <td>Juliette Binoche, Zbigniew Zamachowski, Julie ...</td>\n",
       "      <td>R</td>\n",
       "      <td>French</td>\n",
       "      <td>1993</td>\n",
       "    </tr>\n",
       "    <tr>\n",
       "      <th>4</th>\n",
       "      <td>84</td>\n",
       "      <td>307</td>\n",
       "      <td>Three Colors: Blue</td>\n",
       "      <td>7.9</td>\n",
       "      <td>movie</td>\n",
       "      <td>Drama, Music, Mystery</td>\n",
       "      <td>https://m.media-amazon.com/images/M/MV5BZWU5NW...</td>\n",
       "      <td>Juliette Binoche, Zbigniew Zamachowski, Julie ...</td>\n",
       "      <td>R</td>\n",
       "      <td>French</td>\n",
       "      <td>1993</td>\n",
       "    </tr>\n",
       "    <tr>\n",
       "      <th>...</th>\n",
       "      <td>...</td>\n",
       "      <td>...</td>\n",
       "      <td>...</td>\n",
       "      <td>...</td>\n",
       "      <td>...</td>\n",
       "      <td>...</td>\n",
       "      <td>...</td>\n",
       "      <td>...</td>\n",
       "      <td>...</td>\n",
       "      <td>...</td>\n",
       "      <td>...</td>\n",
       "    </tr>\n",
       "    <tr>\n",
       "      <th>1333355</th>\n",
       "      <td>10000</td>\n",
       "      <td>197912</td>\n",
       "      <td>Capitol Critters</td>\n",
       "      <td>7.0</td>\n",
       "      <td>series</td>\n",
       "      <td>Animation, Comedy, Drama</td>\n",
       "      <td>https://m.media-amazon.com/images/M/MV5BNzNjYT...</td>\n",
       "      <td>Neil Patrick Harris, Charlie Adler, Patti Deutsch</td>\n",
       "      <td>PG</td>\n",
       "      <td>English</td>\n",
       "      <td>1992</td>\n",
       "    </tr>\n",
       "    <tr>\n",
       "      <th>1334051</th>\n",
       "      <td>10000</td>\n",
       "      <td>210380</td>\n",
       "      <td>Sword of the Atom</td>\n",
       "      <td>7.2</td>\n",
       "      <td>series</td>\n",
       "      <td>Animation, Sci-Fi</td>\n",
       "      <td>https://m.media-amazon.com/images/M/MV5BYjQ2ZD...</td>\n",
       "      <td>Jason Marsden, David Kaye, Armin Shimerman</td>\n",
       "      <td>G</td>\n",
       "      <td>English</td>\n",
       "      <td>2012</td>\n",
       "    </tr>\n",
       "    <tr>\n",
       "      <th>1338040</th>\n",
       "      <td>10000</td>\n",
       "      <td>216842</td>\n",
       "      <td>H3 Podcast</td>\n",
       "      <td>6.9</td>\n",
       "      <td>series</td>\n",
       "      <td>Comedy, Talk-Show</td>\n",
       "      <td>https://m.media-amazon.com/images/M/MV5BODZhYm...</td>\n",
       "      <td>Ethan Klein, Hila Klein</td>\n",
       "      <td>PG</td>\n",
       "      <td>English</td>\n",
       "      <td>2016</td>\n",
       "    </tr>\n",
       "    <tr>\n",
       "      <th>1338167</th>\n",
       "      <td>10000</td>\n",
       "      <td>195248</td>\n",
       "      <td>Doctor's Orders</td>\n",
       "      <td>6.5</td>\n",
       "      <td>series</td>\n",
       "      <td>Documentary, Crime</td>\n",
       "      <td>https://m.media-amazon.com/images/M/MV5BOGUzNT...</td>\n",
       "      <td>Kim Pack, Adal Ray, Damon Tyner</td>\n",
       "      <td>G</td>\n",
       "      <td>English</td>\n",
       "      <td>2021</td>\n",
       "    </tr>\n",
       "    <tr>\n",
       "      <th>1338178</th>\n",
       "      <td>10000</td>\n",
       "      <td>217714</td>\n",
       "      <td>Survivor 2018</td>\n",
       "      <td>4.6</td>\n",
       "      <td>series</td>\n",
       "      <td>Adventure, Game-Show, Reality-TV</td>\n",
       "      <td>https://m.media-amazon.com/images/M/MV5BZmZiOD...</td>\n",
       "      <td>Hilmi Cem Intepe, Adem Kili\\347\\347i, Acun Ili...</td>\n",
       "      <td>G</td>\n",
       "      <td>Turkish</td>\n",
       "      <td>2018</td>\n",
       "    </tr>\n",
       "  </tbody>\n",
       "</table>\n",
       "<p>146631 rows × 11 columns</p>\n",
       "</div>"
      ],
      "text/plain": [
       "         USER_ID  TITLE_ID               TITLE  IMDB_SCORE    TYPE  \\\n",
       "0              1       307  Three Colors: Blue         7.9   movie   \n",
       "1              6       307  Three Colors: Blue         7.9   movie   \n",
       "2             56       307  Three Colors: Blue         7.9   movie   \n",
       "3             71       307  Three Colors: Blue         7.9   movie   \n",
       "4             84       307  Three Colors: Blue         7.9   movie   \n",
       "...          ...       ...                 ...         ...     ...   \n",
       "1333355    10000    197912    Capitol Critters         7.0  series   \n",
       "1334051    10000    210380   Sword of the Atom         7.2  series   \n",
       "1338040    10000    216842          H3 Podcast         6.9  series   \n",
       "1338167    10000    195248     Doctor's Orders         6.5  series   \n",
       "1338178    10000    217714       Survivor 2018         4.6  series   \n",
       "\n",
       "                                    GENRE  \\\n",
       "0                   Drama, Music, Mystery   \n",
       "1                   Drama, Music, Mystery   \n",
       "2                   Drama, Music, Mystery   \n",
       "3                   Drama, Music, Mystery   \n",
       "4                   Drama, Music, Mystery   \n",
       "...                                   ...   \n",
       "1333355          Animation, Comedy, Drama   \n",
       "1334051                 Animation, Sci-Fi   \n",
       "1338040                 Comedy, Talk-Show   \n",
       "1338167                Documentary, Crime   \n",
       "1338178  Adventure, Game-Show, Reality-TV   \n",
       "\n",
       "                                                    POSTER  \\\n",
       "0        https://m.media-amazon.com/images/M/MV5BZWU5NW...   \n",
       "1        https://m.media-amazon.com/images/M/MV5BZWU5NW...   \n",
       "2        https://m.media-amazon.com/images/M/MV5BZWU5NW...   \n",
       "3        https://m.media-amazon.com/images/M/MV5BZWU5NW...   \n",
       "4        https://m.media-amazon.com/images/M/MV5BZWU5NW...   \n",
       "...                                                    ...   \n",
       "1333355  https://m.media-amazon.com/images/M/MV5BNzNjYT...   \n",
       "1334051  https://m.media-amazon.com/images/M/MV5BYjQ2ZD...   \n",
       "1338040  https://m.media-amazon.com/images/M/MV5BODZhYm...   \n",
       "1338167  https://m.media-amazon.com/images/M/MV5BOGUzNT...   \n",
       "1338178  https://m.media-amazon.com/images/M/MV5BZmZiOD...   \n",
       "\n",
       "                                                    ACTORS RATED LANGUAGES  \\\n",
       "0        Juliette Binoche, Zbigniew Zamachowski, Julie ...     R    French   \n",
       "1        Juliette Binoche, Zbigniew Zamachowski, Julie ...     R    French   \n",
       "2        Juliette Binoche, Zbigniew Zamachowski, Julie ...     R    French   \n",
       "3        Juliette Binoche, Zbigniew Zamachowski, Julie ...     R    French   \n",
       "4        Juliette Binoche, Zbigniew Zamachowski, Julie ...     R    French   \n",
       "...                                                    ...   ...       ...   \n",
       "1333355  Neil Patrick Harris, Charlie Adler, Patti Deutsch    PG   English   \n",
       "1334051         Jason Marsden, David Kaye, Armin Shimerman     G   English   \n",
       "1338040                            Ethan Klein, Hila Klein    PG   English   \n",
       "1338167                    Kim Pack, Adal Ray, Damon Tyner     G   English   \n",
       "1338178  Hilmi Cem Intepe, Adem Kili\\347\\347i, Acun Ili...     G   Turkish   \n",
       "\n",
       "         YEAR  \n",
       "0        1993  \n",
       "1        1993  \n",
       "2        1993  \n",
       "3        1993  \n",
       "4        1993  \n",
       "...       ...  \n",
       "1333355  1992  \n",
       "1334051  2012  \n",
       "1338040  2016  \n",
       "1338167  2021  \n",
       "1338178  2018  \n",
       "\n",
       "[146631 rows x 11 columns]"
      ]
     },
     "execution_count": 40,
     "metadata": {},
     "output_type": "execute_result"
    }
   ],
   "source": [
    "%%time\n",
    "mv_srs_user_corr_df = mv_srs_user_sample_df.drop(['TITLE', 'USER_ID'], axis = 1)\n",
    "mv_srs_user_corr_df = mv_srs_user_corr_df.drop_duplicates(subset=['TITLE_ID'], keep=False)\n",
    "plt.figure(figsize = (16,5))\n",
    "ax = sns.heatmap(mv_srs_user_corr_df[['TITLE_ID', 'YEAR', 'IMDB_SCORE']].corr(), annot=True)\n",
    "plt.show()\n",
    "mv_srs_user_sample_df"
   ]
  },
  {
   "cell_type": "code",
   "execution_count": 41,
   "metadata": {
    "colab": {
     "base_uri": "https://localhost:8080/"
    },
    "id": "6JLsS5IuLmEG",
    "outputId": "153d55d4-25af-44bd-d239-50640d00c08c"
   },
   "outputs": [
    {
     "name": "stdout",
     "output_type": "stream",
     "text": [
      "<class 'pandas.core.frame.DataFrame'>\n",
      "Int64Index: 146631 entries, 0 to 1338178\n",
      "Data columns (total 11 columns):\n",
      " #   Column      Non-Null Count   Dtype  \n",
      "---  ------      --------------   -----  \n",
      " 0   USER_ID     146631 non-null  int64  \n",
      " 1   TITLE_ID    146631 non-null  int64  \n",
      " 2   TITLE       146631 non-null  object \n",
      " 3   IMDB_SCORE  146631 non-null  float64\n",
      " 4   TYPE        146631 non-null  object \n",
      " 5   GENRE       146631 non-null  object \n",
      " 6   POSTER      146631 non-null  object \n",
      " 7   ACTORS      146631 non-null  object \n",
      " 8   RATED       146631 non-null  object \n",
      " 9   LANGUAGES   146631 non-null  object \n",
      " 10  YEAR        146631 non-null  int64  \n",
      "dtypes: float64(1), int64(3), object(7)\n",
      "memory usage: 13.4+ MB\n"
     ]
    }
   ],
   "source": [
    "# Get the basic info about the data (range, datatypes of each attribute)\n",
    "mv_srs_user_sample_df.info()"
   ]
  },
  {
   "cell_type": "code",
   "execution_count": 42,
   "metadata": {
    "colab": {
     "base_uri": "https://localhost:8080/",
     "height": 291
    },
    "id": "buG9YjgaL3XH",
    "outputId": "b7bce951-1081-4598-e752-2617413dffce"
   },
   "outputs": [
    {
     "data": {
      "text/html": [
       "<div>\n",
       "<style scoped>\n",
       "    .dataframe tbody tr th:only-of-type {\n",
       "        vertical-align: middle;\n",
       "    }\n",
       "\n",
       "    .dataframe tbody tr th {\n",
       "        vertical-align: top;\n",
       "    }\n",
       "\n",
       "    .dataframe thead th {\n",
       "        text-align: right;\n",
       "    }\n",
       "</style>\n",
       "<table border=\"1\" class=\"dataframe\">\n",
       "  <thead>\n",
       "    <tr style=\"text-align: right;\">\n",
       "      <th></th>\n",
       "      <th>USER_ID</th>\n",
       "      <th>TITLE_ID</th>\n",
       "      <th>IMDB_SCORE</th>\n",
       "      <th>YEAR</th>\n",
       "    </tr>\n",
       "  </thead>\n",
       "  <tbody>\n",
       "    <tr>\n",
       "      <th>count</th>\n",
       "      <td>146631.0</td>\n",
       "      <td>146631.0</td>\n",
       "      <td>146631.0</td>\n",
       "      <td>146631.0</td>\n",
       "    </tr>\n",
       "    <tr>\n",
       "      <th>mean</th>\n",
       "      <td>4938.1</td>\n",
       "      <td>98536.2</td>\n",
       "      <td>7.1</td>\n",
       "      <td>1998.5</td>\n",
       "    </tr>\n",
       "    <tr>\n",
       "      <th>std</th>\n",
       "      <td>3233.8</td>\n",
       "      <td>95433.2</td>\n",
       "      <td>1.1</td>\n",
       "      <td>17.0</td>\n",
       "    </tr>\n",
       "    <tr>\n",
       "      <th>min</th>\n",
       "      <td>1.0</td>\n",
       "      <td>1.0</td>\n",
       "      <td>1.0</td>\n",
       "      <td>1894.0</td>\n",
       "    </tr>\n",
       "    <tr>\n",
       "      <th>25%</th>\n",
       "      <td>2039.0</td>\n",
       "      <td>2359.0</td>\n",
       "      <td>6.5</td>\n",
       "      <td>1992.0</td>\n",
       "    </tr>\n",
       "    <tr>\n",
       "      <th>50%</th>\n",
       "      <td>5027.0</td>\n",
       "      <td>67734.0</td>\n",
       "      <td>7.2</td>\n",
       "      <td>2000.0</td>\n",
       "    </tr>\n",
       "    <tr>\n",
       "      <th>75%</th>\n",
       "      <td>8035.0</td>\n",
       "      <td>203121.5</td>\n",
       "      <td>7.8</td>\n",
       "      <td>2011.0</td>\n",
       "    </tr>\n",
       "    <tr>\n",
       "      <th>max</th>\n",
       "      <td>10000.0</td>\n",
       "      <td>219605.0</td>\n",
       "      <td>10.0</td>\n",
       "      <td>2022.0</td>\n",
       "    </tr>\n",
       "  </tbody>\n",
       "</table>\n",
       "</div>"
      ],
      "text/plain": [
       "        USER_ID  TITLE_ID  IMDB_SCORE      YEAR\n",
       "count  146631.0  146631.0    146631.0  146631.0\n",
       "mean     4938.1   98536.2         7.1    1998.5\n",
       "std      3233.8   95433.2         1.1      17.0\n",
       "min         1.0       1.0         1.0    1894.0\n",
       "25%      2039.0    2359.0         6.5    1992.0\n",
       "50%      5027.0   67734.0         7.2    2000.0\n",
       "75%      8035.0  203121.5         7.8    2011.0\n",
       "max     10000.0  219605.0        10.0    2022.0"
      ]
     },
     "execution_count": 42,
     "metadata": {},
     "output_type": "execute_result"
    }
   ],
   "source": [
    "# Statistical summary for the numerical attributes\n",
    "mv_srs_user_sample_df.describe().round(1)"
   ]
  },
  {
   "cell_type": "code",
   "execution_count": 43,
   "metadata": {
    "colab": {
     "base_uri": "https://localhost:8080/",
     "height": 201
    },
    "id": "z-MnUS6DMkE9",
    "outputId": "5097ac6b-9a8a-4ab0-d0af-849ef7232b41"
   },
   "outputs": [
    {
     "data": {
      "text/html": [
       "<div>\n",
       "<style scoped>\n",
       "    .dataframe tbody tr th:only-of-type {\n",
       "        vertical-align: middle;\n",
       "    }\n",
       "\n",
       "    .dataframe tbody tr th {\n",
       "        vertical-align: top;\n",
       "    }\n",
       "\n",
       "    .dataframe thead th {\n",
       "        text-align: right;\n",
       "    }\n",
       "</style>\n",
       "<table border=\"1\" class=\"dataframe\">\n",
       "  <thead>\n",
       "    <tr style=\"text-align: right;\">\n",
       "      <th></th>\n",
       "      <th>count</th>\n",
       "      <th>unique</th>\n",
       "      <th>top</th>\n",
       "      <th>freq</th>\n",
       "    </tr>\n",
       "  </thead>\n",
       "  <tbody>\n",
       "    <tr>\n",
       "      <th>TITLE</th>\n",
       "      <td>146631</td>\n",
       "      <td>22987</td>\n",
       "      <td>Forrest Gump</td>\n",
       "      <td>392</td>\n",
       "    </tr>\n",
       "    <tr>\n",
       "      <th>TYPE</th>\n",
       "      <td>146631</td>\n",
       "      <td>2</td>\n",
       "      <td>movie</td>\n",
       "      <td>86052</td>\n",
       "    </tr>\n",
       "    <tr>\n",
       "      <th>GENRE</th>\n",
       "      <td>146631</td>\n",
       "      <td>1175</td>\n",
       "      <td>Drama</td>\n",
       "      <td>4633</td>\n",
       "    </tr>\n",
       "    <tr>\n",
       "      <th>RATED</th>\n",
       "      <td>146631</td>\n",
       "      <td>4</td>\n",
       "      <td>G</td>\n",
       "      <td>50976</td>\n",
       "    </tr>\n",
       "    <tr>\n",
       "      <th>LANGUAGES</th>\n",
       "      <td>146631</td>\n",
       "      <td>1374</td>\n",
       "      <td>English</td>\n",
       "      <td>97329</td>\n",
       "    </tr>\n",
       "  </tbody>\n",
       "</table>\n",
       "</div>"
      ],
      "text/plain": [
       "            count unique           top   freq\n",
       "TITLE      146631  22987  Forrest Gump    392\n",
       "TYPE       146631      2         movie  86052\n",
       "GENRE      146631   1175         Drama   4633\n",
       "RATED      146631      4             G  50976\n",
       "LANGUAGES  146631   1374       English  97329"
      ]
     },
     "execution_count": 43,
     "metadata": {},
     "output_type": "execute_result"
    }
   ],
   "source": [
    "# Statistical summary for the categorical attributes\n",
    "mv_srs_user_sample_df[['TITLE','TYPE','GENRE', 'RATED','LANGUAGES']].describe(include='object').T"
   ]
  },
  {
   "cell_type": "markdown",
   "metadata": {
    "id": "ooORq8KpMrmz"
   },
   "source": [
    "OBSERVATION:\n",
    "Total number of movies and series present in the dataset is 40,721.\n",
    "Comedy Genre is the most frequently occuring genre in the dataset.\n",
    "Most popular movie/series is forrest gump.\n",
    "Series is popular among users.\n",
    "Most of the movies and series are in English Language."
   ]
  },
  {
   "cell_type": "code",
   "execution_count": 44,
   "metadata": {
    "colab": {
     "base_uri": "https://localhost:8080/"
    },
    "id": "otmsQhIEIXgs",
    "outputId": "1b7440e1-1bdb-4949-bf48-cf6e642dc16a"
   },
   "outputs": [
    {
     "data": {
      "text/plain": [
       "Index(['TITLE_ID', 'TITLE', 'IMDB_SCORE', 'TYPE', 'GENRE', 'POSTER', 'ACTORS',\n",
       "       'RATED', 'LANGUAGES', 'YEAR'],\n",
       "      dtype='object')"
      ]
     },
     "execution_count": 44,
     "metadata": {},
     "output_type": "execute_result"
    }
   ],
   "source": [
    "movies_df.columns"
   ]
  },
  {
   "cell_type": "code",
   "execution_count": 45,
   "metadata": {
    "colab": {
     "base_uri": "https://localhost:8080/"
    },
    "id": "A4t1s3a6JzLD",
    "outputId": "71f89811-1a6e-4e54-98d7-a21c6aebd045"
   },
   "outputs": [
    {
     "data": {
      "text/plain": [
       "Index(['USER_ID', 'TITLE_ID', 'TITLE', 'IMDB_SCORE', 'TYPE', 'GENRE', 'POSTER',\n",
       "       'ACTORS', 'RATED', 'LANGUAGES', 'YEAR'],\n",
       "      dtype='object')"
      ]
     },
     "execution_count": 45,
     "metadata": {},
     "output_type": "execute_result"
    }
   ],
   "source": [
    "mv_srs_user_sample_df.columns"
   ]
  },
  {
   "cell_type": "code",
   "execution_count": 46,
   "metadata": {
    "id": "If5uMhVDJ3PH"
   },
   "outputs": [],
   "source": [
    "mv_srs_user_sample_df = mv_srs_user_sample_df.drop(['POSTER', 'ACTORS'], axis = 1)"
   ]
  },
  {
   "cell_type": "code",
   "execution_count": 47,
   "metadata": {
    "colab": {
     "base_uri": "https://localhost:8080/",
     "height": 201
    },
    "id": "zr_lsKL1KGyV",
    "outputId": "afdc66bb-7047-43ab-e38c-6c6d24dad13e"
   },
   "outputs": [
    {
     "data": {
      "text/html": [
       "<div>\n",
       "<style scoped>\n",
       "    .dataframe tbody tr th:only-of-type {\n",
       "        vertical-align: middle;\n",
       "    }\n",
       "\n",
       "    .dataframe tbody tr th {\n",
       "        vertical-align: top;\n",
       "    }\n",
       "\n",
       "    .dataframe thead th {\n",
       "        text-align: right;\n",
       "    }\n",
       "</style>\n",
       "<table border=\"1\" class=\"dataframe\">\n",
       "  <thead>\n",
       "    <tr style=\"text-align: right;\">\n",
       "      <th></th>\n",
       "      <th>count</th>\n",
       "      <th>unique</th>\n",
       "      <th>top</th>\n",
       "      <th>freq</th>\n",
       "    </tr>\n",
       "  </thead>\n",
       "  <tbody>\n",
       "    <tr>\n",
       "      <th>TITLE</th>\n",
       "      <td>146631</td>\n",
       "      <td>22987</td>\n",
       "      <td>Forrest Gump</td>\n",
       "      <td>392</td>\n",
       "    </tr>\n",
       "    <tr>\n",
       "      <th>TYPE</th>\n",
       "      <td>146631</td>\n",
       "      <td>2</td>\n",
       "      <td>movie</td>\n",
       "      <td>86052</td>\n",
       "    </tr>\n",
       "    <tr>\n",
       "      <th>GENRE</th>\n",
       "      <td>146631</td>\n",
       "      <td>1175</td>\n",
       "      <td>Drama</td>\n",
       "      <td>4633</td>\n",
       "    </tr>\n",
       "    <tr>\n",
       "      <th>RATED</th>\n",
       "      <td>146631</td>\n",
       "      <td>4</td>\n",
       "      <td>G</td>\n",
       "      <td>50976</td>\n",
       "    </tr>\n",
       "    <tr>\n",
       "      <th>LANGUAGES</th>\n",
       "      <td>146631</td>\n",
       "      <td>1374</td>\n",
       "      <td>English</td>\n",
       "      <td>97329</td>\n",
       "    </tr>\n",
       "  </tbody>\n",
       "</table>\n",
       "</div>"
      ],
      "text/plain": [
       "            count unique           top   freq\n",
       "TITLE      146631  22987  Forrest Gump    392\n",
       "TYPE       146631      2         movie  86052\n",
       "GENRE      146631   1175         Drama   4633\n",
       "RATED      146631      4             G  50976\n",
       "LANGUAGES  146631   1374       English  97329"
      ]
     },
     "execution_count": 47,
     "metadata": {},
     "output_type": "execute_result"
    }
   ],
   "source": [
    "mv_srs_user_sample_df.describe(include = 'object').T"
   ]
  },
  {
   "cell_type": "code",
   "execution_count": 48,
   "metadata": {
    "colab": {
     "base_uri": "https://localhost:8080/"
    },
    "id": "KfJ7-BF6OzUT",
    "outputId": "8ccfd94d-7994-4536-f656-00578edbf518"
   },
   "outputs": [
    {
     "data": {
      "text/plain": [
       "(146631, 9)"
      ]
     },
     "execution_count": 48,
     "metadata": {},
     "output_type": "execute_result"
    }
   ],
   "source": [
    "mv_srs_user_sample_df.shape"
   ]
  },
  {
   "cell_type": "markdown",
   "metadata": {},
   "source": [
    "# Genre Splitting & Encoding"
   ]
  },
  {
   "cell_type": "code",
   "execution_count": 49,
   "metadata": {
    "colab": {
     "base_uri": "https://localhost:8080/",
     "height": 284
    },
    "id": "6QjOrpADRInv",
    "outputId": "4629f82d-a007-4db3-d829-a71115d55b37"
   },
   "outputs": [
    {
     "data": {
      "text/html": [
       "<div>\n",
       "<style scoped>\n",
       "    .dataframe tbody tr th:only-of-type {\n",
       "        vertical-align: middle;\n",
       "    }\n",
       "\n",
       "    .dataframe tbody tr th {\n",
       "        vertical-align: top;\n",
       "    }\n",
       "\n",
       "    .dataframe thead th {\n",
       "        text-align: right;\n",
       "    }\n",
       "</style>\n",
       "<table border=\"1\" class=\"dataframe\">\n",
       "  <thead>\n",
       "    <tr style=\"text-align: right;\">\n",
       "      <th></th>\n",
       "      <th>USER_ID</th>\n",
       "      <th>TITLE_ID</th>\n",
       "      <th>TITLE</th>\n",
       "      <th>IMDB_SCORE</th>\n",
       "      <th>TYPE</th>\n",
       "      <th>GENRE</th>\n",
       "      <th>RATED</th>\n",
       "      <th>LANGUAGES</th>\n",
       "      <th>YEAR</th>\n",
       "      <th>Drama</th>\n",
       "      <th>...</th>\n",
       "      <th>Film-Noir</th>\n",
       "      <th>Music</th>\n",
       "      <th>Musical</th>\n",
       "      <th>Game-Show</th>\n",
       "      <th>Sport</th>\n",
       "      <th>War</th>\n",
       "      <th>History</th>\n",
       "      <th>News</th>\n",
       "      <th>Reality-TV</th>\n",
       "      <th>Talk-Show</th>\n",
       "    </tr>\n",
       "  </thead>\n",
       "  <tbody>\n",
       "    <tr>\n",
       "      <th>0</th>\n",
       "      <td>1</td>\n",
       "      <td>307</td>\n",
       "      <td>Three Colors: Blue</td>\n",
       "      <td>7.9</td>\n",
       "      <td>movie</td>\n",
       "      <td>Drama, Music, Mystery</td>\n",
       "      <td>R</td>\n",
       "      <td>French</td>\n",
       "      <td>1993</td>\n",
       "      <td>0</td>\n",
       "      <td>...</td>\n",
       "      <td>0</td>\n",
       "      <td>0</td>\n",
       "      <td>0</td>\n",
       "      <td>0</td>\n",
       "      <td>0</td>\n",
       "      <td>0</td>\n",
       "      <td>0</td>\n",
       "      <td>0</td>\n",
       "      <td>0</td>\n",
       "      <td>0</td>\n",
       "    </tr>\n",
       "    <tr>\n",
       "      <th>1</th>\n",
       "      <td>6</td>\n",
       "      <td>307</td>\n",
       "      <td>Three Colors: Blue</td>\n",
       "      <td>7.9</td>\n",
       "      <td>movie</td>\n",
       "      <td>Drama, Music, Mystery</td>\n",
       "      <td>R</td>\n",
       "      <td>French</td>\n",
       "      <td>1993</td>\n",
       "      <td>0</td>\n",
       "      <td>...</td>\n",
       "      <td>0</td>\n",
       "      <td>0</td>\n",
       "      <td>0</td>\n",
       "      <td>0</td>\n",
       "      <td>0</td>\n",
       "      <td>0</td>\n",
       "      <td>0</td>\n",
       "      <td>0</td>\n",
       "      <td>0</td>\n",
       "      <td>0</td>\n",
       "    </tr>\n",
       "  </tbody>\n",
       "</table>\n",
       "<p>2 rows × 37 columns</p>\n",
       "</div>"
      ],
      "text/plain": [
       "   USER_ID  TITLE_ID               TITLE  IMDB_SCORE   TYPE  \\\n",
       "0        1       307  Three Colors: Blue         7.9  movie   \n",
       "1        6       307  Three Colors: Blue         7.9  movie   \n",
       "\n",
       "                   GENRE RATED LANGUAGES  YEAR  Drama  ...  Film-Noir  Music  \\\n",
       "0  Drama, Music, Mystery     R    French  1993      0  ...          0      0   \n",
       "1  Drama, Music, Mystery     R    French  1993      0  ...          0      0   \n",
       "\n",
       "   Musical  Game-Show  Sport  War  History  News  Reality-TV  Talk-Show  \n",
       "0        0          0      0    0        0     0           0          0  \n",
       "1        0          0      0    0        0     0           0          0  \n",
       "\n",
       "[2 rows x 37 columns]"
      ]
     },
     "execution_count": 49,
     "metadata": {},
     "output_type": "execute_result"
    }
   ],
   "source": [
    "# Splitting Genres into different columns. Here we just create columns and put there initial value as 0\n",
    "genres = mv_srs_user_sample_df.GENRE\n",
    "a = list()\n",
    "for i in genres:\n",
    "    genre = i\n",
    "    a.append(genre.split(','))\n",
    "a = pd.DataFrame(a)   \n",
    "b = a[0].unique()\n",
    "for i in b:\n",
    "    mv_srs_user_sample_df[i] = 0\n",
    "mv_srs_user_sample_df.head(2)"
   ]
  },
  {
   "cell_type": "code",
   "execution_count": 50,
   "metadata": {
    "colab": {
     "base_uri": "https://localhost:8080/"
    },
    "id": "D22IVQeTSrmP",
    "outputId": "9a31988f-8e0a-4fe0-b114-fa27c903f3a2"
   },
   "outputs": [
    {
     "data": {
      "text/plain": [
       "(146631, 37)"
      ]
     },
     "execution_count": 50,
     "metadata": {},
     "output_type": "execute_result"
    }
   ],
   "source": [
    "mv_srs_user_sample_df.shape"
   ]
  },
  {
   "cell_type": "code",
   "execution_count": 51,
   "metadata": {
    "colab": {
     "base_uri": "https://localhost:8080/",
     "height": 808
    },
    "id": "ivJqlEgJRX4K",
    "outputId": "451fe7b8-aa8d-423b-f8ac-be5873c8df35"
   },
   "outputs": [
    {
     "data": {
      "text/html": [
       "<div>\n",
       "<style scoped>\n",
       "    .dataframe tbody tr th:only-of-type {\n",
       "        vertical-align: middle;\n",
       "    }\n",
       "\n",
       "    .dataframe tbody tr th {\n",
       "        vertical-align: top;\n",
       "    }\n",
       "\n",
       "    .dataframe thead th {\n",
       "        text-align: right;\n",
       "    }\n",
       "</style>\n",
       "<table border=\"1\" class=\"dataframe\">\n",
       "  <thead>\n",
       "    <tr style=\"text-align: right;\">\n",
       "      <th></th>\n",
       "      <th>USER_ID</th>\n",
       "      <th>TITLE_ID</th>\n",
       "      <th>TITLE</th>\n",
       "      <th>IMDB_SCORE</th>\n",
       "      <th>TYPE</th>\n",
       "      <th>GENRE</th>\n",
       "      <th>RATED</th>\n",
       "      <th>LANGUAGES</th>\n",
       "      <th>YEAR</th>\n",
       "      <th>Drama</th>\n",
       "      <th>...</th>\n",
       "      <th>Film-Noir</th>\n",
       "      <th>Music</th>\n",
       "      <th>Musical</th>\n",
       "      <th>Game-Show</th>\n",
       "      <th>Sport</th>\n",
       "      <th>War</th>\n",
       "      <th>History</th>\n",
       "      <th>News</th>\n",
       "      <th>Reality-TV</th>\n",
       "      <th>Talk-Show</th>\n",
       "    </tr>\n",
       "  </thead>\n",
       "  <tbody>\n",
       "    <tr>\n",
       "      <th>670911</th>\n",
       "      <td>1073</td>\n",
       "      <td>2188</td>\n",
       "      <td>54</td>\n",
       "      <td>5.8</td>\n",
       "      <td>movie</td>\n",
       "      <td>Drama, Music</td>\n",
       "      <td>R</td>\n",
       "      <td>English</td>\n",
       "      <td>1998</td>\n",
       "      <td>1</td>\n",
       "      <td>...</td>\n",
       "      <td>0</td>\n",
       "      <td>1</td>\n",
       "      <td>0</td>\n",
       "      <td>0</td>\n",
       "      <td>0</td>\n",
       "      <td>0</td>\n",
       "      <td>0</td>\n",
       "      <td>0</td>\n",
       "      <td>0</td>\n",
       "      <td>0</td>\n",
       "    </tr>\n",
       "    <tr>\n",
       "      <th>1148070</th>\n",
       "      <td>1052</td>\n",
       "      <td>204805</td>\n",
       "      <td>The Movies That Made Us</td>\n",
       "      <td>7.6</td>\n",
       "      <td>series</td>\n",
       "      <td>Documentary, Family, History</td>\n",
       "      <td>PG</td>\n",
       "      <td>English</td>\n",
       "      <td>2019</td>\n",
       "      <td>0</td>\n",
       "      <td>...</td>\n",
       "      <td>0</td>\n",
       "      <td>0</td>\n",
       "      <td>0</td>\n",
       "      <td>0</td>\n",
       "      <td>0</td>\n",
       "      <td>0</td>\n",
       "      <td>1</td>\n",
       "      <td>0</td>\n",
       "      <td>0</td>\n",
       "      <td>0</td>\n",
       "    </tr>\n",
       "    <tr>\n",
       "      <th>609608</th>\n",
       "      <td>1055</td>\n",
       "      <td>34334</td>\n",
       "      <td>Stealth</td>\n",
       "      <td>5.0</td>\n",
       "      <td>movie</td>\n",
       "      <td>Action, Adventure, Sci-Fi</td>\n",
       "      <td>PG-13</td>\n",
       "      <td>English, Korean, Russian, Spanish</td>\n",
       "      <td>2005</td>\n",
       "      <td>0</td>\n",
       "      <td>...</td>\n",
       "      <td>0</td>\n",
       "      <td>0</td>\n",
       "      <td>0</td>\n",
       "      <td>0</td>\n",
       "      <td>0</td>\n",
       "      <td>0</td>\n",
       "      <td>0</td>\n",
       "      <td>0</td>\n",
       "      <td>0</td>\n",
       "      <td>0</td>\n",
       "    </tr>\n",
       "    <tr>\n",
       "      <th>170457</th>\n",
       "      <td>1040</td>\n",
       "      <td>1779</td>\n",
       "      <td>Sphere</td>\n",
       "      <td>6.1</td>\n",
       "      <td>movie</td>\n",
       "      <td>Action, Mystery, Sci-Fi</td>\n",
       "      <td>PG-13</td>\n",
       "      <td>English</td>\n",
       "      <td>1998</td>\n",
       "      <td>0</td>\n",
       "      <td>...</td>\n",
       "      <td>0</td>\n",
       "      <td>0</td>\n",
       "      <td>0</td>\n",
       "      <td>0</td>\n",
       "      <td>0</td>\n",
       "      <td>0</td>\n",
       "      <td>0</td>\n",
       "      <td>0</td>\n",
       "      <td>0</td>\n",
       "      <td>0</td>\n",
       "    </tr>\n",
       "    <tr>\n",
       "      <th>1126924</th>\n",
       "      <td>1042</td>\n",
       "      <td>212531</td>\n",
       "      <td>Gap Dong</td>\n",
       "      <td>7.4</td>\n",
       "      <td>series</td>\n",
       "      <td>Crime, Drama, Mystery</td>\n",
       "      <td>G</td>\n",
       "      <td>Korean</td>\n",
       "      <td>2014</td>\n",
       "      <td>1</td>\n",
       "      <td>...</td>\n",
       "      <td>0</td>\n",
       "      <td>0</td>\n",
       "      <td>0</td>\n",
       "      <td>0</td>\n",
       "      <td>0</td>\n",
       "      <td>0</td>\n",
       "      <td>0</td>\n",
       "      <td>0</td>\n",
       "      <td>0</td>\n",
       "      <td>0</td>\n",
       "    </tr>\n",
       "    <tr>\n",
       "      <th>844011</th>\n",
       "      <td>5055</td>\n",
       "      <td>203968</td>\n",
       "      <td>Ijon Tichy: Raumpilot</td>\n",
       "      <td>7.6</td>\n",
       "      <td>series</td>\n",
       "      <td>Comedy, Sci-Fi</td>\n",
       "      <td>G</td>\n",
       "      <td>German</td>\n",
       "      <td>2007</td>\n",
       "      <td>0</td>\n",
       "      <td>...</td>\n",
       "      <td>0</td>\n",
       "      <td>0</td>\n",
       "      <td>0</td>\n",
       "      <td>0</td>\n",
       "      <td>0</td>\n",
       "      <td>0</td>\n",
       "      <td>0</td>\n",
       "      <td>0</td>\n",
       "      <td>0</td>\n",
       "      <td>0</td>\n",
       "    </tr>\n",
       "    <tr>\n",
       "      <th>710545</th>\n",
       "      <td>9010</td>\n",
       "      <td>5957</td>\n",
       "      <td>Two Weeks Notice</td>\n",
       "      <td>6.1</td>\n",
       "      <td>movie</td>\n",
       "      <td>Comedy, Romance</td>\n",
       "      <td>PG-13</td>\n",
       "      <td>English</td>\n",
       "      <td>2002</td>\n",
       "      <td>0</td>\n",
       "      <td>...</td>\n",
       "      <td>0</td>\n",
       "      <td>0</td>\n",
       "      <td>0</td>\n",
       "      <td>0</td>\n",
       "      <td>0</td>\n",
       "      <td>0</td>\n",
       "      <td>0</td>\n",
       "      <td>0</td>\n",
       "      <td>0</td>\n",
       "      <td>0</td>\n",
       "    </tr>\n",
       "    <tr>\n",
       "      <th>164810</th>\n",
       "      <td>1094</td>\n",
       "      <td>1682</td>\n",
       "      <td>Great Mouse Detective</td>\n",
       "      <td>7.2</td>\n",
       "      <td>movie</td>\n",
       "      <td>Animation, Adventure, Family</td>\n",
       "      <td>G</td>\n",
       "      <td>English</td>\n",
       "      <td>1986</td>\n",
       "      <td>0</td>\n",
       "      <td>...</td>\n",
       "      <td>0</td>\n",
       "      <td>0</td>\n",
       "      <td>0</td>\n",
       "      <td>0</td>\n",
       "      <td>0</td>\n",
       "      <td>0</td>\n",
       "      <td>0</td>\n",
       "      <td>0</td>\n",
       "      <td>0</td>\n",
       "      <td>0</td>\n",
       "    </tr>\n",
       "    <tr>\n",
       "      <th>149651</th>\n",
       "      <td>4048</td>\n",
       "      <td>1270</td>\n",
       "      <td>Back to the Future</td>\n",
       "      <td>8.5</td>\n",
       "      <td>movie</td>\n",
       "      <td>Adventure, Comedy, Sci-Fi</td>\n",
       "      <td>PG</td>\n",
       "      <td>English</td>\n",
       "      <td>1985</td>\n",
       "      <td>0</td>\n",
       "      <td>...</td>\n",
       "      <td>0</td>\n",
       "      <td>0</td>\n",
       "      <td>0</td>\n",
       "      <td>0</td>\n",
       "      <td>0</td>\n",
       "      <td>0</td>\n",
       "      <td>0</td>\n",
       "      <td>0</td>\n",
       "      <td>0</td>\n",
       "      <td>0</td>\n",
       "    </tr>\n",
       "    <tr>\n",
       "      <th>1323047</th>\n",
       "      <td>9051</td>\n",
       "      <td>207491</td>\n",
       "      <td>The League of Super Evil</td>\n",
       "      <td>6.4</td>\n",
       "      <td>series</td>\n",
       "      <td>Animation, Action, Comedy</td>\n",
       "      <td>G</td>\n",
       "      <td>English</td>\n",
       "      <td>2009</td>\n",
       "      <td>0</td>\n",
       "      <td>...</td>\n",
       "      <td>0</td>\n",
       "      <td>0</td>\n",
       "      <td>0</td>\n",
       "      <td>0</td>\n",
       "      <td>0</td>\n",
       "      <td>0</td>\n",
       "      <td>0</td>\n",
       "      <td>0</td>\n",
       "      <td>0</td>\n",
       "      <td>0</td>\n",
       "    </tr>\n",
       "  </tbody>\n",
       "</table>\n",
       "<p>10 rows × 37 columns</p>\n",
       "</div>"
      ],
      "text/plain": [
       "         USER_ID  TITLE_ID                     TITLE  IMDB_SCORE    TYPE  \\\n",
       "670911      1073      2188                        54         5.8   movie   \n",
       "1148070     1052    204805   The Movies That Made Us         7.6  series   \n",
       "609608      1055     34334                   Stealth         5.0   movie   \n",
       "170457      1040      1779                    Sphere         6.1   movie   \n",
       "1126924     1042    212531                  Gap Dong         7.4  series   \n",
       "844011      5055    203968     Ijon Tichy: Raumpilot         7.6  series   \n",
       "710545      9010      5957          Two Weeks Notice         6.1   movie   \n",
       "164810      1094      1682     Great Mouse Detective         7.2   movie   \n",
       "149651      4048      1270        Back to the Future         8.5   movie   \n",
       "1323047     9051    207491  The League of Super Evil         6.4  series   \n",
       "\n",
       "                                GENRE  RATED  \\\n",
       "670911                   Drama, Music      R   \n",
       "1148070  Documentary, Family, History     PG   \n",
       "609608      Action, Adventure, Sci-Fi  PG-13   \n",
       "170457        Action, Mystery, Sci-Fi  PG-13   \n",
       "1126924         Crime, Drama, Mystery      G   \n",
       "844011                 Comedy, Sci-Fi      G   \n",
       "710545                Comedy, Romance  PG-13   \n",
       "164810   Animation, Adventure, Family      G   \n",
       "149651      Adventure, Comedy, Sci-Fi     PG   \n",
       "1323047     Animation, Action, Comedy      G   \n",
       "\n",
       "                                 LANGUAGES  YEAR  Drama  ...  Film-Noir  \\\n",
       "670911                             English  1998      1  ...          0   \n",
       "1148070                            English  2019      0  ...          0   \n",
       "609608   English, Korean, Russian, Spanish  2005      0  ...          0   \n",
       "170457                             English  1998      0  ...          0   \n",
       "1126924                             Korean  2014      1  ...          0   \n",
       "844011                              German  2007      0  ...          0   \n",
       "710545                             English  2002      0  ...          0   \n",
       "164810                             English  1986      0  ...          0   \n",
       "149651                             English  1985      0  ...          0   \n",
       "1323047                            English  2009      0  ...          0   \n",
       "\n",
       "         Music  Musical  Game-Show  Sport  War  History  News  Reality-TV  \\\n",
       "670911       1        0          0      0    0        0     0           0   \n",
       "1148070      0        0          0      0    0        1     0           0   \n",
       "609608       0        0          0      0    0        0     0           0   \n",
       "170457       0        0          0      0    0        0     0           0   \n",
       "1126924      0        0          0      0    0        0     0           0   \n",
       "844011       0        0          0      0    0        0     0           0   \n",
       "710545       0        0          0      0    0        0     0           0   \n",
       "164810       0        0          0      0    0        0     0           0   \n",
       "149651       0        0          0      0    0        0     0           0   \n",
       "1323047      0        0          0      0    0        0     0           0   \n",
       "\n",
       "         Talk-Show  \n",
       "670911           0  \n",
       "1148070          0  \n",
       "609608           0  \n",
       "170457           0  \n",
       "1126924          0  \n",
       "844011           0  \n",
       "710545           0  \n",
       "164810           0  \n",
       "149651           0  \n",
       "1323047          0  \n",
       "\n",
       "[10 rows x 37 columns]"
      ]
     },
     "execution_count": 51,
     "metadata": {},
     "output_type": "execute_result"
    }
   ],
   "source": [
    "# Assign 1 to all the columns which are present in the Genres\n",
    "for i in b:\n",
    "    mv_srs_user_sample_df.loc[mv_srs_user_sample_df['GENRE'].str.contains(i), i] = 1\n",
    "\n",
    "mv_srs_user_sample_df.sample(10)"
   ]
  },
  {
   "cell_type": "code",
   "execution_count": 52,
   "metadata": {
    "colab": {
     "base_uri": "https://localhost:8080/",
     "height": 284
    },
    "id": "r8aS7TL2RhS3",
    "outputId": "d5788e01-25fc-4ebc-cbeb-91f5b0e3fa9c"
   },
   "outputs": [
    {
     "data": {
      "text/html": [
       "<div>\n",
       "<style scoped>\n",
       "    .dataframe tbody tr th:only-of-type {\n",
       "        vertical-align: middle;\n",
       "    }\n",
       "\n",
       "    .dataframe tbody tr th {\n",
       "        vertical-align: top;\n",
       "    }\n",
       "\n",
       "    .dataframe thead th {\n",
       "        text-align: right;\n",
       "    }\n",
       "</style>\n",
       "<table border=\"1\" class=\"dataframe\">\n",
       "  <thead>\n",
       "    <tr style=\"text-align: right;\">\n",
       "      <th></th>\n",
       "      <th>USER_ID</th>\n",
       "      <th>TITLE_ID</th>\n",
       "      <th>TITLE</th>\n",
       "      <th>IMDB_SCORE</th>\n",
       "      <th>TYPE</th>\n",
       "      <th>GENRE</th>\n",
       "      <th>RATED</th>\n",
       "      <th>LANGUAGES</th>\n",
       "      <th>YEAR</th>\n",
       "      <th>DRAMA</th>\n",
       "      <th>...</th>\n",
       "      <th>FILM-NOIR</th>\n",
       "      <th>MUSIC</th>\n",
       "      <th>MUSICAL</th>\n",
       "      <th>GAME-SHOW</th>\n",
       "      <th>SPORT</th>\n",
       "      <th>WAR</th>\n",
       "      <th>HISTORY</th>\n",
       "      <th>NEWS</th>\n",
       "      <th>REALITY-TV</th>\n",
       "      <th>TALK-SHOW</th>\n",
       "    </tr>\n",
       "  </thead>\n",
       "  <tbody>\n",
       "    <tr>\n",
       "      <th>0</th>\n",
       "      <td>1</td>\n",
       "      <td>307</td>\n",
       "      <td>Three Colors: Blue</td>\n",
       "      <td>7.9</td>\n",
       "      <td>movie</td>\n",
       "      <td>Drama, Music, Mystery</td>\n",
       "      <td>R</td>\n",
       "      <td>French</td>\n",
       "      <td>1993</td>\n",
       "      <td>1</td>\n",
       "      <td>...</td>\n",
       "      <td>0</td>\n",
       "      <td>1</td>\n",
       "      <td>0</td>\n",
       "      <td>0</td>\n",
       "      <td>0</td>\n",
       "      <td>0</td>\n",
       "      <td>0</td>\n",
       "      <td>0</td>\n",
       "      <td>0</td>\n",
       "      <td>0</td>\n",
       "    </tr>\n",
       "    <tr>\n",
       "      <th>1</th>\n",
       "      <td>6</td>\n",
       "      <td>307</td>\n",
       "      <td>Three Colors: Blue</td>\n",
       "      <td>7.9</td>\n",
       "      <td>movie</td>\n",
       "      <td>Drama, Music, Mystery</td>\n",
       "      <td>R</td>\n",
       "      <td>French</td>\n",
       "      <td>1993</td>\n",
       "      <td>1</td>\n",
       "      <td>...</td>\n",
       "      <td>0</td>\n",
       "      <td>1</td>\n",
       "      <td>0</td>\n",
       "      <td>0</td>\n",
       "      <td>0</td>\n",
       "      <td>0</td>\n",
       "      <td>0</td>\n",
       "      <td>0</td>\n",
       "      <td>0</td>\n",
       "      <td>0</td>\n",
       "    </tr>\n",
       "  </tbody>\n",
       "</table>\n",
       "<p>2 rows × 37 columns</p>\n",
       "</div>"
      ],
      "text/plain": [
       "   USER_ID  TITLE_ID               TITLE  IMDB_SCORE   TYPE  \\\n",
       "0        1       307  Three Colors: Blue         7.9  movie   \n",
       "1        6       307  Three Colors: Blue         7.9  movie   \n",
       "\n",
       "                   GENRE RATED LANGUAGES  YEAR  DRAMA  ...  FILM-NOIR  MUSIC  \\\n",
       "0  Drama, Music, Mystery     R    French  1993      1  ...          0      1   \n",
       "1  Drama, Music, Mystery     R    French  1993      1  ...          0      1   \n",
       "\n",
       "   MUSICAL  GAME-SHOW  SPORT  WAR  HISTORY  NEWS  REALITY-TV  TALK-SHOW  \n",
       "0        0          0      0    0        0     0           0          0  \n",
       "1        0          0      0    0        0     0           0          0  \n",
       "\n",
       "[2 rows x 37 columns]"
      ]
     },
     "execution_count": 52,
     "metadata": {},
     "output_type": "execute_result"
    }
   ],
   "source": [
    "# Capitalize the column names\n",
    "mv_srs_user_sample_df.columns = map(lambda x: str(x).upper(), mv_srs_user_sample_df.columns)\n",
    "\n",
    "mv_srs_user_sample_df.head(2)"
   ]
  },
  {
   "cell_type": "code",
   "execution_count": 53,
   "metadata": {
    "id": "M8s1VFoyR5QH"
   },
   "outputs": [],
   "source": [
    "#Feature Selection for Clustering\n",
    "columns_to_cluster = ['USER_ID', 'TITLE_ID', 'DRAMA', 'CRIME', 'COMEDY', 'HORROR', 'ACTION', 'SHORT', 'ADVENTURE', 'FANTASY', 'ANIMATION', 'BIOGRAPHY', 'DOCUMENTARY', 'MYSTERY', 'THRILLER', 'WESTERN', 'ADULT', 'SCI-FI', 'FAMILY', 'ROMANCE',\n",
    " 'FILM-NOIR', 'MUSIC', 'MUSICAL', 'GAME-SHOW', 'SPORT', 'WAR', 'HISTORY', 'NEWS', 'REALITY-TV', 'TALK-SHOW']\n"
   ]
  },
  {
   "cell_type": "markdown",
   "metadata": {},
   "source": [
    "# Scaling the sample dataset"
   ]
  },
  {
   "cell_type": "code",
   "execution_count": 54,
   "metadata": {
    "colab": {
     "base_uri": "https://localhost:8080/"
    },
    "id": "T6cc6BcMuyol",
    "outputId": "e8410e79-433f-4a88-9410-08918557dbb1"
   },
   "outputs": [],
   "source": [
    "from sklearn.preprocessing import RobustScaler\n",
    "ss = RobustScaler()\n",
    "mv_srs_user_sample_df_scaled = ss.fit_transform(mv_srs_user_sample_df[columns_to_cluster])"
   ]
  },
  {
   "cell_type": "code",
   "execution_count": 55,
   "metadata": {
    "colab": {
     "base_uri": "https://localhost:8080/",
     "height": 309
    },
    "id": "7ey4z0nbu2wR",
    "outputId": "72256e14-49c1-4ab3-fae4-0fdeb67425d3"
   },
   "outputs": [
    {
     "data": {
      "text/html": [
       "<div>\n",
       "<style scoped>\n",
       "    .dataframe tbody tr th:only-of-type {\n",
       "        vertical-align: middle;\n",
       "    }\n",
       "\n",
       "    .dataframe tbody tr th {\n",
       "        vertical-align: top;\n",
       "    }\n",
       "\n",
       "    .dataframe thead th {\n",
       "        text-align: right;\n",
       "    }\n",
       "</style>\n",
       "<table border=\"1\" class=\"dataframe\">\n",
       "  <thead>\n",
       "    <tr style=\"text-align: right;\">\n",
       "      <th></th>\n",
       "      <th>USER_ID_SCALED</th>\n",
       "      <th>TITLE_ID_SCALED</th>\n",
       "      <th>DRAMA_SCALED</th>\n",
       "      <th>CRIME_SCALED</th>\n",
       "      <th>COMEDY_SCALED</th>\n",
       "      <th>HORROR_SCALED</th>\n",
       "      <th>ACTION_SCALED</th>\n",
       "      <th>SHORT_SCALED</th>\n",
       "      <th>ADVENTURE_SCALED</th>\n",
       "      <th>FANTASY_SCALED</th>\n",
       "      <th>...</th>\n",
       "      <th>FILM-NOIR_SCALED</th>\n",
       "      <th>MUSIC_SCALED</th>\n",
       "      <th>MUSICAL_SCALED</th>\n",
       "      <th>GAME-SHOW_SCALED</th>\n",
       "      <th>SPORT_SCALED</th>\n",
       "      <th>WAR_SCALED</th>\n",
       "      <th>HISTORY_SCALED</th>\n",
       "      <th>NEWS_SCALED</th>\n",
       "      <th>REALITY-TV_SCALED</th>\n",
       "      <th>TALK-SHOW_SCALED</th>\n",
       "    </tr>\n",
       "  </thead>\n",
       "  <tbody>\n",
       "    <tr>\n",
       "      <th>0</th>\n",
       "      <td>-0.838225</td>\n",
       "      <td>-0.335855</td>\n",
       "      <td>1.0</td>\n",
       "      <td>0.0</td>\n",
       "      <td>0.0</td>\n",
       "      <td>0.0</td>\n",
       "      <td>0.0</td>\n",
       "      <td>0.0</td>\n",
       "      <td>0.0</td>\n",
       "      <td>0.0</td>\n",
       "      <td>...</td>\n",
       "      <td>0.0</td>\n",
       "      <td>1.0</td>\n",
       "      <td>0.0</td>\n",
       "      <td>0.0</td>\n",
       "      <td>0.0</td>\n",
       "      <td>0.0</td>\n",
       "      <td>0.0</td>\n",
       "      <td>0.0</td>\n",
       "      <td>0.0</td>\n",
       "      <td>0.0</td>\n",
       "    </tr>\n",
       "    <tr>\n",
       "      <th>1</th>\n",
       "      <td>-0.837392</td>\n",
       "      <td>-0.335855</td>\n",
       "      <td>1.0</td>\n",
       "      <td>0.0</td>\n",
       "      <td>0.0</td>\n",
       "      <td>0.0</td>\n",
       "      <td>0.0</td>\n",
       "      <td>0.0</td>\n",
       "      <td>0.0</td>\n",
       "      <td>0.0</td>\n",
       "      <td>...</td>\n",
       "      <td>0.0</td>\n",
       "      <td>1.0</td>\n",
       "      <td>0.0</td>\n",
       "      <td>0.0</td>\n",
       "      <td>0.0</td>\n",
       "      <td>0.0</td>\n",
       "      <td>0.0</td>\n",
       "      <td>0.0</td>\n",
       "      <td>0.0</td>\n",
       "      <td>0.0</td>\n",
       "    </tr>\n",
       "    <tr>\n",
       "      <th>2</th>\n",
       "      <td>-0.829053</td>\n",
       "      <td>-0.335855</td>\n",
       "      <td>1.0</td>\n",
       "      <td>0.0</td>\n",
       "      <td>0.0</td>\n",
       "      <td>0.0</td>\n",
       "      <td>0.0</td>\n",
       "      <td>0.0</td>\n",
       "      <td>0.0</td>\n",
       "      <td>0.0</td>\n",
       "      <td>...</td>\n",
       "      <td>0.0</td>\n",
       "      <td>1.0</td>\n",
       "      <td>0.0</td>\n",
       "      <td>0.0</td>\n",
       "      <td>0.0</td>\n",
       "      <td>0.0</td>\n",
       "      <td>0.0</td>\n",
       "      <td>0.0</td>\n",
       "      <td>0.0</td>\n",
       "      <td>0.0</td>\n",
       "    </tr>\n",
       "    <tr>\n",
       "      <th>3</th>\n",
       "      <td>-0.826551</td>\n",
       "      <td>-0.335855</td>\n",
       "      <td>1.0</td>\n",
       "      <td>0.0</td>\n",
       "      <td>0.0</td>\n",
       "      <td>0.0</td>\n",
       "      <td>0.0</td>\n",
       "      <td>0.0</td>\n",
       "      <td>0.0</td>\n",
       "      <td>0.0</td>\n",
       "      <td>...</td>\n",
       "      <td>0.0</td>\n",
       "      <td>1.0</td>\n",
       "      <td>0.0</td>\n",
       "      <td>0.0</td>\n",
       "      <td>0.0</td>\n",
       "      <td>0.0</td>\n",
       "      <td>0.0</td>\n",
       "      <td>0.0</td>\n",
       "      <td>0.0</td>\n",
       "      <td>0.0</td>\n",
       "    </tr>\n",
       "    <tr>\n",
       "      <th>4</th>\n",
       "      <td>-0.824383</td>\n",
       "      <td>-0.335855</td>\n",
       "      <td>1.0</td>\n",
       "      <td>0.0</td>\n",
       "      <td>0.0</td>\n",
       "      <td>0.0</td>\n",
       "      <td>0.0</td>\n",
       "      <td>0.0</td>\n",
       "      <td>0.0</td>\n",
       "      <td>0.0</td>\n",
       "      <td>...</td>\n",
       "      <td>0.0</td>\n",
       "      <td>1.0</td>\n",
       "      <td>0.0</td>\n",
       "      <td>0.0</td>\n",
       "      <td>0.0</td>\n",
       "      <td>0.0</td>\n",
       "      <td>0.0</td>\n",
       "      <td>0.0</td>\n",
       "      <td>0.0</td>\n",
       "      <td>0.0</td>\n",
       "    </tr>\n",
       "  </tbody>\n",
       "</table>\n",
       "<p>5 rows × 30 columns</p>\n",
       "</div>"
      ],
      "text/plain": [
       "   USER_ID_SCALED  TITLE_ID_SCALED  DRAMA_SCALED  CRIME_SCALED  COMEDY_SCALED  \\\n",
       "0       -0.838225        -0.335855           1.0           0.0            0.0   \n",
       "1       -0.837392        -0.335855           1.0           0.0            0.0   \n",
       "2       -0.829053        -0.335855           1.0           0.0            0.0   \n",
       "3       -0.826551        -0.335855           1.0           0.0            0.0   \n",
       "4       -0.824383        -0.335855           1.0           0.0            0.0   \n",
       "\n",
       "   HORROR_SCALED  ACTION_SCALED  SHORT_SCALED  ADVENTURE_SCALED  \\\n",
       "0            0.0            0.0           0.0               0.0   \n",
       "1            0.0            0.0           0.0               0.0   \n",
       "2            0.0            0.0           0.0               0.0   \n",
       "3            0.0            0.0           0.0               0.0   \n",
       "4            0.0            0.0           0.0               0.0   \n",
       "\n",
       "   FANTASY_SCALED  ...  FILM-NOIR_SCALED  MUSIC_SCALED  MUSICAL_SCALED  \\\n",
       "0             0.0  ...               0.0           1.0             0.0   \n",
       "1             0.0  ...               0.0           1.0             0.0   \n",
       "2             0.0  ...               0.0           1.0             0.0   \n",
       "3             0.0  ...               0.0           1.0             0.0   \n",
       "4             0.0  ...               0.0           1.0             0.0   \n",
       "\n",
       "   GAME-SHOW_SCALED  SPORT_SCALED  WAR_SCALED  HISTORY_SCALED  NEWS_SCALED  \\\n",
       "0               0.0           0.0         0.0             0.0          0.0   \n",
       "1               0.0           0.0         0.0             0.0          0.0   \n",
       "2               0.0           0.0         0.0             0.0          0.0   \n",
       "3               0.0           0.0         0.0             0.0          0.0   \n",
       "4               0.0           0.0         0.0             0.0          0.0   \n",
       "\n",
       "   REALITY-TV_SCALED  TALK-SHOW_SCALED  \n",
       "0                0.0               0.0  \n",
       "1                0.0               0.0  \n",
       "2                0.0               0.0  \n",
       "3                0.0               0.0  \n",
       "4                0.0               0.0  \n",
       "\n",
       "[5 rows x 30 columns]"
      ]
     },
     "execution_count": 55,
     "metadata": {},
     "output_type": "execute_result"
    }
   ],
   "source": [
    "columns_to_cluster_scaled = ['USER_ID_SCALED', 'TITLE_ID_SCALED', 'DRAMA_SCALED', 'CRIME_SCALED', 'COMEDY_SCALED', 'HORROR_SCALED', 'ACTION_SCALED', 'SHORT_SCALED',\n",
    "                             'ADVENTURE_SCALED', 'FANTASY_SCALED', 'ANIMATION_SCALED', 'BIOGRAPHY_SCALED', 'DOCUMENTARY_SCALED', 'MYSTERY_SCALED', 'THRILLER_SCALED', \n",
    "                             'WESTERN_SCALED', 'ADULT_SCALED', 'SCI-FI_SCALED', 'FAMILY_SCALED', 'ROMANCE_SCALED', 'FILM-NOIR_SCALED', 'MUSIC_SCALED', 'MUSICAL_SCALED', \n",
    "                             'GAME-SHOW_SCALED', 'SPORT_SCALED', 'WAR_SCALED', 'HISTORY_SCALED', 'NEWS_SCALED', 'REALITY-TV_SCALED', 'TALK-SHOW_SCALED']\n",
    "\n",
    "mv_srs_user_sample_df_scaled_2 = pd.DataFrame(mv_srs_user_sample_df_scaled, columns=columns_to_cluster_scaled)\n",
    "list(mv_srs_user_sample_df_scaled_2.columns)\n",
    "mv_srs_user_sample_df_scaled_2.head()"
   ]
  },
  {
   "cell_type": "markdown",
   "metadata": {
    "id": "GHRUznl3Ta6Y"
   },
   "source": [
    "# Model Building"
   ]
  },
  {
   "cell_type": "markdown",
   "metadata": {},
   "source": [
    "**Silhouette Visualizer**"
   ]
  },
  {
   "cell_type": "code",
   "execution_count": 56,
   "metadata": {
    "colab": {
     "background_save": true,
     "base_uri": "https://localhost:8080/",
     "height": 1000
    },
    "id": "XR894i2SMrti",
    "outputId": "b8b8f7c9-46c5-442c-f281-3703881c79f4"
   },
   "outputs": [
    {
     "data": {
      "image/png": "[encoded data removed]",
      "text/plain": [
       "<Figure size 576x396 with 1 Axes>"
      ]
     },
     "metadata": {},
     "output_type": "display_data"
    },
    {
     "data": {
      "image/png": "[encoded data removed]",
      "text/plain": [
       "<Figure size 576x396 with 1 Axes>"
      ]
     },
     "metadata": {},
     "output_type": "display_data"
    },
    {
     "data": {
      "image/png": "[encoded data removed]",
      "text/plain": [
       "<Figure size 576x396 with 1 Axes>"
      ]
     },
     "metadata": {},
     "output_type": "display_data"
    },
    {
     "data": {
      "image/png": "[encoded data removed]",
      "text/plain": [
       "<Figure size 576x396 with 1 Axes>"
      ]
     },
     "metadata": {},
     "output_type": "display_data"
    },
    {
     "name": "stdout",
     "output_type": "stream",
     "text": [
      "CPU times: user 42min 18s, sys: 11min 20s, total: 53min 39s\n",
      "Wall time: 39min 56s\n"
     ]
    }
   ],
   "source": [
    "%%time\n",
    "from yellowbrick.cluster import SilhouetteVisualizer\n",
    "\n",
    "for i in [3, 5, 7, 9]:\n",
    "    '''\n",
    "    Create KMeans instance for different number of clusters\n",
    "    '''\n",
    "    km = KMeans(n_clusters = i, random_state = 10)\n",
    "    '''\n",
    "    Create SilhouetteVisualizer instance with KMeans instance\n",
    "    Fit the visualizer\n",
    "    '''\n",
    "\n",
    "    visualizer = SilhouetteVisualizer(km)\n",
    "\n",
    "    visualizer.fit(mv_srs_user_sample_df_scaled_2)\n",
    "    visualizer.show()    "
   ]
  },
  {
   "cell_type": "markdown",
   "metadata": {},
   "source": [
    "**Davies Bouldin Index and** **Calinski Harabasz**"
   ]
  },
  {
   "cell_type": "code",
   "execution_count": 57,
   "metadata": {
    "colab": {
     "background_save": true
    },
    "id": "o0QdGyM4VO9X",
    "outputId": "c1b900a7-8505-4822-c519-c8f97216db02"
   },
   "outputs": [
    {
     "name": "stdout",
     "output_type": "stream",
     "text": [
      "For n_clusters = 3, davies_bouldin_score is 2.5160296297991622\n",
      "For n_clusters = 3, calinski_harabasz_score is 16777.819805361098\n",
      "For n_clusters = 5, davies_bouldin_score is 2.4673429001366314\n",
      "For n_clusters = 5, calinski_harabasz_score is 13827.871392490375\n",
      "For n_clusters = 7, davies_bouldin_score is 2.2270803219466386\n",
      "For n_clusters = 7, calinski_harabasz_score is 12022.338393613976\n",
      "For n_clusters = 9, davies_bouldin_score is 2.1637192340509053\n",
      "For n_clusters = 9, calinski_harabasz_score is 10605.658441379235\n",
      "CPU times: user 35 s, sys: 1.42 s, total: 36.4 s\n",
      "Wall time: 10.2 s\n"
     ]
    }
   ],
   "source": [
    "%%time\n",
    "# Find Optimal number of k Using Silhouette score and metric Euclidean distance\n",
    "n_clusters = [3, 5, 7, 9]\n",
    "\n",
    "for k in n_clusters:\n",
    "    cluster = KMeans(n_clusters = k, random_state = 10)\n",
    "    predict = cluster.fit_predict(mv_srs_user_sample_df_scaled_2)\n",
    "    \n",
    "    # Check the accuracy of the model Using Davies Bouldin Score\n",
    "    db_index = davies_bouldin_score(mv_srs_user_sample_df_scaled_2, predict)\n",
    "    print(\"For n_clusters = {}, davies_bouldin_score is {}\".format(k, db_index))\n",
    "    \n",
    "    # Check the accuracy of the model Using Calinski Harabasz Score\n",
    "    ch_index = calinski_harabasz_score(mv_srs_user_sample_df_scaled_2, predict)\n",
    "    print(\"For n_clusters = {}, calinski_harabasz_score is {}\".format(k, ch_index))"
   ]
  },
  {
   "cell_type": "markdown",
   "metadata": {},
   "source": [
    "**Silhouette score using metrics as euclidean and** **manhattan**"
   ]
  },
  {
   "cell_type": "code",
   "execution_count": 58,
   "metadata": {
    "colab": {
     "base_uri": "https://localhost:8080/"
    },
    "id": "cDbseix7UErk",
    "outputId": "093bb5bf-714a-43d1-d3d6-3864675e6ebe"
   },
   "outputs": [
    {
     "name": "stdout",
     "output_type": "stream",
     "text": [
      "For n_clusters = 3, silhouette score is 0.1292843275006286\n",
      "For n_clusters = 5, silhouette score is 0.11865622135159065\n",
      "For n_clusters = 7, silhouette score is 0.12807667986503957\n",
      "For n_clusters = 9, silhouette score is 0.13110928680886863\n",
      "CPU times: user 22min 6s, sys: 6min 5s, total: 28min 11s\n",
      "Wall time: 22min 24s\n"
     ]
    }
   ],
   "source": [
    "%%time\n",
    "# Find Optimal number of k Using Silhouette score and metric Euclidean distance\n",
    "n_clusters = [3, 5, 7, 9]\n",
    "\n",
    "for k in n_clusters:\n",
    "    cluster = KMeans(n_clusters = k, random_state = 10)\n",
    "    predict = cluster.fit_predict(mv_srs_user_sample_df_scaled_2)  \n",
    "    score = silhouette_score(mv_srs_user_sample_df_scaled_2, predict, metric = 'euclidean')\n",
    "    print(\"For n_clusters = {}, silhouette score is {}\".format(k, score))"
   ]
  },
  {
   "cell_type": "code",
   "execution_count": 59,
   "metadata": {
    "colab": {
     "base_uri": "https://localhost:8080/",
     "height": 492
    },
    "id": "GpwiQkAz1wF5",
    "outputId": "a6a429f5-516c-47c3-e571-97c44eab7f69"
   },
   "outputs": [
    {
     "data": {
      "text/html": [
       "<div>\n",
       "<style scoped>\n",
       "    .dataframe tbody tr th:only-of-type {\n",
       "        vertical-align: middle;\n",
       "    }\n",
       "\n",
       "    .dataframe tbody tr th {\n",
       "        vertical-align: top;\n",
       "    }\n",
       "\n",
       "    .dataframe thead th {\n",
       "        text-align: right;\n",
       "    }\n",
       "</style>\n",
       "<table border=\"1\" class=\"dataframe\">\n",
       "  <thead>\n",
       "    <tr style=\"text-align: right;\">\n",
       "      <th></th>\n",
       "      <th>USER_ID_SCALED</th>\n",
       "      <th>TITLE_ID_SCALED</th>\n",
       "      <th>DRAMA_SCALED</th>\n",
       "      <th>CRIME_SCALED</th>\n",
       "      <th>COMEDY_SCALED</th>\n",
       "      <th>HORROR_SCALED</th>\n",
       "      <th>ACTION_SCALED</th>\n",
       "      <th>SHORT_SCALED</th>\n",
       "      <th>ADVENTURE_SCALED</th>\n",
       "      <th>FANTASY_SCALED</th>\n",
       "      <th>...</th>\n",
       "      <th>FILM-NOIR_SCALED</th>\n",
       "      <th>MUSIC_SCALED</th>\n",
       "      <th>MUSICAL_SCALED</th>\n",
       "      <th>GAME-SHOW_SCALED</th>\n",
       "      <th>SPORT_SCALED</th>\n",
       "      <th>WAR_SCALED</th>\n",
       "      <th>HISTORY_SCALED</th>\n",
       "      <th>NEWS_SCALED</th>\n",
       "      <th>REALITY-TV_SCALED</th>\n",
       "      <th>TALK-SHOW_SCALED</th>\n",
       "    </tr>\n",
       "  </thead>\n",
       "  <tbody>\n",
       "    <tr>\n",
       "      <th>0</th>\n",
       "      <td>-0.838225</td>\n",
       "      <td>-0.335855</td>\n",
       "      <td>1.0</td>\n",
       "      <td>0.0</td>\n",
       "      <td>0.0</td>\n",
       "      <td>0.0</td>\n",
       "      <td>0.0</td>\n",
       "      <td>0.0</td>\n",
       "      <td>0.0</td>\n",
       "      <td>0.0</td>\n",
       "      <td>...</td>\n",
       "      <td>0.0</td>\n",
       "      <td>1.0</td>\n",
       "      <td>0.0</td>\n",
       "      <td>0.0</td>\n",
       "      <td>0.0</td>\n",
       "      <td>0.0</td>\n",
       "      <td>0.0</td>\n",
       "      <td>0.0</td>\n",
       "      <td>0.0</td>\n",
       "      <td>0.0</td>\n",
       "    </tr>\n",
       "    <tr>\n",
       "      <th>1</th>\n",
       "      <td>-0.837392</td>\n",
       "      <td>-0.335855</td>\n",
       "      <td>1.0</td>\n",
       "      <td>0.0</td>\n",
       "      <td>0.0</td>\n",
       "      <td>0.0</td>\n",
       "      <td>0.0</td>\n",
       "      <td>0.0</td>\n",
       "      <td>0.0</td>\n",
       "      <td>0.0</td>\n",
       "      <td>...</td>\n",
       "      <td>0.0</td>\n",
       "      <td>1.0</td>\n",
       "      <td>0.0</td>\n",
       "      <td>0.0</td>\n",
       "      <td>0.0</td>\n",
       "      <td>0.0</td>\n",
       "      <td>0.0</td>\n",
       "      <td>0.0</td>\n",
       "      <td>0.0</td>\n",
       "      <td>0.0</td>\n",
       "    </tr>\n",
       "    <tr>\n",
       "      <th>2</th>\n",
       "      <td>-0.829053</td>\n",
       "      <td>-0.335855</td>\n",
       "      <td>1.0</td>\n",
       "      <td>0.0</td>\n",
       "      <td>0.0</td>\n",
       "      <td>0.0</td>\n",
       "      <td>0.0</td>\n",
       "      <td>0.0</td>\n",
       "      <td>0.0</td>\n",
       "      <td>0.0</td>\n",
       "      <td>...</td>\n",
       "      <td>0.0</td>\n",
       "      <td>1.0</td>\n",
       "      <td>0.0</td>\n",
       "      <td>0.0</td>\n",
       "      <td>0.0</td>\n",
       "      <td>0.0</td>\n",
       "      <td>0.0</td>\n",
       "      <td>0.0</td>\n",
       "      <td>0.0</td>\n",
       "      <td>0.0</td>\n",
       "    </tr>\n",
       "    <tr>\n",
       "      <th>3</th>\n",
       "      <td>-0.826551</td>\n",
       "      <td>-0.335855</td>\n",
       "      <td>1.0</td>\n",
       "      <td>0.0</td>\n",
       "      <td>0.0</td>\n",
       "      <td>0.0</td>\n",
       "      <td>0.0</td>\n",
       "      <td>0.0</td>\n",
       "      <td>0.0</td>\n",
       "      <td>0.0</td>\n",
       "      <td>...</td>\n",
       "      <td>0.0</td>\n",
       "      <td>1.0</td>\n",
       "      <td>0.0</td>\n",
       "      <td>0.0</td>\n",
       "      <td>0.0</td>\n",
       "      <td>0.0</td>\n",
       "      <td>0.0</td>\n",
       "      <td>0.0</td>\n",
       "      <td>0.0</td>\n",
       "      <td>0.0</td>\n",
       "    </tr>\n",
       "    <tr>\n",
       "      <th>4</th>\n",
       "      <td>-0.824383</td>\n",
       "      <td>-0.335855</td>\n",
       "      <td>1.0</td>\n",
       "      <td>0.0</td>\n",
       "      <td>0.0</td>\n",
       "      <td>0.0</td>\n",
       "      <td>0.0</td>\n",
       "      <td>0.0</td>\n",
       "      <td>0.0</td>\n",
       "      <td>0.0</td>\n",
       "      <td>...</td>\n",
       "      <td>0.0</td>\n",
       "      <td>1.0</td>\n",
       "      <td>0.0</td>\n",
       "      <td>0.0</td>\n",
       "      <td>0.0</td>\n",
       "      <td>0.0</td>\n",
       "      <td>0.0</td>\n",
       "      <td>0.0</td>\n",
       "      <td>0.0</td>\n",
       "      <td>0.0</td>\n",
       "    </tr>\n",
       "    <tr>\n",
       "      <th>...</th>\n",
       "      <td>...</td>\n",
       "      <td>...</td>\n",
       "      <td>...</td>\n",
       "      <td>...</td>\n",
       "      <td>...</td>\n",
       "      <td>...</td>\n",
       "      <td>...</td>\n",
       "      <td>...</td>\n",
       "      <td>...</td>\n",
       "      <td>...</td>\n",
       "      <td>...</td>\n",
       "      <td>...</td>\n",
       "      <td>...</td>\n",
       "      <td>...</td>\n",
       "      <td>...</td>\n",
       "      <td>...</td>\n",
       "      <td>...</td>\n",
       "      <td>...</td>\n",
       "      <td>...</td>\n",
       "      <td>...</td>\n",
       "      <td>...</td>\n",
       "    </tr>\n",
       "    <tr>\n",
       "      <th>146626</th>\n",
       "      <td>0.829386</td>\n",
       "      <td>0.648418</td>\n",
       "      <td>1.0</td>\n",
       "      <td>0.0</td>\n",
       "      <td>1.0</td>\n",
       "      <td>0.0</td>\n",
       "      <td>0.0</td>\n",
       "      <td>0.0</td>\n",
       "      <td>0.0</td>\n",
       "      <td>0.0</td>\n",
       "      <td>...</td>\n",
       "      <td>0.0</td>\n",
       "      <td>0.0</td>\n",
       "      <td>0.0</td>\n",
       "      <td>0.0</td>\n",
       "      <td>0.0</td>\n",
       "      <td>0.0</td>\n",
       "      <td>0.0</td>\n",
       "      <td>0.0</td>\n",
       "      <td>0.0</td>\n",
       "      <td>0.0</td>\n",
       "    </tr>\n",
       "    <tr>\n",
       "      <th>146627</th>\n",
       "      <td>0.829386</td>\n",
       "      <td>0.710521</td>\n",
       "      <td>0.0</td>\n",
       "      <td>0.0</td>\n",
       "      <td>0.0</td>\n",
       "      <td>0.0</td>\n",
       "      <td>0.0</td>\n",
       "      <td>0.0</td>\n",
       "      <td>0.0</td>\n",
       "      <td>0.0</td>\n",
       "      <td>...</td>\n",
       "      <td>0.0</td>\n",
       "      <td>0.0</td>\n",
       "      <td>0.0</td>\n",
       "      <td>0.0</td>\n",
       "      <td>0.0</td>\n",
       "      <td>0.0</td>\n",
       "      <td>0.0</td>\n",
       "      <td>0.0</td>\n",
       "      <td>0.0</td>\n",
       "      <td>0.0</td>\n",
       "    </tr>\n",
       "    <tr>\n",
       "      <th>146628</th>\n",
       "      <td>0.829386</td>\n",
       "      <td>0.742708</td>\n",
       "      <td>0.0</td>\n",
       "      <td>0.0</td>\n",
       "      <td>1.0</td>\n",
       "      <td>0.0</td>\n",
       "      <td>0.0</td>\n",
       "      <td>0.0</td>\n",
       "      <td>0.0</td>\n",
       "      <td>0.0</td>\n",
       "      <td>...</td>\n",
       "      <td>0.0</td>\n",
       "      <td>0.0</td>\n",
       "      <td>0.0</td>\n",
       "      <td>0.0</td>\n",
       "      <td>0.0</td>\n",
       "      <td>0.0</td>\n",
       "      <td>0.0</td>\n",
       "      <td>0.0</td>\n",
       "      <td>0.0</td>\n",
       "      <td>1.0</td>\n",
       "    </tr>\n",
       "    <tr>\n",
       "      <th>146629</th>\n",
       "      <td>0.829386</td>\n",
       "      <td>0.635148</td>\n",
       "      <td>0.0</td>\n",
       "      <td>1.0</td>\n",
       "      <td>0.0</td>\n",
       "      <td>0.0</td>\n",
       "      <td>0.0</td>\n",
       "      <td>0.0</td>\n",
       "      <td>0.0</td>\n",
       "      <td>0.0</td>\n",
       "      <td>...</td>\n",
       "      <td>0.0</td>\n",
       "      <td>0.0</td>\n",
       "      <td>0.0</td>\n",
       "      <td>0.0</td>\n",
       "      <td>0.0</td>\n",
       "      <td>0.0</td>\n",
       "      <td>0.0</td>\n",
       "      <td>0.0</td>\n",
       "      <td>0.0</td>\n",
       "      <td>0.0</td>\n",
       "    </tr>\n",
       "    <tr>\n",
       "      <th>146630</th>\n",
       "      <td>0.829386</td>\n",
       "      <td>0.747052</td>\n",
       "      <td>0.0</td>\n",
       "      <td>0.0</td>\n",
       "      <td>0.0</td>\n",
       "      <td>0.0</td>\n",
       "      <td>0.0</td>\n",
       "      <td>0.0</td>\n",
       "      <td>1.0</td>\n",
       "      <td>0.0</td>\n",
       "      <td>...</td>\n",
       "      <td>0.0</td>\n",
       "      <td>0.0</td>\n",
       "      <td>0.0</td>\n",
       "      <td>1.0</td>\n",
       "      <td>0.0</td>\n",
       "      <td>0.0</td>\n",
       "      <td>0.0</td>\n",
       "      <td>0.0</td>\n",
       "      <td>1.0</td>\n",
       "      <td>0.0</td>\n",
       "    </tr>\n",
       "  </tbody>\n",
       "</table>\n",
       "<p>146631 rows × 30 columns</p>\n",
       "</div>"
      ],
      "text/plain": [
       "        USER_ID_SCALED  TITLE_ID_SCALED  DRAMA_SCALED  CRIME_SCALED  \\\n",
       "0            -0.838225        -0.335855           1.0           0.0   \n",
       "1            -0.837392        -0.335855           1.0           0.0   \n",
       "2            -0.829053        -0.335855           1.0           0.0   \n",
       "3            -0.826551        -0.335855           1.0           0.0   \n",
       "4            -0.824383        -0.335855           1.0           0.0   \n",
       "...                ...              ...           ...           ...   \n",
       "146626        0.829386         0.648418           1.0           0.0   \n",
       "146627        0.829386         0.710521           0.0           0.0   \n",
       "146628        0.829386         0.742708           0.0           0.0   \n",
       "146629        0.829386         0.635148           0.0           1.0   \n",
       "146630        0.829386         0.747052           0.0           0.0   \n",
       "\n",
       "        COMEDY_SCALED  HORROR_SCALED  ACTION_SCALED  SHORT_SCALED  \\\n",
       "0                 0.0            0.0            0.0           0.0   \n",
       "1                 0.0            0.0            0.0           0.0   \n",
       "2                 0.0            0.0            0.0           0.0   \n",
       "3                 0.0            0.0            0.0           0.0   \n",
       "4                 0.0            0.0            0.0           0.0   \n",
       "...               ...            ...            ...           ...   \n",
       "146626            1.0            0.0            0.0           0.0   \n",
       "146627            0.0            0.0            0.0           0.0   \n",
       "146628            1.0            0.0            0.0           0.0   \n",
       "146629            0.0            0.0            0.0           0.0   \n",
       "146630            0.0            0.0            0.0           0.0   \n",
       "\n",
       "        ADVENTURE_SCALED  FANTASY_SCALED  ...  FILM-NOIR_SCALED  MUSIC_SCALED  \\\n",
       "0                    0.0             0.0  ...               0.0           1.0   \n",
       "1                    0.0             0.0  ...               0.0           1.0   \n",
       "2                    0.0             0.0  ...               0.0           1.0   \n",
       "3                    0.0             0.0  ...               0.0           1.0   \n",
       "4                    0.0             0.0  ...               0.0           1.0   \n",
       "...                  ...             ...  ...               ...           ...   \n",
       "146626               0.0             0.0  ...               0.0           0.0   \n",
       "146627               0.0             0.0  ...               0.0           0.0   \n",
       "146628               0.0             0.0  ...               0.0           0.0   \n",
       "146629               0.0             0.0  ...               0.0           0.0   \n",
       "146630               1.0             0.0  ...               0.0           0.0   \n",
       "\n",
       "        MUSICAL_SCALED  GAME-SHOW_SCALED  SPORT_SCALED  WAR_SCALED  \\\n",
       "0                  0.0               0.0           0.0         0.0   \n",
       "1                  0.0               0.0           0.0         0.0   \n",
       "2                  0.0               0.0           0.0         0.0   \n",
       "3                  0.0               0.0           0.0         0.0   \n",
       "4                  0.0               0.0           0.0         0.0   \n",
       "...                ...               ...           ...         ...   \n",
       "146626             0.0               0.0           0.0         0.0   \n",
       "146627             0.0               0.0           0.0         0.0   \n",
       "146628             0.0               0.0           0.0         0.0   \n",
       "146629             0.0               0.0           0.0         0.0   \n",
       "146630             0.0               1.0           0.0         0.0   \n",
       "\n",
       "        HISTORY_SCALED  NEWS_SCALED  REALITY-TV_SCALED  TALK-SHOW_SCALED  \n",
       "0                  0.0          0.0                0.0               0.0  \n",
       "1                  0.0          0.0                0.0               0.0  \n",
       "2                  0.0          0.0                0.0               0.0  \n",
       "3                  0.0          0.0                0.0               0.0  \n",
       "4                  0.0          0.0                0.0               0.0  \n",
       "...                ...          ...                ...               ...  \n",
       "146626             0.0          0.0                0.0               0.0  \n",
       "146627             0.0          0.0                0.0               0.0  \n",
       "146628             0.0          0.0                0.0               1.0  \n",
       "146629             0.0          0.0                0.0               0.0  \n",
       "146630             0.0          0.0                1.0               0.0  \n",
       "\n",
       "[146631 rows x 30 columns]"
      ]
     },
     "execution_count": 59,
     "metadata": {},
     "output_type": "execute_result"
    }
   ],
   "source": [
    "mv_srs_user_sample_df_scaled_2"
   ]
  },
  {
   "cell_type": "markdown",
   "metadata": {},
   "source": [
    "# Model training"
   ]
  },
  {
   "cell_type": "code",
   "execution_count": 60,
   "metadata": {
    "colab": {
     "base_uri": "https://localhost:8080/"
    },
    "id": "CURwEBhxlWjj",
    "outputId": "22f77f4a-c179-483f-d479-db1a47f36b8c"
   },
   "outputs": [
    {
     "name": "stdout",
     "output_type": "stream",
     "text": [
      "CPU times: user 12.4 s, sys: 356 ms, total: 12.7 s\n",
      "Wall time: 3.55 s\n"
     ]
    },
    {
     "data": {
      "text/plain": [
       "KMeans(n_clusters=9)"
      ]
     },
     "execution_count": 60,
     "metadata": {},
     "output_type": "execute_result"
    }
   ],
   "source": [
    "%%time\n",
    "model = KMeans(n_clusters = 9)\n",
    "model.fit(mv_srs_user_sample_df_scaled_2)"
   ]
  },
  {
   "cell_type": "code",
   "execution_count": 61,
   "metadata": {
    "colab": {
     "base_uri": "https://localhost:8080/"
    },
    "id": "wRJ2aN5kEp9o",
    "outputId": "01e89215-03a2-4453-9e26-22501457bd29"
   },
   "outputs": [
    {
     "data": {
      "text/plain": [
       "array([1, 1, 1, ..., 4, 6, 6], dtype=int32)"
      ]
     },
     "execution_count": 61,
     "metadata": {},
     "output_type": "execute_result"
    }
   ],
   "source": [
    "model.labels_"
   ]
  },
  {
   "cell_type": "code",
   "execution_count": 62,
   "metadata": {
    "colab": {
     "base_uri": "https://localhost:8080/"
    },
    "id": "BeRTMSXL2tx3",
    "outputId": "5205910c-1844-42ce-e85a-918b5cdd73f1"
   },
   "outputs": [
    {
     "data": {
      "text/plain": [
       "(146631, 30)"
      ]
     },
     "execution_count": 62,
     "metadata": {},
     "output_type": "execute_result"
    }
   ],
   "source": [
    "mv_srs_user_sample_df_scaled_2.shape"
   ]
  },
  {
   "cell_type": "code",
   "execution_count": 63,
   "metadata": {
    "colab": {
     "base_uri": "https://localhost:8080/"
    },
    "id": "Br9BVOfa22WN",
    "outputId": "875ba122-7061-4817-cd47-e7865e267671"
   },
   "outputs": [
    {
     "data": {
      "text/plain": [
       "(146631, 37)"
      ]
     },
     "execution_count": 63,
     "metadata": {},
     "output_type": "execute_result"
    }
   ],
   "source": [
    "mv_srs_user_sample_df.shape"
   ]
  },
  {
   "cell_type": "markdown",
   "metadata": {},
   "source": [
    "**Merging Sample Dataframe with Cluster**"
   ]
  },
  {
   "cell_type": "code",
   "execution_count": 64,
   "metadata": {
    "colab": {
     "base_uri": "https://localhost:8080/"
    },
    "id": "e3bqp6U17pra",
    "outputId": "04c3d61b-9092-4c0c-c5d8-0a84ab0112cf"
   },
   "outputs": [
    {
     "data": {
      "text/plain": [
       "816567     0\n",
       "750961     2\n",
       "819536     6\n",
       "556074     4\n",
       "38395      1\n",
       "1118277    1\n",
       "1172249    1\n",
       "933025     2\n",
       "23885      2\n",
       "1062888    1\n",
       "Name: CLUSTER, dtype: int32"
      ]
     },
     "execution_count": 64,
     "metadata": {},
     "output_type": "execute_result"
    }
   ],
   "source": [
    "# Creating an extra column in data for storing the cluster values\n",
    "mv_srs_user_sample_df['CLUSTER'] = model.labels_\n",
    "mv_srs_user_sample_df['CLUSTER'].sample(n=10)"
   ]
  },
  {
   "cell_type": "code",
   "execution_count": 65,
   "metadata": {
    "colab": {
     "base_uri": "https://localhost:8080/",
     "height": 504
    },
    "id": "xYKvwbEzJLFS",
    "outputId": "7b16b0b0-a3e7-42b0-d5d7-3931190d93ef"
   },
   "outputs": [
    {
     "data": {
      "text/html": [
       "<div>\n",
       "<style scoped>\n",
       "    .dataframe tbody tr th:only-of-type {\n",
       "        vertical-align: middle;\n",
       "    }\n",
       "\n",
       "    .dataframe tbody tr th {\n",
       "        vertical-align: top;\n",
       "    }\n",
       "\n",
       "    .dataframe thead th {\n",
       "        text-align: right;\n",
       "    }\n",
       "</style>\n",
       "<table border=\"1\" class=\"dataframe\">\n",
       "  <thead>\n",
       "    <tr style=\"text-align: right;\">\n",
       "      <th></th>\n",
       "      <th>CLUSTER</th>\n",
       "      <th>USER_ID</th>\n",
       "      <th>TITLE_ID</th>\n",
       "      <th>DRAMA</th>\n",
       "      <th>COMEDY</th>\n",
       "      <th>HORROR</th>\n",
       "      <th>ACTION</th>\n",
       "      <th>SHORT</th>\n",
       "      <th>ADVENTURE</th>\n",
       "      <th>FANTASY</th>\n",
       "    </tr>\n",
       "  </thead>\n",
       "  <tbody>\n",
       "    <tr>\n",
       "      <th>500094</th>\n",
       "      <td>7</td>\n",
       "      <td>4016</td>\n",
       "      <td>69481</td>\n",
       "      <td>1</td>\n",
       "      <td>0</td>\n",
       "      <td>0</td>\n",
       "      <td>0</td>\n",
       "      <td>0</td>\n",
       "      <td>0</td>\n",
       "      <td>0</td>\n",
       "    </tr>\n",
       "    <tr>\n",
       "      <th>1184364</th>\n",
       "      <td>4</td>\n",
       "      <td>9051</td>\n",
       "      <td>199660</td>\n",
       "      <td>0</td>\n",
       "      <td>1</td>\n",
       "      <td>0</td>\n",
       "      <td>0</td>\n",
       "      <td>0</td>\n",
       "      <td>0</td>\n",
       "      <td>0</td>\n",
       "    </tr>\n",
       "    <tr>\n",
       "      <th>306039</th>\n",
       "      <td>8</td>\n",
       "      <td>5061</td>\n",
       "      <td>33794</td>\n",
       "      <td>1</td>\n",
       "      <td>0</td>\n",
       "      <td>0</td>\n",
       "      <td>1</td>\n",
       "      <td>0</td>\n",
       "      <td>0</td>\n",
       "      <td>0</td>\n",
       "    </tr>\n",
       "    <tr>\n",
       "      <th>107648</th>\n",
       "      <td>1</td>\n",
       "      <td>2040</td>\n",
       "      <td>590</td>\n",
       "      <td>1</td>\n",
       "      <td>0</td>\n",
       "      <td>0</td>\n",
       "      <td>0</td>\n",
       "      <td>0</td>\n",
       "      <td>1</td>\n",
       "      <td>0</td>\n",
       "    </tr>\n",
       "    <tr>\n",
       "      <th>516143</th>\n",
       "      <td>1</td>\n",
       "      <td>4062</td>\n",
       "      <td>2411</td>\n",
       "      <td>1</td>\n",
       "      <td>0</td>\n",
       "      <td>0</td>\n",
       "      <td>0</td>\n",
       "      <td>0</td>\n",
       "      <td>0</td>\n",
       "      <td>0</td>\n",
       "    </tr>\n",
       "    <tr>\n",
       "      <th>1031339</th>\n",
       "      <td>1</td>\n",
       "      <td>2063</td>\n",
       "      <td>195102</td>\n",
       "      <td>1</td>\n",
       "      <td>0</td>\n",
       "      <td>1</td>\n",
       "      <td>0</td>\n",
       "      <td>0</td>\n",
       "      <td>0</td>\n",
       "      <td>0</td>\n",
       "    </tr>\n",
       "    <tr>\n",
       "      <th>512450</th>\n",
       "      <td>3</td>\n",
       "      <td>43</td>\n",
       "      <td>4855</td>\n",
       "      <td>0</td>\n",
       "      <td>0</td>\n",
       "      <td>0</td>\n",
       "      <td>1</td>\n",
       "      <td>0</td>\n",
       "      <td>0</td>\n",
       "      <td>0</td>\n",
       "    </tr>\n",
       "    <tr>\n",
       "      <th>900189</th>\n",
       "      <td>1</td>\n",
       "      <td>3079</td>\n",
       "      <td>196165</td>\n",
       "      <td>1</td>\n",
       "      <td>0</td>\n",
       "      <td>0</td>\n",
       "      <td>0</td>\n",
       "      <td>0</td>\n",
       "      <td>1</td>\n",
       "      <td>0</td>\n",
       "    </tr>\n",
       "    <tr>\n",
       "      <th>680055</th>\n",
       "      <td>1</td>\n",
       "      <td>8024</td>\n",
       "      <td>81562</td>\n",
       "      <td>1</td>\n",
       "      <td>0</td>\n",
       "      <td>0</td>\n",
       "      <td>0</td>\n",
       "      <td>0</td>\n",
       "      <td>0</td>\n",
       "      <td>0</td>\n",
       "    </tr>\n",
       "    <tr>\n",
       "      <th>785474</th>\n",
       "      <td>8</td>\n",
       "      <td>6078</td>\n",
       "      <td>195844</td>\n",
       "      <td>1</td>\n",
       "      <td>0</td>\n",
       "      <td>0</td>\n",
       "      <td>0</td>\n",
       "      <td>0</td>\n",
       "      <td>0</td>\n",
       "      <td>0</td>\n",
       "    </tr>\n",
       "    <tr>\n",
       "      <th>192634</th>\n",
       "      <td>2</td>\n",
       "      <td>2043</td>\n",
       "      <td>2391</td>\n",
       "      <td>1</td>\n",
       "      <td>1</td>\n",
       "      <td>0</td>\n",
       "      <td>0</td>\n",
       "      <td>0</td>\n",
       "      <td>0</td>\n",
       "      <td>0</td>\n",
       "    </tr>\n",
       "    <tr>\n",
       "      <th>374964</th>\n",
       "      <td>1</td>\n",
       "      <td>2019</td>\n",
       "      <td>58559</td>\n",
       "      <td>1</td>\n",
       "      <td>0</td>\n",
       "      <td>0</td>\n",
       "      <td>0</td>\n",
       "      <td>0</td>\n",
       "      <td>0</td>\n",
       "      <td>0</td>\n",
       "    </tr>\n",
       "    <tr>\n",
       "      <th>1016510</th>\n",
       "      <td>6</td>\n",
       "      <td>5053</td>\n",
       "      <td>199401</td>\n",
       "      <td>0</td>\n",
       "      <td>0</td>\n",
       "      <td>0</td>\n",
       "      <td>0</td>\n",
       "      <td>0</td>\n",
       "      <td>1</td>\n",
       "      <td>0</td>\n",
       "    </tr>\n",
       "    <tr>\n",
       "      <th>377607</th>\n",
       "      <td>4</td>\n",
       "      <td>6006</td>\n",
       "      <td>64969</td>\n",
       "      <td>0</td>\n",
       "      <td>1</td>\n",
       "      <td>0</td>\n",
       "      <td>0</td>\n",
       "      <td>0</td>\n",
       "      <td>0</td>\n",
       "      <td>0</td>\n",
       "    </tr>\n",
       "    <tr>\n",
       "      <th>1005283</th>\n",
       "      <td>1</td>\n",
       "      <td>3033</td>\n",
       "      <td>208764</td>\n",
       "      <td>1</td>\n",
       "      <td>0</td>\n",
       "      <td>0</td>\n",
       "      <td>0</td>\n",
       "      <td>0</td>\n",
       "      <td>0</td>\n",
       "      <td>1</td>\n",
       "    </tr>\n",
       "  </tbody>\n",
       "</table>\n",
       "</div>"
      ],
      "text/plain": [
       "         CLUSTER  USER_ID  TITLE_ID  DRAMA  COMEDY  HORROR  ACTION  SHORT  \\\n",
       "500094         7     4016     69481      1       0       0       0      0   \n",
       "1184364        4     9051    199660      0       1       0       0      0   \n",
       "306039         8     5061     33794      1       0       0       1      0   \n",
       "107648         1     2040       590      1       0       0       0      0   \n",
       "516143         1     4062      2411      1       0       0       0      0   \n",
       "1031339        1     2063    195102      1       0       1       0      0   \n",
       "512450         3       43      4855      0       0       0       1      0   \n",
       "900189         1     3079    196165      1       0       0       0      0   \n",
       "680055         1     8024     81562      1       0       0       0      0   \n",
       "785474         8     6078    195844      1       0       0       0      0   \n",
       "192634         2     2043      2391      1       1       0       0      0   \n",
       "374964         1     2019     58559      1       0       0       0      0   \n",
       "1016510        6     5053    199401      0       0       0       0      0   \n",
       "377607         4     6006     64969      0       1       0       0      0   \n",
       "1005283        1     3033    208764      1       0       0       0      0   \n",
       "\n",
       "         ADVENTURE  FANTASY  \n",
       "500094           0        0  \n",
       "1184364          0        0  \n",
       "306039           0        0  \n",
       "107648           1        0  \n",
       "516143           0        0  \n",
       "1031339          0        0  \n",
       "512450           0        0  \n",
       "900189           1        0  \n",
       "680055           0        0  \n",
       "785474           0        0  \n",
       "192634           0        0  \n",
       "374964           0        0  \n",
       "1016510          1        0  \n",
       "377607           0        0  \n",
       "1005283          0        1  "
      ]
     },
     "execution_count": 65,
     "metadata": {},
     "output_type": "execute_result"
    }
   ],
   "source": [
    "mv_srs_user_sample_df[['CLUSTER','USER_ID', 'TITLE_ID', 'DRAMA','COMEDY','HORROR', 'ACTION', 'SHORT', 'ADVENTURE', 'FANTASY']].sample(15)"
   ]
  },
  {
   "cell_type": "code",
   "execution_count": 66,
   "metadata": {
    "colab": {
     "base_uri": "https://localhost:8080/",
     "height": 474
    },
    "id": "IQiDmdnE7p1Y",
    "outputId": "f70403f5-c626-4452-eee4-93d3af334e62"
   },
   "outputs": [
    {
     "data": {
      "text/html": [
       "<div>\n",
       "<style scoped>\n",
       "    .dataframe tbody tr th:only-of-type {\n",
       "        vertical-align: middle;\n",
       "    }\n",
       "\n",
       "    .dataframe tbody tr th {\n",
       "        vertical-align: top;\n",
       "    }\n",
       "\n",
       "    .dataframe thead th {\n",
       "        text-align: right;\n",
       "    }\n",
       "</style>\n",
       "<table border=\"1\" class=\"dataframe\">\n",
       "  <thead>\n",
       "    <tr style=\"text-align: right;\">\n",
       "      <th></th>\n",
       "      <th>USER_ID</th>\n",
       "      <th>TITLE_ID</th>\n",
       "      <th>TITLE</th>\n",
       "      <th>IMDB_SCORE</th>\n",
       "      <th>TYPE</th>\n",
       "      <th>GENRE</th>\n",
       "      <th>RATED</th>\n",
       "      <th>LANGUAGES</th>\n",
       "      <th>YEAR</th>\n",
       "      <th>DRAMA</th>\n",
       "      <th>...</th>\n",
       "      <th>MUSIC</th>\n",
       "      <th>MUSICAL</th>\n",
       "      <th>GAME-SHOW</th>\n",
       "      <th>SPORT</th>\n",
       "      <th>WAR</th>\n",
       "      <th>HISTORY</th>\n",
       "      <th>NEWS</th>\n",
       "      <th>REALITY-TV</th>\n",
       "      <th>TALK-SHOW</th>\n",
       "      <th>CLUSTER</th>\n",
       "    </tr>\n",
       "  </thead>\n",
       "  <tbody>\n",
       "    <tr>\n",
       "      <th>0</th>\n",
       "      <td>1</td>\n",
       "      <td>307</td>\n",
       "      <td>Three Colors: Blue</td>\n",
       "      <td>7.9</td>\n",
       "      <td>movie</td>\n",
       "      <td>Drama, Music, Mystery</td>\n",
       "      <td>R</td>\n",
       "      <td>French</td>\n",
       "      <td>1993</td>\n",
       "      <td>1</td>\n",
       "      <td>...</td>\n",
       "      <td>1</td>\n",
       "      <td>0</td>\n",
       "      <td>0</td>\n",
       "      <td>0</td>\n",
       "      <td>0</td>\n",
       "      <td>0</td>\n",
       "      <td>0</td>\n",
       "      <td>0</td>\n",
       "      <td>0</td>\n",
       "      <td>1</td>\n",
       "    </tr>\n",
       "    <tr>\n",
       "      <th>1</th>\n",
       "      <td>6</td>\n",
       "      <td>307</td>\n",
       "      <td>Three Colors: Blue</td>\n",
       "      <td>7.9</td>\n",
       "      <td>movie</td>\n",
       "      <td>Drama, Music, Mystery</td>\n",
       "      <td>R</td>\n",
       "      <td>French</td>\n",
       "      <td>1993</td>\n",
       "      <td>1</td>\n",
       "      <td>...</td>\n",
       "      <td>1</td>\n",
       "      <td>0</td>\n",
       "      <td>0</td>\n",
       "      <td>0</td>\n",
       "      <td>0</td>\n",
       "      <td>0</td>\n",
       "      <td>0</td>\n",
       "      <td>0</td>\n",
       "      <td>0</td>\n",
       "      <td>1</td>\n",
       "    </tr>\n",
       "    <tr>\n",
       "      <th>2</th>\n",
       "      <td>56</td>\n",
       "      <td>307</td>\n",
       "      <td>Three Colors: Blue</td>\n",
       "      <td>7.9</td>\n",
       "      <td>movie</td>\n",
       "      <td>Drama, Music, Mystery</td>\n",
       "      <td>R</td>\n",
       "      <td>French</td>\n",
       "      <td>1993</td>\n",
       "      <td>1</td>\n",
       "      <td>...</td>\n",
       "      <td>1</td>\n",
       "      <td>0</td>\n",
       "      <td>0</td>\n",
       "      <td>0</td>\n",
       "      <td>0</td>\n",
       "      <td>0</td>\n",
       "      <td>0</td>\n",
       "      <td>0</td>\n",
       "      <td>0</td>\n",
       "      <td>1</td>\n",
       "    </tr>\n",
       "    <tr>\n",
       "      <th>3</th>\n",
       "      <td>71</td>\n",
       "      <td>307</td>\n",
       "      <td>Three Colors: Blue</td>\n",
       "      <td>7.9</td>\n",
       "      <td>movie</td>\n",
       "      <td>Drama, Music, Mystery</td>\n",
       "      <td>R</td>\n",
       "      <td>French</td>\n",
       "      <td>1993</td>\n",
       "      <td>1</td>\n",
       "      <td>...</td>\n",
       "      <td>1</td>\n",
       "      <td>0</td>\n",
       "      <td>0</td>\n",
       "      <td>0</td>\n",
       "      <td>0</td>\n",
       "      <td>0</td>\n",
       "      <td>0</td>\n",
       "      <td>0</td>\n",
       "      <td>0</td>\n",
       "      <td>1</td>\n",
       "    </tr>\n",
       "    <tr>\n",
       "      <th>4</th>\n",
       "      <td>84</td>\n",
       "      <td>307</td>\n",
       "      <td>Three Colors: Blue</td>\n",
       "      <td>7.9</td>\n",
       "      <td>movie</td>\n",
       "      <td>Drama, Music, Mystery</td>\n",
       "      <td>R</td>\n",
       "      <td>French</td>\n",
       "      <td>1993</td>\n",
       "      <td>1</td>\n",
       "      <td>...</td>\n",
       "      <td>1</td>\n",
       "      <td>0</td>\n",
       "      <td>0</td>\n",
       "      <td>0</td>\n",
       "      <td>0</td>\n",
       "      <td>0</td>\n",
       "      <td>0</td>\n",
       "      <td>0</td>\n",
       "      <td>0</td>\n",
       "      <td>1</td>\n",
       "    </tr>\n",
       "  </tbody>\n",
       "</table>\n",
       "<p>5 rows × 38 columns</p>\n",
       "</div>"
      ],
      "text/plain": [
       "   USER_ID  TITLE_ID               TITLE  IMDB_SCORE   TYPE  \\\n",
       "0        1       307  Three Colors: Blue         7.9  movie   \n",
       "1        6       307  Three Colors: Blue         7.9  movie   \n",
       "2       56       307  Three Colors: Blue         7.9  movie   \n",
       "3       71       307  Three Colors: Blue         7.9  movie   \n",
       "4       84       307  Three Colors: Blue         7.9  movie   \n",
       "\n",
       "                   GENRE RATED LANGUAGES  YEAR  DRAMA  ...  MUSIC  MUSICAL  \\\n",
       "0  Drama, Music, Mystery     R    French  1993      1  ...      1        0   \n",
       "1  Drama, Music, Mystery     R    French  1993      1  ...      1        0   \n",
       "2  Drama, Music, Mystery     R    French  1993      1  ...      1        0   \n",
       "3  Drama, Music, Mystery     R    French  1993      1  ...      1        0   \n",
       "4  Drama, Music, Mystery     R    French  1993      1  ...      1        0   \n",
       "\n",
       "   GAME-SHOW  SPORT  WAR  HISTORY  NEWS  REALITY-TV  TALK-SHOW  CLUSTER  \n",
       "0          0      0    0        0     0           0          0        1  \n",
       "1          0      0    0        0     0           0          0        1  \n",
       "2          0      0    0        0     0           0          0        1  \n",
       "3          0      0    0        0     0           0          0        1  \n",
       "4          0      0    0        0     0           0          0        1  \n",
       "\n",
       "[5 rows x 38 columns]"
      ]
     },
     "execution_count": 66,
     "metadata": {},
     "output_type": "execute_result"
    }
   ],
   "source": [
    "# Check if the cluster has been added to the dataset\n",
    "mv_srs_user_sample_df.head()"
   ]
  },
  {
   "cell_type": "code",
   "execution_count": 67,
   "metadata": {
    "colab": {
     "base_uri": "https://localhost:8080/",
     "height": 329
    },
    "id": "nG-ynPicnukF",
    "outputId": "cfe040b7-e045-4903-94d7-4aabf04c5202"
   },
   "outputs": [
    {
     "data": {
      "image/png": "[encoded data removed]",
      "text/plain": [
       "<Figure size 720x360 with 1 Axes>"
      ]
     },
     "metadata": {},
     "output_type": "display_data"
    }
   ],
   "source": [
    "mv_srs_user_sample_df['cluster'] = model.labels_\n",
    "plt.figure(figsize= (10,5))\n",
    "mv_srs_user_sample_df['cluster'].value_counts().plot(kind='bar', color =\"#4472C4\")\n",
    "plt.xlabel('Cluster number')\n",
    "plt.ylabel('Data distributed in clusters')\n",
    "plt.show()"
   ]
  },
  {
   "cell_type": "code",
   "execution_count": 68,
   "metadata": {
    "colab": {
     "base_uri": "https://localhost:8080/",
     "height": 172
    },
    "id": "NNUHuKpd7qIJ",
    "outputId": "5c8b2ea2-94a0-48b7-9f43-ce8b69b3df88"
   },
   "outputs": [
    {
     "data": {
      "text/html": [
       "<div>\n",
       "<style scoped>\n",
       "    .dataframe tbody tr th:only-of-type {\n",
       "        vertical-align: middle;\n",
       "    }\n",
       "\n",
       "    .dataframe tbody tr th {\n",
       "        vertical-align: top;\n",
       "    }\n",
       "\n",
       "    .dataframe thead th {\n",
       "        text-align: right;\n",
       "    }\n",
       "</style>\n",
       "<table border=\"1\" class=\"dataframe\">\n",
       "  <thead>\n",
       "    <tr style=\"text-align: right;\">\n",
       "      <th></th>\n",
       "      <th>1278955</th>\n",
       "      <th>91645</th>\n",
       "      <th>1150973</th>\n",
       "      <th>873371</th>\n",
       "      <th>728206</th>\n",
       "      <th>775910</th>\n",
       "      <th>1293430</th>\n",
       "      <th>1331460</th>\n",
       "      <th>161061</th>\n",
       "      <th>823184</th>\n",
       "      <th>904447</th>\n",
       "      <th>620847</th>\n",
       "      <th>1105767</th>\n",
       "      <th>319894</th>\n",
       "      <th>678222</th>\n",
       "      <th>773494</th>\n",
       "      <th>126811</th>\n",
       "      <th>1122461</th>\n",
       "      <th>104882</th>\n",
       "      <th>508227</th>\n",
       "    </tr>\n",
       "  </thead>\n",
       "  <tbody>\n",
       "    <tr>\n",
       "      <th>USER_ID</th>\n",
       "      <td>7033</td>\n",
       "      <td>1073</td>\n",
       "      <td>7035</td>\n",
       "      <td>5054</td>\n",
       "      <td>3021</td>\n",
       "      <td>9029</td>\n",
       "      <td>9936</td>\n",
       "      <td>7035</td>\n",
       "      <td>6092</td>\n",
       "      <td>5002</td>\n",
       "      <td>38</td>\n",
       "      <td>7001</td>\n",
       "      <td>5047</td>\n",
       "      <td>36</td>\n",
       "      <td>5077</td>\n",
       "      <td>5034</td>\n",
       "      <td>5048</td>\n",
       "      <td>8004</td>\n",
       "      <td>72</td>\n",
       "      <td>5027</td>\n",
       "    </tr>\n",
       "    <tr>\n",
       "      <th>CLUSTER</th>\n",
       "      <td>4</td>\n",
       "      <td>5</td>\n",
       "      <td>6</td>\n",
       "      <td>4</td>\n",
       "      <td>2</td>\n",
       "      <td>4</td>\n",
       "      <td>4</td>\n",
       "      <td>6</td>\n",
       "      <td>8</td>\n",
       "      <td>1</td>\n",
       "      <td>7</td>\n",
       "      <td>7</td>\n",
       "      <td>5</td>\n",
       "      <td>1</td>\n",
       "      <td>1</td>\n",
       "      <td>5</td>\n",
       "      <td>1</td>\n",
       "      <td>0</td>\n",
       "      <td>5</td>\n",
       "      <td>7</td>\n",
       "    </tr>\n",
       "  </tbody>\n",
       "</table>\n",
       "</div>"
      ],
      "text/plain": [
       "         1278955  91645    1150973  873371   728206   775910   1293430  \\\n",
       "USER_ID     7033     1073     7035     5054     3021     9029     9936   \n",
       "CLUSTER        4        5        6        4        2        4        4   \n",
       "\n",
       "         1331460  161061   823184   904447   620847   1105767  319894   \\\n",
       "USER_ID     7035     6092     5002       38     7001     5047       36   \n",
       "CLUSTER        6        8        1        7        7        5        1   \n",
       "\n",
       "         678222   773494   126811   1122461  104882   508227   \n",
       "USER_ID     5077     5034     5048     8004       72     5027  \n",
       "CLUSTER        1        5        1        0        5        7  "
      ]
     },
     "execution_count": 68,
     "metadata": {},
     "output_type": "execute_result"
    }
   ],
   "source": [
    "# User and cluster distribution for random users.\n",
    "user_cluster = mv_srs_user_sample_df[['USER_ID', 'CLUSTER']]\n",
    "user_cluster.sample(20).T"
   ]
  },
  {
   "cell_type": "code",
   "execution_count": 69,
   "metadata": {
    "colab": {
     "base_uri": "https://localhost:8080/",
     "height": 201
    },
    "id": "OVtEFhM48L_X",
    "outputId": "fc5f1d55-4a0b-49cb-883a-1fa3143da331"
   },
   "outputs": [
    {
     "data": {
      "text/html": [
       "<div>\n",
       "<style scoped>\n",
       "    .dataframe tbody tr th:only-of-type {\n",
       "        vertical-align: middle;\n",
       "    }\n",
       "\n",
       "    .dataframe tbody tr th {\n",
       "        vertical-align: top;\n",
       "    }\n",
       "\n",
       "    .dataframe thead th {\n",
       "        text-align: right;\n",
       "    }\n",
       "</style>\n",
       "<table border=\"1\" class=\"dataframe\">\n",
       "  <thead>\n",
       "    <tr style=\"text-align: right;\">\n",
       "      <th></th>\n",
       "      <th>TITLE_ID</th>\n",
       "      <th>CLUSTER</th>\n",
       "    </tr>\n",
       "  </thead>\n",
       "  <tbody>\n",
       "    <tr>\n",
       "      <th>0</th>\n",
       "      <td>307</td>\n",
       "      <td>1</td>\n",
       "    </tr>\n",
       "    <tr>\n",
       "      <th>1</th>\n",
       "      <td>307</td>\n",
       "      <td>1</td>\n",
       "    </tr>\n",
       "    <tr>\n",
       "      <th>2</th>\n",
       "      <td>307</td>\n",
       "      <td>1</td>\n",
       "    </tr>\n",
       "    <tr>\n",
       "      <th>3</th>\n",
       "      <td>307</td>\n",
       "      <td>1</td>\n",
       "    </tr>\n",
       "    <tr>\n",
       "      <th>4</th>\n",
       "      <td>307</td>\n",
       "      <td>1</td>\n",
       "    </tr>\n",
       "  </tbody>\n",
       "</table>\n",
       "</div>"
      ],
      "text/plain": [
       "   TITLE_ID  CLUSTER\n",
       "0       307        1\n",
       "1       307        1\n",
       "2       307        1\n",
       "3       307        1\n",
       "4       307        1"
      ]
     },
     "execution_count": 69,
     "metadata": {},
     "output_type": "execute_result"
    }
   ],
   "source": [
    "# TITLE_ID and cluster distribution\n",
    "id_cluster = mv_srs_user_sample_df[['TITLE_ID', 'CLUSTER']]\n",
    "id_cluster.head()"
   ]
  },
  {
   "cell_type": "code",
   "execution_count": 70,
   "metadata": {
    "id": "zr8MTBjn8MHK"
   },
   "outputs": [],
   "source": [
    "# Create function which will allot cluster to a movie/series \n",
    "cluster_titleid_df = []\n",
    "def allot_cluster(group):\n",
    "    a = pd.DataFrame(group)\n",
    "    b = pd.DataFrame(a['CLUSTER'].value_counts())\n",
    "    c = a.index \n",
    "    d = [a['TITLE_ID'][c[0]],int(b.idxmax())]\n",
    "    cluster_titleid_df.append(d)"
   ]
  },
  {
   "cell_type": "code",
   "execution_count": 71,
   "metadata": {
    "colab": {
     "base_uri": "https://localhost:8080/",
     "height": 49
    },
    "id": "tKh_zwvO8MQw",
    "outputId": "1d860ea4-1937-46e3-8562-713f0cb70b71"
   },
   "outputs": [
    {
     "data": {
      "text/html": [
       "<div>\n",
       "<style scoped>\n",
       "    .dataframe tbody tr th:only-of-type {\n",
       "        vertical-align: middle;\n",
       "    }\n",
       "\n",
       "    .dataframe tbody tr th {\n",
       "        vertical-align: top;\n",
       "    }\n",
       "\n",
       "    .dataframe thead th {\n",
       "        text-align: right;\n",
       "    }\n",
       "</style>\n",
       "<table border=\"1\" class=\"dataframe\">\n",
       "  <thead>\n",
       "    <tr style=\"text-align: right;\">\n",
       "      <th></th>\n",
       "    </tr>\n",
       "  </thead>\n",
       "  <tbody>\n",
       "  </tbody>\n",
       "</table>\n",
       "</div>"
      ],
      "text/plain": [
       "Empty DataFrame\n",
       "Columns: []\n",
       "Index: []"
      ]
     },
     "execution_count": 71,
     "metadata": {},
     "output_type": "execute_result"
    }
   ],
   "source": [
    "# The Cluster which occurs maximum number of times is alloted to the movie  \n",
    "mv_srs_user_sample_df.groupby(\"TITLE_ID\").apply(lambda x: allot_cluster(x))"
   ]
  },
  {
   "cell_type": "code",
   "execution_count": 72,
   "metadata": {
    "colab": {
     "base_uri": "https://localhost:8080/",
     "height": 201
    },
    "id": "oDJ1luDr8MYi",
    "outputId": "5ae4766f-a37b-4f98-aa00-cb90aab8a047"
   },
   "outputs": [
    {
     "data": {
      "text/html": [
       "<div>\n",
       "<style scoped>\n",
       "    .dataframe tbody tr th:only-of-type {\n",
       "        vertical-align: middle;\n",
       "    }\n",
       "\n",
       "    .dataframe tbody tr th {\n",
       "        vertical-align: top;\n",
       "    }\n",
       "\n",
       "    .dataframe thead th {\n",
       "        text-align: right;\n",
       "    }\n",
       "</style>\n",
       "<table border=\"1\" class=\"dataframe\">\n",
       "  <thead>\n",
       "    <tr style=\"text-align: right;\">\n",
       "      <th></th>\n",
       "      <th>0</th>\n",
       "      <th>1</th>\n",
       "    </tr>\n",
       "  </thead>\n",
       "  <tbody>\n",
       "    <tr>\n",
       "      <th>0</th>\n",
       "      <td>1</td>\n",
       "      <td>0</td>\n",
       "    </tr>\n",
       "    <tr>\n",
       "      <th>1</th>\n",
       "      <td>2</td>\n",
       "      <td>2</td>\n",
       "    </tr>\n",
       "    <tr>\n",
       "      <th>2</th>\n",
       "      <td>3</td>\n",
       "      <td>2</td>\n",
       "    </tr>\n",
       "    <tr>\n",
       "      <th>3</th>\n",
       "      <td>4</td>\n",
       "      <td>7</td>\n",
       "    </tr>\n",
       "    <tr>\n",
       "      <th>4</th>\n",
       "      <td>5</td>\n",
       "      <td>2</td>\n",
       "    </tr>\n",
       "  </tbody>\n",
       "</table>\n",
       "</div>"
      ],
      "text/plain": [
       "   0  1\n",
       "0  1  0\n",
       "1  2  2\n",
       "2  3  2\n",
       "3  4  7\n",
       "4  5  2"
      ]
     },
     "execution_count": 72,
     "metadata": {},
     "output_type": "execute_result"
    }
   ],
   "source": [
    "cluster_titleid_df = pd.DataFrame(cluster_titleid_df)\n",
    "cluster_titleid_df.head()"
   ]
  },
  {
   "cell_type": "code",
   "execution_count": 73,
   "metadata": {
    "colab": {
     "base_uri": "https://localhost:8080/",
     "height": 201
    },
    "id": "VB8qZU6X8Mfk",
    "outputId": "9dbdfa3a-0f8d-4803-ee6d-5fab118ca231"
   },
   "outputs": [
    {
     "data": {
      "text/html": [
       "<div>\n",
       "<style scoped>\n",
       "    .dataframe tbody tr th:only-of-type {\n",
       "        vertical-align: middle;\n",
       "    }\n",
       "\n",
       "    .dataframe tbody tr th {\n",
       "        vertical-align: top;\n",
       "    }\n",
       "\n",
       "    .dataframe thead th {\n",
       "        text-align: right;\n",
       "    }\n",
       "</style>\n",
       "<table border=\"1\" class=\"dataframe\">\n",
       "  <thead>\n",
       "    <tr style=\"text-align: right;\">\n",
       "      <th></th>\n",
       "      <th>TITLE_ID</th>\n",
       "      <th>CLUSTER</th>\n",
       "    </tr>\n",
       "  </thead>\n",
       "  <tbody>\n",
       "    <tr>\n",
       "      <th>0</th>\n",
       "      <td>1</td>\n",
       "      <td>0</td>\n",
       "    </tr>\n",
       "    <tr>\n",
       "      <th>1</th>\n",
       "      <td>2</td>\n",
       "      <td>2</td>\n",
       "    </tr>\n",
       "    <tr>\n",
       "      <th>2</th>\n",
       "      <td>3</td>\n",
       "      <td>2</td>\n",
       "    </tr>\n",
       "    <tr>\n",
       "      <th>3</th>\n",
       "      <td>4</td>\n",
       "      <td>7</td>\n",
       "    </tr>\n",
       "    <tr>\n",
       "      <th>4</th>\n",
       "      <td>5</td>\n",
       "      <td>2</td>\n",
       "    </tr>\n",
       "  </tbody>\n",
       "</table>\n",
       "</div>"
      ],
      "text/plain": [
       "   TITLE_ID  CLUSTER\n",
       "0         1        0\n",
       "1         2        2\n",
       "2         3        2\n",
       "3         4        7\n",
       "4         5        2"
      ]
     },
     "execution_count": 73,
     "metadata": {},
     "output_type": "execute_result"
    }
   ],
   "source": [
    "# Rename the columns\n",
    "cluster_titleid_df.rename(columns = {0:'TITLE_ID',1:'CLUSTER'},inplace=True)\n",
    "cluster_titleid_df.head()"
   ]
  },
  {
   "cell_type": "code",
   "execution_count": 74,
   "metadata": {
    "colab": {
     "base_uri": "https://localhost:8080/",
     "height": 1000
    },
    "id": "2G-Wy2re8Ml9",
    "outputId": "f0b1fe89-f892-43e9-db68-57b9f8497d82"
   },
   "outputs": [
    {
     "data": {
      "text/html": [
       "<div>\n",
       "<style scoped>\n",
       "    .dataframe tbody tr th:only-of-type {\n",
       "        vertical-align: middle;\n",
       "    }\n",
       "\n",
       "    .dataframe tbody tr th {\n",
       "        vertical-align: top;\n",
       "    }\n",
       "\n",
       "    .dataframe thead th {\n",
       "        text-align: right;\n",
       "    }\n",
       "</style>\n",
       "<table border=\"1\" class=\"dataframe\">\n",
       "  <thead>\n",
       "    <tr style=\"text-align: right;\">\n",
       "      <th></th>\n",
       "      <th>TITLE_ID</th>\n",
       "      <th>CLUSTER</th>\n",
       "      <th>TITLE</th>\n",
       "      <th>IMDB_SCORE</th>\n",
       "      <th>TYPE</th>\n",
       "      <th>GENRE</th>\n",
       "      <th>POSTER</th>\n",
       "      <th>ACTORS</th>\n",
       "      <th>RATED</th>\n",
       "      <th>LANGUAGES</th>\n",
       "      <th>YEAR</th>\n",
       "    </tr>\n",
       "  </thead>\n",
       "  <tbody>\n",
       "    <tr>\n",
       "      <th>48136</th>\n",
       "      <td>162960</td>\n",
       "      <td>NaN</td>\n",
       "      <td>As If I Am Not There</td>\n",
       "      <td>7.2</td>\n",
       "      <td>movie</td>\n",
       "      <td>Drama</td>\n",
       "      <td>https://m.media-amazon.com/images/M/MV5BMTM5NT...</td>\n",
       "      <td>Natasha Petrovic, Fedja Stukan, Jelena Jovanova</td>\n",
       "      <td>G</td>\n",
       "      <td>German, Bosnian, English</td>\n",
       "      <td>2010</td>\n",
       "    </tr>\n",
       "    <tr>\n",
       "      <th>11376</th>\n",
       "      <td>199252</td>\n",
       "      <td>2.0</td>\n",
       "      <td>Sports Night</td>\n",
       "      <td>8.3</td>\n",
       "      <td>series</td>\n",
       "      <td>Comedy, Drama, Sport</td>\n",
       "      <td>https://m.media-amazon.com/images/M/MV5BYTYwZG...</td>\n",
       "      <td>Josh Charles, Peter Krause, Felicity Huffman</td>\n",
       "      <td>PG</td>\n",
       "      <td>English</td>\n",
       "      <td>1998</td>\n",
       "    </tr>\n",
       "    <tr>\n",
       "      <th>6959</th>\n",
       "      <td>121231</td>\n",
       "      <td>3.0</td>\n",
       "      <td>It Follows</td>\n",
       "      <td>6.8</td>\n",
       "      <td>movie</td>\n",
       "      <td>Horror, Mystery, Thriller</td>\n",
       "      <td>https://m.media-amazon.com/images/M/MV5BMmU0Mj...</td>\n",
       "      <td>Maika Monroe, Keir Gilchrist, Olivia Luccardi</td>\n",
       "      <td>R</td>\n",
       "      <td>English</td>\n",
       "      <td>2014</td>\n",
       "    </tr>\n",
       "    <tr>\n",
       "      <th>40365</th>\n",
       "      <td>135280</td>\n",
       "      <td>NaN</td>\n",
       "      <td>18 Year Old Virgin</td>\n",
       "      <td>2.9</td>\n",
       "      <td>movie</td>\n",
       "      <td>Comedy</td>\n",
       "      <td>https://m.media-amazon.com/images/M/MV5BMTI5OD...</td>\n",
       "      <td>Olivia May, Lauren Walsh, Todd Leigh, Dustin H...</td>\n",
       "      <td>G</td>\n",
       "      <td>English</td>\n",
       "      <td>2009</td>\n",
       "    </tr>\n",
       "    <tr>\n",
       "      <th>14854</th>\n",
       "      <td>205107</td>\n",
       "      <td>6.0</td>\n",
       "      <td>Wild</td>\n",
       "      <td>7.2</td>\n",
       "      <td>series</td>\n",
       "      <td>Documentary</td>\n",
       "      <td>https://m.media-amazon.com/images/M/MV5BMjkwOW...</td>\n",
       "      <td>Salvatore Vecchio, Martin Nicholas, Darren Scott</td>\n",
       "      <td>G</td>\n",
       "      <td>English</td>\n",
       "      <td>2006</td>\n",
       "    </tr>\n",
       "    <tr>\n",
       "      <th>13753</th>\n",
       "      <td>203238</td>\n",
       "      <td>3.0</td>\n",
       "      <td>Pandemic</td>\n",
       "      <td>5.2</td>\n",
       "      <td>series</td>\n",
       "      <td>Action, Drama, Thriller</td>\n",
       "      <td>https://m.media-amazon.com/images/M/MV5BMTY5OT...</td>\n",
       "      <td>Tiffani Thiessen, French Stewart, Faye Dunaway</td>\n",
       "      <td>G</td>\n",
       "      <td>English</td>\n",
       "      <td>2007</td>\n",
       "    </tr>\n",
       "    <tr>\n",
       "      <th>32070</th>\n",
       "      <td>145116</td>\n",
       "      <td>NaN</td>\n",
       "      <td>Hard</td>\n",
       "      <td>8.2</td>\n",
       "      <td>movie</td>\n",
       "      <td>Action, Thriller</td>\n",
       "      <td>https://m.media-amazon.com/images/M/MV5BZjRlND...</td>\n",
       "      <td>Bruce Willis, Alan Rickman, Bonnie Bedelia</td>\n",
       "      <td>R</td>\n",
       "      <td>English, German, Italian, Japanese</td>\n",
       "      <td>1988</td>\n",
       "    </tr>\n",
       "    <tr>\n",
       "      <th>8184</th>\n",
       "      <td>194000</td>\n",
       "      <td>1.0</td>\n",
       "      <td>Rome</td>\n",
       "      <td>8.7</td>\n",
       "      <td>series</td>\n",
       "      <td>Action, Drama, History</td>\n",
       "      <td>https://m.media-amazon.com/images/M/MV5BYTM4Mm...</td>\n",
       "      <td>Kevin McKidd, Ray Stevenson, Polly Walker</td>\n",
       "      <td>R</td>\n",
       "      <td>English</td>\n",
       "      <td>2005</td>\n",
       "    </tr>\n",
       "    <tr>\n",
       "      <th>28821</th>\n",
       "      <td>116221</td>\n",
       "      <td>NaN</td>\n",
       "      <td>Tyson</td>\n",
       "      <td>7.4</td>\n",
       "      <td>movie</td>\n",
       "      <td>Documentary, Biography, Sport</td>\n",
       "      <td>https://m.media-amazon.com/images/M/MV5BMzU0Nj...</td>\n",
       "      <td>Mike Tyson, Mills Lane, Trevor Berbick</td>\n",
       "      <td>R</td>\n",
       "      <td>English</td>\n",
       "      <td>2008</td>\n",
       "    </tr>\n",
       "    <tr>\n",
       "      <th>13618</th>\n",
       "      <td>203017</td>\n",
       "      <td>6.0</td>\n",
       "      <td>Murder by the Book</td>\n",
       "      <td>7.8</td>\n",
       "      <td>series</td>\n",
       "      <td>Documentary, Crime</td>\n",
       "      <td>https://m.media-amazon.com/images/M/MV5BNTYxOT...</td>\n",
       "      <td>Ron McLarty, G. Larry Butler, Kalina Justice</td>\n",
       "      <td>G</td>\n",
       "      <td>English</td>\n",
       "      <td>2006</td>\n",
       "    </tr>\n",
       "  </tbody>\n",
       "</table>\n",
       "</div>"
      ],
      "text/plain": [
       "       TITLE_ID  CLUSTER                 TITLE  IMDB_SCORE    TYPE  \\\n",
       "48136    162960      NaN  As If I Am Not There         7.2   movie   \n",
       "11376    199252      2.0          Sports Night         8.3  series   \n",
       "6959     121231      3.0            It Follows         6.8   movie   \n",
       "40365    135280      NaN    18 Year Old Virgin         2.9   movie   \n",
       "14854    205107      6.0                  Wild         7.2  series   \n",
       "13753    203238      3.0              Pandemic         5.2  series   \n",
       "32070    145116      NaN                  Hard         8.2   movie   \n",
       "8184     194000      1.0                  Rome         8.7  series   \n",
       "28821    116221      NaN                 Tyson         7.4   movie   \n",
       "13618    203017      6.0    Murder by the Book         7.8  series   \n",
       "\n",
       "                               GENRE  \\\n",
       "48136                          Drama   \n",
       "11376           Comedy, Drama, Sport   \n",
       "6959       Horror, Mystery, Thriller   \n",
       "40365                         Comedy   \n",
       "14854                    Documentary   \n",
       "13753        Action, Drama, Thriller   \n",
       "32070               Action, Thriller   \n",
       "8184          Action, Drama, History   \n",
       "28821  Documentary, Biography, Sport   \n",
       "13618             Documentary, Crime   \n",
       "\n",
       "                                                  POSTER  \\\n",
       "48136  https://m.media-amazon.com/images/M/MV5BMTM5NT...   \n",
       "11376  https://m.media-amazon.com/images/M/MV5BYTYwZG...   \n",
       "6959   https://m.media-amazon.com/images/M/MV5BMmU0Mj...   \n",
       "40365  https://m.media-amazon.com/images/M/MV5BMTI5OD...   \n",
       "14854  https://m.media-amazon.com/images/M/MV5BMjkwOW...   \n",
       "13753  https://m.media-amazon.com/images/M/MV5BMTY5OT...   \n",
       "32070  https://m.media-amazon.com/images/M/MV5BZjRlND...   \n",
       "8184   https://m.media-amazon.com/images/M/MV5BYTM4Mm...   \n",
       "28821  https://m.media-amazon.com/images/M/MV5BMzU0Nj...   \n",
       "13618  https://m.media-amazon.com/images/M/MV5BNTYxOT...   \n",
       "\n",
       "                                                  ACTORS RATED  \\\n",
       "48136    Natasha Petrovic, Fedja Stukan, Jelena Jovanova     G   \n",
       "11376       Josh Charles, Peter Krause, Felicity Huffman    PG   \n",
       "6959       Maika Monroe, Keir Gilchrist, Olivia Luccardi     R   \n",
       "40365  Olivia May, Lauren Walsh, Todd Leigh, Dustin H...     G   \n",
       "14854   Salvatore Vecchio, Martin Nicholas, Darren Scott     G   \n",
       "13753     Tiffani Thiessen, French Stewart, Faye Dunaway     G   \n",
       "32070         Bruce Willis, Alan Rickman, Bonnie Bedelia     R   \n",
       "8184           Kevin McKidd, Ray Stevenson, Polly Walker     R   \n",
       "28821             Mike Tyson, Mills Lane, Trevor Berbick     R   \n",
       "13618       Ron McLarty, G. Larry Butler, Kalina Justice     G   \n",
       "\n",
       "                                LANGUAGES  YEAR  \n",
       "48136            German, Bosnian, English  2010  \n",
       "11376                             English  1998  \n",
       "6959                              English  2014  \n",
       "40365                             English  2009  \n",
       "14854                             English  2006  \n",
       "13753                             English  2007  \n",
       "32070  English, German, Italian, Japanese  1988  \n",
       "8184                              English  2005  \n",
       "28821                             English  2008  \n",
       "13618                             English  2006  "
      ]
     },
     "execution_count": 74,
     "metadata": {},
     "output_type": "execute_result"
    }
   ],
   "source": [
    "# Merge the merged movie and series dataset and the cluster dataset\n",
    "movie_series_cluster_df = pd.merge(cluster_titleid_df , movie_series_df , how='outer', on='TITLE_ID')\n",
    "movie_series_cluster_df.sample(10)"
   ]
  },
  {
   "cell_type": "code",
   "execution_count": 75,
   "metadata": {
    "colab": {
     "base_uri": "https://localhost:8080/"
    },
    "id": "nDaf3-Ua8Mti",
    "outputId": "54e3833b-d432-4d7d-d67d-4f80482f91a5"
   },
   "outputs": [
    {
     "data": {
      "text/plain": [
       "TITLE_ID          0\n",
       "CLUSTER       39794\n",
       "TITLE             0\n",
       "IMDB_SCORE        0\n",
       "TYPE              0\n",
       "GENRE             0\n",
       "POSTER            0\n",
       "ACTORS            0\n",
       "RATED             0\n",
       "LANGUAGES         0\n",
       "YEAR              0\n",
       "dtype: int64"
      ]
     },
     "execution_count": 75,
     "metadata": {},
     "output_type": "execute_result"
    }
   ],
   "source": [
    "# The null values were the movies we deleted while merging the file  \n",
    "movie_series_cluster_df.isnull().sum()"
   ]
  },
  {
   "cell_type": "code",
   "execution_count": 76,
   "metadata": {
    "colab": {
     "base_uri": "https://localhost:8080/"
    },
    "id": "TDxNAPIU8M2M",
    "outputId": "71ad1a23-6be4-4b85-d2e1-10e57717da94"
   },
   "outputs": [
    {
     "data": {
      "text/plain": [
       "TITLE_ID      0\n",
       "CLUSTER       0\n",
       "TITLE         0\n",
       "IMDB_SCORE    0\n",
       "TYPE          0\n",
       "GENRE         0\n",
       "POSTER        0\n",
       "ACTORS        0\n",
       "RATED         0\n",
       "LANGUAGES     0\n",
       "YEAR          0\n",
       "dtype: int64"
      ]
     },
     "execution_count": 76,
     "metadata": {},
     "output_type": "execute_result"
    }
   ],
   "source": [
    "movie_series_cluster_df.dropna(inplace= True)\n",
    "movie_series_cluster_df.isnull().sum()"
   ]
  },
  {
   "cell_type": "code",
   "execution_count": 77,
   "metadata": {
    "colab": {
     "base_uri": "https://localhost:8080/"
    },
    "id": "B1QRsewX8M-2",
    "outputId": "604c10fe-0024-482f-d950-5ae50a95a133"
   },
   "outputs": [
    {
     "data": {
      "text/plain": [
       "(23255, 11)"
      ]
     },
     "execution_count": 77,
     "metadata": {},
     "output_type": "execute_result"
    }
   ],
   "source": [
    "movie_series_cluster_df.shape"
   ]
  },
  {
   "cell_type": "code",
   "execution_count": 78,
   "metadata": {
    "colab": {
     "base_uri": "https://localhost:8080/",
     "height": 1000
    },
    "id": "DkP9zdFL8NHK",
    "outputId": "c3849263-2fc7-4e74-dc5a-3a41944e34bd"
   },
   "outputs": [
    {
     "name": "stdout",
     "output_type": "stream",
     "text": [
      "[0. 2. 7. 4. 3. 1. 5. 8. 6.]\n",
      "\n",
      "Number of Unique Values = 9\n"
     ]
    },
    {
     "data": {
      "text/html": [
       "<div>\n",
       "<style scoped>\n",
       "    .dataframe tbody tr th:only-of-type {\n",
       "        vertical-align: middle;\n",
       "    }\n",
       "\n",
       "    .dataframe tbody tr th {\n",
       "        vertical-align: top;\n",
       "    }\n",
       "\n",
       "    .dataframe thead th {\n",
       "        text-align: right;\n",
       "    }\n",
       "</style>\n",
       "<table border=\"1\" class=\"dataframe\">\n",
       "  <thead>\n",
       "    <tr style=\"text-align: right;\">\n",
       "      <th></th>\n",
       "      <th>TITLE_ID</th>\n",
       "      <th>CLUSTER</th>\n",
       "      <th>TITLE</th>\n",
       "      <th>IMDB_SCORE</th>\n",
       "      <th>TYPE</th>\n",
       "      <th>GENRE</th>\n",
       "      <th>POSTER</th>\n",
       "      <th>ACTORS</th>\n",
       "      <th>RATED</th>\n",
       "      <th>LANGUAGES</th>\n",
       "      <th>YEAR</th>\n",
       "    </tr>\n",
       "  </thead>\n",
       "  <tbody>\n",
       "    <tr>\n",
       "      <th>0</th>\n",
       "      <td>1</td>\n",
       "      <td>0.0</td>\n",
       "      <td>Toy Story</td>\n",
       "      <td>8.3</td>\n",
       "      <td>movie</td>\n",
       "      <td>Animation, Adventure, Comedy</td>\n",
       "      <td>https://m.media-amazon.com/images/M/MV5BMDU2ZW...</td>\n",
       "      <td>Tom Hanks, Tim Allen, Don Rickles</td>\n",
       "      <td>G</td>\n",
       "      <td>English</td>\n",
       "      <td>1995</td>\n",
       "    </tr>\n",
       "    <tr>\n",
       "      <th>1</th>\n",
       "      <td>2</td>\n",
       "      <td>2.0</td>\n",
       "      <td>Jumanji</td>\n",
       "      <td>7.0</td>\n",
       "      <td>movie</td>\n",
       "      <td>Adventure, Comedy, Family</td>\n",
       "      <td>https://m.media-amazon.com/images/M/MV5BZTk2Zm...</td>\n",
       "      <td>Robin Williams, Kirsten Dunst, Bonnie Hunt</td>\n",
       "      <td>PG</td>\n",
       "      <td>English, French</td>\n",
       "      <td>1995</td>\n",
       "    </tr>\n",
       "    <tr>\n",
       "      <th>2</th>\n",
       "      <td>3</td>\n",
       "      <td>2.0</td>\n",
       "      <td>Grumpier Old Men</td>\n",
       "      <td>6.6</td>\n",
       "      <td>movie</td>\n",
       "      <td>Comedy, Romance</td>\n",
       "      <td>https://m.media-amazon.com/images/M/MV5BMjQxM2...</td>\n",
       "      <td>Walter Matthau, Jack Lemmon, Ann-Margret</td>\n",
       "      <td>PG-13</td>\n",
       "      <td>English, Italian, German</td>\n",
       "      <td>1995</td>\n",
       "    </tr>\n",
       "    <tr>\n",
       "      <th>3</th>\n",
       "      <td>4</td>\n",
       "      <td>7.0</td>\n",
       "      <td>Waiting to Exhale</td>\n",
       "      <td>5.9</td>\n",
       "      <td>movie</td>\n",
       "      <td>Comedy, Drama, Romance</td>\n",
       "      <td>https://m.media-amazon.com/images/M/MV5BYzcyMD...</td>\n",
       "      <td>Whitney Houston, Angela Bassett, Loretta Devine</td>\n",
       "      <td>R</td>\n",
       "      <td>English</td>\n",
       "      <td>1995</td>\n",
       "    </tr>\n",
       "    <tr>\n",
       "      <th>4</th>\n",
       "      <td>5</td>\n",
       "      <td>2.0</td>\n",
       "      <td>Father of the Bride Part II</td>\n",
       "      <td>6.0</td>\n",
       "      <td>movie</td>\n",
       "      <td>Comedy, Family, Romance</td>\n",
       "      <td>https://m.media-amazon.com/images/M/MV5BOTEyNz...</td>\n",
       "      <td>Steve Martin, Diane Keaton, Martin Short</td>\n",
       "      <td>PG</td>\n",
       "      <td>English</td>\n",
       "      <td>1995</td>\n",
       "    </tr>\n",
       "    <tr>\n",
       "      <th>...</th>\n",
       "      <td>...</td>\n",
       "      <td>...</td>\n",
       "      <td>...</td>\n",
       "      <td>...</td>\n",
       "      <td>...</td>\n",
       "      <td>...</td>\n",
       "      <td>...</td>\n",
       "      <td>...</td>\n",
       "      <td>...</td>\n",
       "      <td>...</td>\n",
       "      <td>...</td>\n",
       "    </tr>\n",
       "    <tr>\n",
       "      <th>23250</th>\n",
       "      <td>219598</td>\n",
       "      <td>6.0</td>\n",
       "      <td>Bangkok Love Stories: Innocence</td>\n",
       "      <td>6.6</td>\n",
       "      <td>series</td>\n",
       "      <td>Romance</td>\n",
       "      <td>https://m.media-amazon.com/images/M/MV5BNTQzOD...</td>\n",
       "      <td>Narupornkamol Chaisang, Max Nattapol Diloknawa...</td>\n",
       "      <td>G</td>\n",
       "      <td>Thai</td>\n",
       "      <td>2018</td>\n",
       "    </tr>\n",
       "    <tr>\n",
       "      <th>23251</th>\n",
       "      <td>219599</td>\n",
       "      <td>6.0</td>\n",
       "      <td>History Erased</td>\n",
       "      <td>6.2</td>\n",
       "      <td>series</td>\n",
       "      <td>Documentary</td>\n",
       "      <td>https://m.media-amazon.com/images/M/MV5BZWU2NG...</td>\n",
       "      <td>Jonathan Markley, Sammi Barber, Celestine Cara...</td>\n",
       "      <td>G</td>\n",
       "      <td>English</td>\n",
       "      <td>2019</td>\n",
       "    </tr>\n",
       "    <tr>\n",
       "      <th>23252</th>\n",
       "      <td>219601</td>\n",
       "      <td>6.0</td>\n",
       "      <td>Big Trouble in Model Britain</td>\n",
       "      <td>8.2</td>\n",
       "      <td>series</td>\n",
       "      <td>Documentary</td>\n",
       "      <td>https://m.media-amazon.com/images/M/MV5BMDZmZD...</td>\n",
       "      <td>James May</td>\n",
       "      <td>G</td>\n",
       "      <td>English</td>\n",
       "      <td>2019</td>\n",
       "    </tr>\n",
       "    <tr>\n",
       "      <th>23253</th>\n",
       "      <td>219604</td>\n",
       "      <td>6.0</td>\n",
       "      <td>Never Ever</td>\n",
       "      <td>8.6</td>\n",
       "      <td>series</td>\n",
       "      <td>Documentary, Biography, History</td>\n",
       "      <td>https://m.media-amazon.com/images/M/MV5BNWNkMj...</td>\n",
       "      <td>EmpLemon, Aaron Lemos</td>\n",
       "      <td>G</td>\n",
       "      <td>English</td>\n",
       "      <td>2018</td>\n",
       "    </tr>\n",
       "    <tr>\n",
       "      <th>23254</th>\n",
       "      <td>219605</td>\n",
       "      <td>2.0</td>\n",
       "      <td>Meie aasta Aafrikas</td>\n",
       "      <td>9.2</td>\n",
       "      <td>series</td>\n",
       "      <td>Adventure, Comedy, Family</td>\n",
       "      <td>https://m.media-amazon.com/images/M/MV5BYjEzMj...</td>\n",
       "      <td>Kristjan Roosma, Tuuli Roosma, Andres Tammiksaar</td>\n",
       "      <td>G</td>\n",
       "      <td>Estonian</td>\n",
       "      <td>2019</td>\n",
       "    </tr>\n",
       "  </tbody>\n",
       "</table>\n",
       "<p>23255 rows × 11 columns</p>\n",
       "</div>"
      ],
      "text/plain": [
       "       TITLE_ID  CLUSTER                            TITLE  IMDB_SCORE    TYPE  \\\n",
       "0             1      0.0                        Toy Story         8.3   movie   \n",
       "1             2      2.0                          Jumanji         7.0   movie   \n",
       "2             3      2.0                 Grumpier Old Men         6.6   movie   \n",
       "3             4      7.0                Waiting to Exhale         5.9   movie   \n",
       "4             5      2.0      Father of the Bride Part II         6.0   movie   \n",
       "...         ...      ...                              ...         ...     ...   \n",
       "23250    219598      6.0  Bangkok Love Stories: Innocence         6.6  series   \n",
       "23251    219599      6.0                   History Erased         6.2  series   \n",
       "23252    219601      6.0     Big Trouble in Model Britain         8.2  series   \n",
       "23253    219604      6.0                       Never Ever         8.6  series   \n",
       "23254    219605      2.0              Meie aasta Aafrikas         9.2  series   \n",
       "\n",
       "                                 GENRE  \\\n",
       "0         Animation, Adventure, Comedy   \n",
       "1            Adventure, Comedy, Family   \n",
       "2                      Comedy, Romance   \n",
       "3               Comedy, Drama, Romance   \n",
       "4              Comedy, Family, Romance   \n",
       "...                                ...   \n",
       "23250                          Romance   \n",
       "23251                      Documentary   \n",
       "23252                      Documentary   \n",
       "23253  Documentary, Biography, History   \n",
       "23254        Adventure, Comedy, Family   \n",
       "\n",
       "                                                  POSTER  \\\n",
       "0      https://m.media-amazon.com/images/M/MV5BMDU2ZW...   \n",
       "1      https://m.media-amazon.com/images/M/MV5BZTk2Zm...   \n",
       "2      https://m.media-amazon.com/images/M/MV5BMjQxM2...   \n",
       "3      https://m.media-amazon.com/images/M/MV5BYzcyMD...   \n",
       "4      https://m.media-amazon.com/images/M/MV5BOTEyNz...   \n",
       "...                                                  ...   \n",
       "23250  https://m.media-amazon.com/images/M/MV5BNTQzOD...   \n",
       "23251  https://m.media-amazon.com/images/M/MV5BZWU2NG...   \n",
       "23252  https://m.media-amazon.com/images/M/MV5BMDZmZD...   \n",
       "23253  https://m.media-amazon.com/images/M/MV5BNWNkMj...   \n",
       "23254  https://m.media-amazon.com/images/M/MV5BYjEzMj...   \n",
       "\n",
       "                                                  ACTORS  RATED  \\\n",
       "0                      Tom Hanks, Tim Allen, Don Rickles      G   \n",
       "1             Robin Williams, Kirsten Dunst, Bonnie Hunt     PG   \n",
       "2               Walter Matthau, Jack Lemmon, Ann-Margret  PG-13   \n",
       "3        Whitney Houston, Angela Bassett, Loretta Devine      R   \n",
       "4               Steve Martin, Diane Keaton, Martin Short     PG   \n",
       "...                                                  ...    ...   \n",
       "23250  Narupornkamol Chaisang, Max Nattapol Diloknawa...      G   \n",
       "23251  Jonathan Markley, Sammi Barber, Celestine Cara...      G   \n",
       "23252                                          James May      G   \n",
       "23253                              EmpLemon, Aaron Lemos      G   \n",
       "23254   Kristjan Roosma, Tuuli Roosma, Andres Tammiksaar      G   \n",
       "\n",
       "                      LANGUAGES  YEAR  \n",
       "0                       English  1995  \n",
       "1               English, French  1995  \n",
       "2      English, Italian, German  1995  \n",
       "3                       English  1995  \n",
       "4                       English  1995  \n",
       "...                         ...   ...  \n",
       "23250                      Thai  2018  \n",
       "23251                   English  2019  \n",
       "23252                   English  2019  \n",
       "23253                   English  2018  \n",
       "23254                  Estonian  2019  \n",
       "\n",
       "[23255 rows x 11 columns]"
      ]
     },
     "execution_count": 78,
     "metadata": {},
     "output_type": "execute_result"
    }
   ],
   "source": [
    "print(movie_series_cluster_df['CLUSTER'].unique())\n",
    "print(\"\\nNumber of Unique Values =\", movie_series_cluster_df['CLUSTER'].nunique())\n",
    "movie_series_cluster_df"
   ]
  },
  {
   "cell_type": "code",
   "execution_count": 79,
   "metadata": {
    "colab": {
     "base_uri": "https://localhost:8080/",
     "height": 234
    },
    "id": "pXUVVMlIibYN",
    "outputId": "08b3304a-9ab7-406a-a894-c38fc176ae2e"
   },
   "outputs": [
    {
     "name": "stdout",
     "output_type": "stream",
     "text": [
      "CPU times: user 9.62 ms, sys: 4.08 ms, total: 13.7 ms\n",
      "Wall time: 13.1 ms\n"
     ]
    },
    {
     "data": {
      "text/html": [
       "<div>\n",
       "<style scoped>\n",
       "    .dataframe tbody tr th:only-of-type {\n",
       "        vertical-align: middle;\n",
       "    }\n",
       "\n",
       "    .dataframe tbody tr th {\n",
       "        vertical-align: top;\n",
       "    }\n",
       "\n",
       "    .dataframe thead th {\n",
       "        text-align: right;\n",
       "    }\n",
       "</style>\n",
       "<table border=\"1\" class=\"dataframe\">\n",
       "  <thead>\n",
       "    <tr style=\"text-align: right;\">\n",
       "      <th></th>\n",
       "      <th>CLUSTER</th>\n",
       "      <th>TITLE_ID</th>\n",
       "      <th>TITLE</th>\n",
       "      <th>TYPE</th>\n",
       "    </tr>\n",
       "  </thead>\n",
       "  <tbody>\n",
       "    <tr>\n",
       "      <th>16747</th>\n",
       "      <td>0.0</td>\n",
       "      <td>208421</td>\n",
       "      <td>Mitsudomoe</td>\n",
       "      <td>series</td>\n",
       "    </tr>\n",
       "    <tr>\n",
       "      <th>9495</th>\n",
       "      <td>0.0</td>\n",
       "      <td>196224</td>\n",
       "      <td>The New Adventures of Huckleberry Finn</td>\n",
       "      <td>series</td>\n",
       "    </tr>\n",
       "    <tr>\n",
       "      <th>9624</th>\n",
       "      <td>0.0</td>\n",
       "      <td>196416</td>\n",
       "      <td>The New Scooby-Doo Movies</td>\n",
       "      <td>series</td>\n",
       "    </tr>\n",
       "    <tr>\n",
       "      <th>12104</th>\n",
       "      <td>0.0</td>\n",
       "      <td>200446</td>\n",
       "      <td>TV Funhouse</td>\n",
       "      <td>series</td>\n",
       "    </tr>\n",
       "    <tr>\n",
       "      <th>7858</th>\n",
       "      <td>0.0</td>\n",
       "      <td>168420</td>\n",
       "      <td>Justice League Dark</td>\n",
       "      <td>movie</td>\n",
       "    </tr>\n",
       "  </tbody>\n",
       "</table>\n",
       "</div>"
      ],
      "text/plain": [
       "       CLUSTER  TITLE_ID                                   TITLE    TYPE\n",
       "16747      0.0    208421                              Mitsudomoe  series\n",
       "9495       0.0    196224  The New Adventures of Huckleberry Finn  series\n",
       "9624       0.0    196416               The New Scooby-Doo Movies  series\n",
       "12104      0.0    200446                             TV Funhouse  series\n",
       "7858       0.0    168420                     Justice League Dark   movie"
      ]
     },
     "execution_count": 79,
     "metadata": {},
     "output_type": "execute_result"
    }
   ],
   "source": [
    "%%time\n",
    "movie_series_per_cluster_df = movie_series_cluster_df[['CLUSTER', 'TITLE_ID', 'TITLE', 'TYPE']]\n",
    "\n",
    "#Cluster 0\n",
    "movie_series_per_cluster_df.loc[movie_series_per_cluster_df['CLUSTER'] == 0].sample(n = 5)"
   ]
  },
  {
   "cell_type": "code",
   "execution_count": 80,
   "metadata": {
    "colab": {
     "base_uri": "https://localhost:8080/",
     "height": 201
    },
    "id": "9X_BvtHXrMsW",
    "outputId": "441e4069-dc36-4f11-e112-7973ef339cd4"
   },
   "outputs": [
    {
     "data": {
      "text/html": [
       "<div>\n",
       "<style scoped>\n",
       "    .dataframe tbody tr th:only-of-type {\n",
       "        vertical-align: middle;\n",
       "    }\n",
       "\n",
       "    .dataframe tbody tr th {\n",
       "        vertical-align: top;\n",
       "    }\n",
       "\n",
       "    .dataframe thead th {\n",
       "        text-align: right;\n",
       "    }\n",
       "</style>\n",
       "<table border=\"1\" class=\"dataframe\">\n",
       "  <thead>\n",
       "    <tr style=\"text-align: right;\">\n",
       "      <th></th>\n",
       "      <th>CLUSTER</th>\n",
       "      <th>TITLE_ID</th>\n",
       "      <th>TITLE</th>\n",
       "      <th>TYPE</th>\n",
       "    </tr>\n",
       "  </thead>\n",
       "  <tbody>\n",
       "    <tr>\n",
       "      <th>10552</th>\n",
       "      <td>1.0</td>\n",
       "      <td>197916</td>\n",
       "      <td>Dr. Quinn, Medicine Woman</td>\n",
       "      <td>series</td>\n",
       "    </tr>\n",
       "    <tr>\n",
       "      <th>6480</th>\n",
       "      <td>1.0</td>\n",
       "      <td>103688</td>\n",
       "      <td>White Out</td>\n",
       "      <td>movie</td>\n",
       "    </tr>\n",
       "    <tr>\n",
       "      <th>22886</th>\n",
       "      <td>1.0</td>\n",
       "      <td>218974</td>\n",
       "      <td>SKY Castle</td>\n",
       "      <td>series</td>\n",
       "    </tr>\n",
       "    <tr>\n",
       "      <th>189</th>\n",
       "      <td>1.0</td>\n",
       "      <td>280</td>\n",
       "      <td>Murder in the First</td>\n",
       "      <td>movie</td>\n",
       "    </tr>\n",
       "    <tr>\n",
       "      <th>7450</th>\n",
       "      <td>1.0</td>\n",
       "      <td>146656</td>\n",
       "      <td>Creed</td>\n",
       "      <td>movie</td>\n",
       "    </tr>\n",
       "  </tbody>\n",
       "</table>\n",
       "</div>"
      ],
      "text/plain": [
       "       CLUSTER  TITLE_ID                      TITLE    TYPE\n",
       "10552      1.0    197916  Dr. Quinn, Medicine Woman  series\n",
       "6480       1.0    103688                  White Out   movie\n",
       "22886      1.0    218974                 SKY Castle  series\n",
       "189        1.0       280        Murder in the First   movie\n",
       "7450       1.0    146656                      Creed   movie"
      ]
     },
     "execution_count": 80,
     "metadata": {},
     "output_type": "execute_result"
    }
   ],
   "source": [
    "#Cluster 1\n",
    "movie_series_per_cluster_df.loc[movie_series_per_cluster_df['CLUSTER'] == 1].sample(n = 5)"
   ]
  },
  {
   "cell_type": "code",
   "execution_count": 81,
   "metadata": {
    "colab": {
     "base_uri": "https://localhost:8080/",
     "height": 201
    },
    "id": "3Ip7yc5irSGS",
    "outputId": "4294edd7-7b1d-4283-d0d6-4e39f53bb574"
   },
   "outputs": [
    {
     "data": {
      "text/html": [
       "<div>\n",
       "<style scoped>\n",
       "    .dataframe tbody tr th:only-of-type {\n",
       "        vertical-align: middle;\n",
       "    }\n",
       "\n",
       "    .dataframe tbody tr th {\n",
       "        vertical-align: top;\n",
       "    }\n",
       "\n",
       "    .dataframe thead th {\n",
       "        text-align: right;\n",
       "    }\n",
       "</style>\n",
       "<table border=\"1\" class=\"dataframe\">\n",
       "  <thead>\n",
       "    <tr style=\"text-align: right;\">\n",
       "      <th></th>\n",
       "      <th>CLUSTER</th>\n",
       "      <th>TITLE_ID</th>\n",
       "      <th>TITLE</th>\n",
       "      <th>TYPE</th>\n",
       "    </tr>\n",
       "  </thead>\n",
       "  <tbody>\n",
       "    <tr>\n",
       "      <th>15438</th>\n",
       "      <td>2.0</td>\n",
       "      <td>206117</td>\n",
       "      <td>Empty</td>\n",
       "      <td>series</td>\n",
       "    </tr>\n",
       "    <tr>\n",
       "      <th>12920</th>\n",
       "      <td>2.0</td>\n",
       "      <td>201817</td>\n",
       "      <td>CWC World</td>\n",
       "      <td>series</td>\n",
       "    </tr>\n",
       "    <tr>\n",
       "      <th>2800</th>\n",
       "      <td>2.0</td>\n",
       "      <td>5348</td>\n",
       "      <td>Hollywood Ending</td>\n",
       "      <td>movie</td>\n",
       "    </tr>\n",
       "    <tr>\n",
       "      <th>17301</th>\n",
       "      <td>2.0</td>\n",
       "      <td>209410</td>\n",
       "      <td>Anger Management</td>\n",
       "      <td>series</td>\n",
       "    </tr>\n",
       "    <tr>\n",
       "      <th>3553</th>\n",
       "      <td>2.0</td>\n",
       "      <td>7367</td>\n",
       "      <td>Solid Gold Cadillac</td>\n",
       "      <td>movie</td>\n",
       "    </tr>\n",
       "  </tbody>\n",
       "</table>\n",
       "</div>"
      ],
      "text/plain": [
       "       CLUSTER  TITLE_ID                TITLE    TYPE\n",
       "15438      2.0    206117                Empty  series\n",
       "12920      2.0    201817            CWC World  series\n",
       "2800       2.0      5348     Hollywood Ending   movie\n",
       "17301      2.0    209410     Anger Management  series\n",
       "3553       2.0      7367  Solid Gold Cadillac   movie"
      ]
     },
     "execution_count": 81,
     "metadata": {},
     "output_type": "execute_result"
    }
   ],
   "source": [
    "#Cluster 2\n",
    "movie_series_per_cluster_df.loc[movie_series_per_cluster_df['CLUSTER'] == 2].sample(n = 5)"
   ]
  },
  {
   "cell_type": "code",
   "execution_count": 82,
   "metadata": {
    "colab": {
     "base_uri": "https://localhost:8080/",
     "height": 201
    },
    "id": "W6O5za5crVRE",
    "outputId": "b1a29eb7-4e52-4b70-f809-0e90071f66a6"
   },
   "outputs": [
    {
     "data": {
      "text/html": [
       "<div>\n",
       "<style scoped>\n",
       "    .dataframe tbody tr th:only-of-type {\n",
       "        vertical-align: middle;\n",
       "    }\n",
       "\n",
       "    .dataframe tbody tr th {\n",
       "        vertical-align: top;\n",
       "    }\n",
       "\n",
       "    .dataframe thead th {\n",
       "        text-align: right;\n",
       "    }\n",
       "</style>\n",
       "<table border=\"1\" class=\"dataframe\">\n",
       "  <thead>\n",
       "    <tr style=\"text-align: right;\">\n",
       "      <th></th>\n",
       "      <th>CLUSTER</th>\n",
       "      <th>TITLE_ID</th>\n",
       "      <th>TITLE</th>\n",
       "      <th>TYPE</th>\n",
       "    </tr>\n",
       "  </thead>\n",
       "  <tbody>\n",
       "    <tr>\n",
       "      <th>21787</th>\n",
       "      <td>3.0</td>\n",
       "      <td>217217</td>\n",
       "      <td>60 seconds of fear</td>\n",
       "      <td>series</td>\n",
       "    </tr>\n",
       "    <tr>\n",
       "      <th>1644</th>\n",
       "      <td>3.0</td>\n",
       "      <td>3029</td>\n",
       "      <td>Nighthawks</td>\n",
       "      <td>movie</td>\n",
       "    </tr>\n",
       "    <tr>\n",
       "      <th>2613</th>\n",
       "      <td>3.0</td>\n",
       "      <td>4865</td>\n",
       "      <td>From Hell</td>\n",
       "      <td>movie</td>\n",
       "    </tr>\n",
       "    <tr>\n",
       "      <th>1569</th>\n",
       "      <td>3.0</td>\n",
       "      <td>2905</td>\n",
       "      <td>Sanjuro</td>\n",
       "      <td>movie</td>\n",
       "    </tr>\n",
       "    <tr>\n",
       "      <th>5236</th>\n",
       "      <td>3.0</td>\n",
       "      <td>66171</td>\n",
       "      <td>Push</td>\n",
       "      <td>movie</td>\n",
       "    </tr>\n",
       "  </tbody>\n",
       "</table>\n",
       "</div>"
      ],
      "text/plain": [
       "       CLUSTER  TITLE_ID               TITLE    TYPE\n",
       "21787      3.0    217217  60 seconds of fear  series\n",
       "1644       3.0      3029          Nighthawks   movie\n",
       "2613       3.0      4865           From Hell   movie\n",
       "1569       3.0      2905             Sanjuro   movie\n",
       "5236       3.0     66171                Push   movie"
      ]
     },
     "execution_count": 82,
     "metadata": {},
     "output_type": "execute_result"
    }
   ],
   "source": [
    "#Cluster 3\n",
    "movie_series_per_cluster_df.loc[movie_series_per_cluster_df['CLUSTER'] == 3].sample(n = 5)"
   ]
  },
  {
   "cell_type": "code",
   "execution_count": 83,
   "metadata": {
    "colab": {
     "base_uri": "https://localhost:8080/",
     "height": 201
    },
    "id": "UwzgCC_5rZvV",
    "outputId": "af1e8ca8-0c61-47eb-f26c-91d398a7b0dc"
   },
   "outputs": [
    {
     "data": {
      "text/html": [
       "<div>\n",
       "<style scoped>\n",
       "    .dataframe tbody tr th:only-of-type {\n",
       "        vertical-align: middle;\n",
       "    }\n",
       "\n",
       "    .dataframe tbody tr th {\n",
       "        vertical-align: top;\n",
       "    }\n",
       "\n",
       "    .dataframe thead th {\n",
       "        text-align: right;\n",
       "    }\n",
       "</style>\n",
       "<table border=\"1\" class=\"dataframe\">\n",
       "  <thead>\n",
       "    <tr style=\"text-align: right;\">\n",
       "      <th></th>\n",
       "      <th>CLUSTER</th>\n",
       "      <th>TITLE_ID</th>\n",
       "      <th>TITLE</th>\n",
       "      <th>TYPE</th>\n",
       "    </tr>\n",
       "  </thead>\n",
       "  <tbody>\n",
       "    <tr>\n",
       "      <th>16730</th>\n",
       "      <td>4.0</td>\n",
       "      <td>208397</td>\n",
       "      <td>Recipe for Crime</td>\n",
       "      <td>series</td>\n",
       "    </tr>\n",
       "    <tr>\n",
       "      <th>18719</th>\n",
       "      <td>4.0</td>\n",
       "      <td>211982</td>\n",
       "      <td>Step Dave</td>\n",
       "      <td>series</td>\n",
       "    </tr>\n",
       "    <tr>\n",
       "      <th>11665</th>\n",
       "      <td>4.0</td>\n",
       "      <td>199723</td>\n",
       "      <td>Aquila</td>\n",
       "      <td>series</td>\n",
       "    </tr>\n",
       "    <tr>\n",
       "      <th>16954</th>\n",
       "      <td>4.0</td>\n",
       "      <td>208796</td>\n",
       "      <td>Ghahveye Talkh</td>\n",
       "      <td>series</td>\n",
       "    </tr>\n",
       "    <tr>\n",
       "      <th>7127</th>\n",
       "      <td>4.0</td>\n",
       "      <td>131826</td>\n",
       "      <td>Iliza Shlesinger: Freezing Hot</td>\n",
       "      <td>movie</td>\n",
       "    </tr>\n",
       "  </tbody>\n",
       "</table>\n",
       "</div>"
      ],
      "text/plain": [
       "       CLUSTER  TITLE_ID                           TITLE    TYPE\n",
       "16730      4.0    208397                Recipe for Crime  series\n",
       "18719      4.0    211982                       Step Dave  series\n",
       "11665      4.0    199723                          Aquila  series\n",
       "16954      4.0    208796                  Ghahveye Talkh  series\n",
       "7127       4.0    131826  Iliza Shlesinger: Freezing Hot   movie"
      ]
     },
     "execution_count": 83,
     "metadata": {},
     "output_type": "execute_result"
    }
   ],
   "source": [
    "#Cluster 4\n",
    "movie_series_per_cluster_df.loc[movie_series_per_cluster_df['CLUSTER'] == 4].sample(n = 5)"
   ]
  },
  {
   "cell_type": "code",
   "execution_count": 84,
   "metadata": {
    "colab": {
     "base_uri": "https://localhost:8080/",
     "height": 201
    },
    "id": "SmPl4d42m91w",
    "outputId": "66a2aeb7-8b27-4d67-f1bb-a2d7ec18b1bf"
   },
   "outputs": [
    {
     "data": {
      "text/html": [
       "<div>\n",
       "<style scoped>\n",
       "    .dataframe tbody tr th:only-of-type {\n",
       "        vertical-align: middle;\n",
       "    }\n",
       "\n",
       "    .dataframe tbody tr th {\n",
       "        vertical-align: top;\n",
       "    }\n",
       "\n",
       "    .dataframe thead th {\n",
       "        text-align: right;\n",
       "    }\n",
       "</style>\n",
       "<table border=\"1\" class=\"dataframe\">\n",
       "  <thead>\n",
       "    <tr style=\"text-align: right;\">\n",
       "      <th></th>\n",
       "      <th>CLUSTER</th>\n",
       "      <th>TITLE_ID</th>\n",
       "      <th>TITLE</th>\n",
       "      <th>TYPE</th>\n",
       "    </tr>\n",
       "  </thead>\n",
       "  <tbody>\n",
       "    <tr>\n",
       "      <th>33</th>\n",
       "      <td>5.0</td>\n",
       "      <td>44</td>\n",
       "      <td>Mortal Kombat</td>\n",
       "      <td>movie</td>\n",
       "    </tr>\n",
       "    <tr>\n",
       "      <th>6771</th>\n",
       "      <td>5.0</td>\n",
       "      <td>112623</td>\n",
       "      <td>Dawn of the Planet of the Apes</td>\n",
       "      <td>movie</td>\n",
       "    </tr>\n",
       "    <tr>\n",
       "      <th>3535</th>\n",
       "      <td>5.0</td>\n",
       "      <td>7324</td>\n",
       "      <td>Hidalgo</td>\n",
       "      <td>movie</td>\n",
       "    </tr>\n",
       "    <tr>\n",
       "      <th>3837</th>\n",
       "      <td>5.0</td>\n",
       "      <td>8782</td>\n",
       "      <td>Thunderbirds</td>\n",
       "      <td>movie</td>\n",
       "    </tr>\n",
       "    <tr>\n",
       "      <th>8291</th>\n",
       "      <td>5.0</td>\n",
       "      <td>194194</td>\n",
       "      <td>Primeval</td>\n",
       "      <td>series</td>\n",
       "    </tr>\n",
       "  </tbody>\n",
       "</table>\n",
       "</div>"
      ],
      "text/plain": [
       "      CLUSTER  TITLE_ID                           TITLE    TYPE\n",
       "33        5.0        44                   Mortal Kombat   movie\n",
       "6771      5.0    112623  Dawn of the Planet of the Apes   movie\n",
       "3535      5.0      7324                         Hidalgo   movie\n",
       "3837      5.0      8782                    Thunderbirds   movie\n",
       "8291      5.0    194194                        Primeval  series"
      ]
     },
     "execution_count": 84,
     "metadata": {},
     "output_type": "execute_result"
    }
   ],
   "source": [
    "#Cluster 5\n",
    "movie_series_per_cluster_df.loc[movie_series_per_cluster_df['CLUSTER'] == 5].sample(n = 5)"
   ]
  },
  {
   "cell_type": "code",
   "execution_count": 85,
   "metadata": {
    "colab": {
     "base_uri": "https://localhost:8080/",
     "height": 201
    },
    "id": "db3HmmJqm-Hi",
    "outputId": "411cbf1a-4681-4690-83b2-81bb51c6e59f"
   },
   "outputs": [
    {
     "data": {
      "text/html": [
       "<div>\n",
       "<style scoped>\n",
       "    .dataframe tbody tr th:only-of-type {\n",
       "        vertical-align: middle;\n",
       "    }\n",
       "\n",
       "    .dataframe tbody tr th {\n",
       "        vertical-align: top;\n",
       "    }\n",
       "\n",
       "    .dataframe thead th {\n",
       "        text-align: right;\n",
       "    }\n",
       "</style>\n",
       "<table border=\"1\" class=\"dataframe\">\n",
       "  <thead>\n",
       "    <tr style=\"text-align: right;\">\n",
       "      <th></th>\n",
       "      <th>CLUSTER</th>\n",
       "      <th>TITLE_ID</th>\n",
       "      <th>TITLE</th>\n",
       "      <th>TYPE</th>\n",
       "    </tr>\n",
       "  </thead>\n",
       "  <tbody>\n",
       "    <tr>\n",
       "      <th>17318</th>\n",
       "      <td>6.0</td>\n",
       "      <td>209439</td>\n",
       "      <td>Tony Robinson's Gods &amp; Monsters</td>\n",
       "      <td>series</td>\n",
       "    </tr>\n",
       "    <tr>\n",
       "      <th>3243</th>\n",
       "      <td>6.0</td>\n",
       "      <td>6598</td>\n",
       "      <td>Step Into Liquid</td>\n",
       "      <td>movie</td>\n",
       "    </tr>\n",
       "    <tr>\n",
       "      <th>22435</th>\n",
       "      <td>6.0</td>\n",
       "      <td>218248</td>\n",
       "      <td>The Case Against Adnan Syed</td>\n",
       "      <td>series</td>\n",
       "    </tr>\n",
       "    <tr>\n",
       "      <th>17064</th>\n",
       "      <td>6.0</td>\n",
       "      <td>208993</td>\n",
       "      <td>How the Universe Works</td>\n",
       "      <td>series</td>\n",
       "    </tr>\n",
       "    <tr>\n",
       "      <th>11796</th>\n",
       "      <td>6.0</td>\n",
       "      <td>199951</td>\n",
       "      <td>Kara Ben Nemsi Effendi</td>\n",
       "      <td>series</td>\n",
       "    </tr>\n",
       "  </tbody>\n",
       "</table>\n",
       "</div>"
      ],
      "text/plain": [
       "       CLUSTER  TITLE_ID                            TITLE    TYPE\n",
       "17318      6.0    209439  Tony Robinson's Gods & Monsters  series\n",
       "3243       6.0      6598                 Step Into Liquid   movie\n",
       "22435      6.0    218248      The Case Against Adnan Syed  series\n",
       "17064      6.0    208993           How the Universe Works  series\n",
       "11796      6.0    199951           Kara Ben Nemsi Effendi  series"
      ]
     },
     "execution_count": 85,
     "metadata": {},
     "output_type": "execute_result"
    }
   ],
   "source": [
    "#Cluster 6\n",
    "movie_series_per_cluster_df.loc[movie_series_per_cluster_df['CLUSTER'] == 6].sample(n = 5)"
   ]
  },
  {
   "cell_type": "code",
   "execution_count": 86,
   "metadata": {
    "colab": {
     "base_uri": "https://localhost:8080/",
     "height": 201
    },
    "id": "fspqGts-m-fo",
    "outputId": "e0880850-c213-43a6-e486-ed47a01eaa56"
   },
   "outputs": [
    {
     "data": {
      "text/html": [
       "<div>\n",
       "<style scoped>\n",
       "    .dataframe tbody tr th:only-of-type {\n",
       "        vertical-align: middle;\n",
       "    }\n",
       "\n",
       "    .dataframe tbody tr th {\n",
       "        vertical-align: top;\n",
       "    }\n",
       "\n",
       "    .dataframe thead th {\n",
       "        text-align: right;\n",
       "    }\n",
       "</style>\n",
       "<table border=\"1\" class=\"dataframe\">\n",
       "  <thead>\n",
       "    <tr style=\"text-align: right;\">\n",
       "      <th></th>\n",
       "      <th>CLUSTER</th>\n",
       "      <th>TITLE_ID</th>\n",
       "      <th>TITLE</th>\n",
       "      <th>TYPE</th>\n",
       "    </tr>\n",
       "  </thead>\n",
       "  <tbody>\n",
       "    <tr>\n",
       "      <th>2357</th>\n",
       "      <td>7.0</td>\n",
       "      <td>4357</td>\n",
       "      <td>How to Marry a Millionaire</td>\n",
       "      <td>movie</td>\n",
       "    </tr>\n",
       "    <tr>\n",
       "      <th>20148</th>\n",
       "      <td>7.0</td>\n",
       "      <td>214485</td>\n",
       "      <td>Chepe Fortuna</td>\n",
       "      <td>series</td>\n",
       "    </tr>\n",
       "    <tr>\n",
       "      <th>15947</th>\n",
       "      <td>7.0</td>\n",
       "      <td>206980</td>\n",
       "      <td>Ghum Hai Kisikey Pyaar Meiin</td>\n",
       "      <td>series</td>\n",
       "    </tr>\n",
       "    <tr>\n",
       "      <th>7378</th>\n",
       "      <td>7.0</td>\n",
       "      <td>142432</td>\n",
       "      <td>The Princess of France</td>\n",
       "      <td>movie</td>\n",
       "    </tr>\n",
       "    <tr>\n",
       "      <th>3546</th>\n",
       "      <td>7.0</td>\n",
       "      <td>7352</td>\n",
       "      <td>Wilbur Wants to Kill Himself</td>\n",
       "      <td>movie</td>\n",
       "    </tr>\n",
       "  </tbody>\n",
       "</table>\n",
       "</div>"
      ],
      "text/plain": [
       "       CLUSTER  TITLE_ID                         TITLE    TYPE\n",
       "2357       7.0      4357    How to Marry a Millionaire   movie\n",
       "20148      7.0    214485                 Chepe Fortuna  series\n",
       "15947      7.0    206980  Ghum Hai Kisikey Pyaar Meiin  series\n",
       "7378       7.0    142432        The Princess of France   movie\n",
       "3546       7.0      7352  Wilbur Wants to Kill Himself   movie"
      ]
     },
     "execution_count": 86,
     "metadata": {},
     "output_type": "execute_result"
    }
   ],
   "source": [
    "#Cluster 7\n",
    "movie_series_per_cluster_df.loc[movie_series_per_cluster_df['CLUSTER'] == 7].sample(n = 5)"
   ]
  },
  {
   "cell_type": "code",
   "execution_count": 87,
   "metadata": {
    "colab": {
     "base_uri": "https://localhost:8080/",
     "height": 201
    },
    "id": "qIuj11Szm_N6",
    "outputId": "1ea75daf-6ed2-4b79-fead-9ba61e6d22a9"
   },
   "outputs": [
    {
     "data": {
      "text/html": [
       "<div>\n",
       "<style scoped>\n",
       "    .dataframe tbody tr th:only-of-type {\n",
       "        vertical-align: middle;\n",
       "    }\n",
       "\n",
       "    .dataframe tbody tr th {\n",
       "        vertical-align: top;\n",
       "    }\n",
       "\n",
       "    .dataframe thead th {\n",
       "        text-align: right;\n",
       "    }\n",
       "</style>\n",
       "<table border=\"1\" class=\"dataframe\">\n",
       "  <thead>\n",
       "    <tr style=\"text-align: right;\">\n",
       "      <th></th>\n",
       "      <th>CLUSTER</th>\n",
       "      <th>TITLE_ID</th>\n",
       "      <th>TITLE</th>\n",
       "      <th>TYPE</th>\n",
       "    </tr>\n",
       "  </thead>\n",
       "  <tbody>\n",
       "    <tr>\n",
       "      <th>17995</th>\n",
       "      <td>8.0</td>\n",
       "      <td>210683</td>\n",
       "      <td>King &amp; Maxwell</td>\n",
       "      <td>series</td>\n",
       "    </tr>\n",
       "    <tr>\n",
       "      <th>7400</th>\n",
       "      <td>8.0</td>\n",
       "      <td>143271</td>\n",
       "      <td>Dheepan</td>\n",
       "      <td>movie</td>\n",
       "    </tr>\n",
       "    <tr>\n",
       "      <th>15634</th>\n",
       "      <td>8.0</td>\n",
       "      <td>206445</td>\n",
       "      <td>Romanzo criminale - La serie</td>\n",
       "      <td>series</td>\n",
       "    </tr>\n",
       "    <tr>\n",
       "      <th>9277</th>\n",
       "      <td>8.0</td>\n",
       "      <td>195896</td>\n",
       "      <td>Checkmate</td>\n",
       "      <td>series</td>\n",
       "    </tr>\n",
       "    <tr>\n",
       "      <th>14251</th>\n",
       "      <td>8.0</td>\n",
       "      <td>204051</td>\n",
       "      <td>10i entoli</td>\n",
       "      <td>series</td>\n",
       "    </tr>\n",
       "  </tbody>\n",
       "</table>\n",
       "</div>"
      ],
      "text/plain": [
       "       CLUSTER  TITLE_ID                         TITLE    TYPE\n",
       "17995      8.0    210683                King & Maxwell  series\n",
       "7400       8.0    143271                       Dheepan   movie\n",
       "15634      8.0    206445  Romanzo criminale - La serie  series\n",
       "9277       8.0    195896                     Checkmate  series\n",
       "14251      8.0    204051                    10i entoli  series"
      ]
     },
     "execution_count": 87,
     "metadata": {},
     "output_type": "execute_result"
    }
   ],
   "source": [
    "#Cluster 8\n",
    "movie_series_per_cluster_df.loc[movie_series_per_cluster_df['CLUSTER'] == 8].sample(n = 5)"
   ]
  },
  {
   "cell_type": "markdown",
   "metadata": {},
   "source": [
    "# Generating Recommendations"
   ]
  },
  {
   "cell_type": "code",
   "execution_count": 88,
   "metadata": {
    "id": "IHmdEljF9108"
   },
   "outputs": [],
   "source": [
    "def get_recommendation_by_title(x):\n",
    "    # query_df = movie_series_cluster_df.loc[movie_series_cluster_df['TITLE'] == x]\n",
    "    movie_series_temp_df = movie_series_cluster_df.loc[(movie_series_cluster_df['TITLE'] == x)]\n",
    "    movie_series_temp_df = movie_series_temp_df.reset_index();\n",
    "    movie_series_temp_df.TITLE_ID[0]\n",
    "    print(movie_series_temp_df.GENRE)\n",
    "    l = int(movie_series_temp_df.TITLE_ID[0])\n",
    "    l = movie_series_cluster_df['CLUSTER'][movie_series_cluster_df.TITLE_ID == l]\n",
    "    i = movie_series_cluster_df.CLUSTER == int(l)\n",
    "    k = movie_series_cluster_df['TITLE'][i].sample(n = 20)\n",
    "    df = pd.DataFrame(k)\n",
    "    df = df.reset_index(drop = False)\n",
    "    df.columns =['INDEX', 'TITLE']\n",
    "    listTitleID = df.TITLE\n",
    "\n",
    "    d = pd.DataFrame()\n",
    "\n",
    "    for x in listTitleID:\n",
    "        temp_recommendation_df = movie_series_cluster_df.loc[movie_series_cluster_df['TITLE'] == x]\n",
    "        temp = pd.DataFrame(\n",
    "            {  \n",
    "                'TITLE': temp_recommendation_df.TITLE,\n",
    "                'IMDB_SCORE': temp_recommendation_df.IMDB_SCORE,\n",
    "                'TYPE': temp_recommendation_df.TYPE,\n",
    "                'RATED': temp_recommendation_df.RATED,\n",
    "                'GENRE': temp_recommendation_df.GENRE,\n",
    "                'YEAR': temp_recommendation_df.YEAR,\n",
    "                'LANGUAGES': temp_recommendation_df.LANGUAGES,\n",
    "            }\n",
    "        )\n",
    "\n",
    "        d = pd.concat([d, temp])\n",
    "    d = d.reset_index(drop = True)\n",
    "    return d"
   ]
  },
  {
   "cell_type": "markdown",
   "metadata": {},
   "source": [
    "# Input Movie or Web-Series Name to generate Recommendation"
   ]
  },
  {
   "cell_type": "code",
   "execution_count": 90,
   "metadata": {
    "colab": {
     "base_uri": "https://localhost:8080/",
     "height": 723
    },
    "id": "SiLxG_6B-Crz",
    "outputId": "c501052b-6d02-4361-bdcc-d0b79b5c4112"
   },
   "outputs": [
    {
     "name": "stdout",
     "output_type": "stream",
     "text": [
      "0    Horror, Sci-Fi\n",
      "Name: GENRE, dtype: object\n",
      "CPU times: user 106 ms, sys: 5.02 ms, total: 111 ms\n",
      "Wall time: 115 ms\n"
     ]
    },
    {
     "data": {
      "text/html": [
       "<div>\n",
       "<style scoped>\n",
       "    .dataframe tbody tr th:only-of-type {\n",
       "        vertical-align: middle;\n",
       "    }\n",
       "\n",
       "    .dataframe tbody tr th {\n",
       "        vertical-align: top;\n",
       "    }\n",
       "\n",
       "    .dataframe thead th {\n",
       "        text-align: right;\n",
       "    }\n",
       "</style>\n",
       "<table border=\"1\" class=\"dataframe\">\n",
       "  <thead>\n",
       "    <tr style=\"text-align: right;\">\n",
       "      <th></th>\n",
       "      <th>TITLE</th>\n",
       "      <th>IMDB_SCORE</th>\n",
       "      <th>TYPE</th>\n",
       "      <th>RATED</th>\n",
       "      <th>GENRE</th>\n",
       "      <th>YEAR</th>\n",
       "      <th>LANGUAGES</th>\n",
       "    </tr>\n",
       "  </thead>\n",
       "  <tbody>\n",
       "    <tr>\n",
       "      <th>0</th>\n",
       "      <td>Atlantis: The Lost Empire</td>\n",
       "      <td>6.9</td>\n",
       "      <td>movie</td>\n",
       "      <td>PG</td>\n",
       "      <td>Animation, Action, Adventure</td>\n",
       "      <td>2001</td>\n",
       "      <td>English, French, Spanish</td>\n",
       "    </tr>\n",
       "    <tr>\n",
       "      <th>1</th>\n",
       "      <td>Gotham Tonight</td>\n",
       "      <td>7.4</td>\n",
       "      <td>series</td>\n",
       "      <td>G</td>\n",
       "      <td>Adventure, Sci-Fi</td>\n",
       "      <td>2008</td>\n",
       "      <td>English</td>\n",
       "    </tr>\n",
       "    <tr>\n",
       "      <th>2</th>\n",
       "      <td>The Hunger Games: Mockingjay - Part 1</td>\n",
       "      <td>6.6</td>\n",
       "      <td>movie</td>\n",
       "      <td>PG-13</td>\n",
       "      <td>Action, Adventure, Sci-Fi</td>\n",
       "      <td>2014</td>\n",
       "      <td>English</td>\n",
       "    </tr>\n",
       "    <tr>\n",
       "      <th>3</th>\n",
       "      <td>Star Trek: First Contact</td>\n",
       "      <td>7.6</td>\n",
       "      <td>movie</td>\n",
       "      <td>PG-13</td>\n",
       "      <td>Action, Adventure, Drama</td>\n",
       "      <td>1996</td>\n",
       "      <td>English</td>\n",
       "    </tr>\n",
       "    <tr>\n",
       "      <th>4</th>\n",
       "      <td>Beowulf: Return to the Shieldlands</td>\n",
       "      <td>5.8</td>\n",
       "      <td>series</td>\n",
       "      <td>G</td>\n",
       "      <td>Action, Adventure, Drama</td>\n",
       "      <td>2016</td>\n",
       "      <td>English</td>\n",
       "    </tr>\n",
       "    <tr>\n",
       "      <th>5</th>\n",
       "      <td>Far Cry</td>\n",
       "      <td>3.2</td>\n",
       "      <td>movie</td>\n",
       "      <td>R</td>\n",
       "      <td>Action, Adventure, Sci-Fi</td>\n",
       "      <td>2008</td>\n",
       "      <td>English</td>\n",
       "    </tr>\n",
       "    <tr>\n",
       "      <th>6</th>\n",
       "      <td>Power Rangers Samurai</td>\n",
       "      <td>4.8</td>\n",
       "      <td>series</td>\n",
       "      <td>G</td>\n",
       "      <td>Action, Adventure, Comedy</td>\n",
       "      <td>2011</td>\n",
       "      <td>English</td>\n",
       "    </tr>\n",
       "    <tr>\n",
       "      <th>7</th>\n",
       "      <td>John Carter</td>\n",
       "      <td>6.6</td>\n",
       "      <td>movie</td>\n",
       "      <td>PG-13</td>\n",
       "      <td>Action, Adventure, Sci-Fi</td>\n",
       "      <td>2012</td>\n",
       "      <td>English</td>\n",
       "    </tr>\n",
       "    <tr>\n",
       "      <th>8</th>\n",
       "      <td>The Girl with All the Gifts</td>\n",
       "      <td>6.6</td>\n",
       "      <td>movie</td>\n",
       "      <td>R</td>\n",
       "      <td>Action, Adventure, Drama</td>\n",
       "      <td>2016</td>\n",
       "      <td>English</td>\n",
       "    </tr>\n",
       "    <tr>\n",
       "      <th>9</th>\n",
       "      <td>Journey to the Center of the Earth</td>\n",
       "      <td>5.6</td>\n",
       "      <td>series</td>\n",
       "      <td>G</td>\n",
       "      <td>Adventure, Sci-Fi, Fantasy</td>\n",
       "      <td>1999</td>\n",
       "      <td>English</td>\n",
       "    </tr>\n",
       "    <tr>\n",
       "      <th>10</th>\n",
       "      <td>Game</td>\n",
       "      <td>9.2</td>\n",
       "      <td>series</td>\n",
       "      <td>R</td>\n",
       "      <td>Action, Adventure, Drama</td>\n",
       "      <td>2011</td>\n",
       "      <td>English</td>\n",
       "    </tr>\n",
       "    <tr>\n",
       "      <th>11</th>\n",
       "      <td>El Pantera</td>\n",
       "      <td>5.5</td>\n",
       "      <td>series</td>\n",
       "      <td>PG</td>\n",
       "      <td>Action, Adventure, Crime</td>\n",
       "      <td>2007</td>\n",
       "      <td>Spanish</td>\n",
       "    </tr>\n",
       "    <tr>\n",
       "      <th>12</th>\n",
       "      <td>Sphere</td>\n",
       "      <td>6.1</td>\n",
       "      <td>movie</td>\n",
       "      <td>PG-13</td>\n",
       "      <td>Action, Mystery, Sci-Fi</td>\n",
       "      <td>1998</td>\n",
       "      <td>English</td>\n",
       "    </tr>\n",
       "    <tr>\n",
       "      <th>13</th>\n",
       "      <td>Dragon Age: Redemption</td>\n",
       "      <td>6.1</td>\n",
       "      <td>series</td>\n",
       "      <td>PG</td>\n",
       "      <td>Action, Adventure, Fantasy</td>\n",
       "      <td>2011</td>\n",
       "      <td>English</td>\n",
       "    </tr>\n",
       "    <tr>\n",
       "      <th>14</th>\n",
       "      <td>Harry Potter and the Deathly Hallows: Part 1</td>\n",
       "      <td>7.7</td>\n",
       "      <td>movie</td>\n",
       "      <td>PG-13</td>\n",
       "      <td>Adventure, Family, Fantasy</td>\n",
       "      <td>2010</td>\n",
       "      <td>English, Latin</td>\n",
       "    </tr>\n",
       "    <tr>\n",
       "      <th>15</th>\n",
       "      <td>Soldier of Fortune, Inc.</td>\n",
       "      <td>6.9</td>\n",
       "      <td>series</td>\n",
       "      <td>G</td>\n",
       "      <td>Action, Adventure</td>\n",
       "      <td>1997</td>\n",
       "      <td>English</td>\n",
       "    </tr>\n",
       "    <tr>\n",
       "      <th>16</th>\n",
       "      <td>Flash Gordon: A Modern Space Opera</td>\n",
       "      <td>4.7</td>\n",
       "      <td>series</td>\n",
       "      <td>PG</td>\n",
       "      <td>Action, Adventure, Drama</td>\n",
       "      <td>2007</td>\n",
       "      <td>English</td>\n",
       "    </tr>\n",
       "    <tr>\n",
       "      <th>17</th>\n",
       "      <td>Congo</td>\n",
       "      <td>5.2</td>\n",
       "      <td>movie</td>\n",
       "      <td>PG-13</td>\n",
       "      <td>Action, Adventure, Mystery</td>\n",
       "      <td>1995</td>\n",
       "      <td>English, American Sign</td>\n",
       "    </tr>\n",
       "    <tr>\n",
       "      <th>18</th>\n",
       "      <td>Ever Night 2</td>\n",
       "      <td>6.4</td>\n",
       "      <td>series</td>\n",
       "      <td>G</td>\n",
       "      <td>Action, Adventure, Drama</td>\n",
       "      <td>2020</td>\n",
       "      <td>Mandarin</td>\n",
       "    </tr>\n",
       "    <tr>\n",
       "      <th>19</th>\n",
       "      <td>Star Trek Continues</td>\n",
       "      <td>8.1</td>\n",
       "      <td>series</td>\n",
       "      <td>G</td>\n",
       "      <td>Action, Adventure, Sci-Fi</td>\n",
       "      <td>2013</td>\n",
       "      <td>English</td>\n",
       "    </tr>\n",
       "  </tbody>\n",
       "</table>\n",
       "</div>"
      ],
      "text/plain": [
       "                                           TITLE  IMDB_SCORE    TYPE  RATED  \\\n",
       "0                      Atlantis: The Lost Empire         6.9   movie     PG   \n",
       "1                                 Gotham Tonight         7.4  series      G   \n",
       "2          The Hunger Games: Mockingjay - Part 1         6.6   movie  PG-13   \n",
       "3                       Star Trek: First Contact         7.6   movie  PG-13   \n",
       "4             Beowulf: Return to the Shieldlands         5.8  series      G   \n",
       "5                                        Far Cry         3.2   movie      R   \n",
       "6                          Power Rangers Samurai         4.8  series      G   \n",
       "7                                    John Carter         6.6   movie  PG-13   \n",
       "8                    The Girl with All the Gifts         6.6   movie      R   \n",
       "9             Journey to the Center of the Earth         5.6  series      G   \n",
       "10                                          Game         9.2  series      R   \n",
       "11                                    El Pantera         5.5  series     PG   \n",
       "12                                        Sphere         6.1   movie  PG-13   \n",
       "13                        Dragon Age: Redemption         6.1  series     PG   \n",
       "14  Harry Potter and the Deathly Hallows: Part 1         7.7   movie  PG-13   \n",
       "15                      Soldier of Fortune, Inc.         6.9  series      G   \n",
       "16            Flash Gordon: A Modern Space Opera         4.7  series     PG   \n",
       "17                                         Congo         5.2   movie  PG-13   \n",
       "18                                  Ever Night 2         6.4  series      G   \n",
       "19                           Star Trek Continues         8.1  series      G   \n",
       "\n",
       "                           GENRE  YEAR                 LANGUAGES  \n",
       "0   Animation, Action, Adventure  2001  English, French, Spanish  \n",
       "1              Adventure, Sci-Fi  2008                   English  \n",
       "2      Action, Adventure, Sci-Fi  2014                   English  \n",
       "3       Action, Adventure, Drama  1996                   English  \n",
       "4       Action, Adventure, Drama  2016                   English  \n",
       "5      Action, Adventure, Sci-Fi  2008                   English  \n",
       "6      Action, Adventure, Comedy  2011                   English  \n",
       "7      Action, Adventure, Sci-Fi  2012                   English  \n",
       "8       Action, Adventure, Drama  2016                   English  \n",
       "9     Adventure, Sci-Fi, Fantasy  1999                   English  \n",
       "10      Action, Adventure, Drama  2011                   English  \n",
       "11      Action, Adventure, Crime  2007                   Spanish  \n",
       "12       Action, Mystery, Sci-Fi  1998                   English  \n",
       "13    Action, Adventure, Fantasy  2011                   English  \n",
       "14    Adventure, Family, Fantasy  2010            English, Latin  \n",
       "15             Action, Adventure  1997                   English  \n",
       "16      Action, Adventure, Drama  2007                   English  \n",
       "17    Action, Adventure, Mystery  1995   English, American Sign   \n",
       "18      Action, Adventure, Drama  2020                  Mandarin  \n",
       "19     Action, Adventure, Sci-Fi  2013                   English  "
      ]
     },
     "execution_count": 90,
     "metadata": {},
     "output_type": "execute_result"
    }
   ],
   "source": [
    "%%time\n",
    "get_recommendation_by_title(\"Alien\")"
   ]
  },
  {
   "cell_type": "code",
   "execution_count": null,
   "metadata": {},
   "outputs": [],
   "source": []
  }
 ],
 "metadata": {
  "colab": {
   "collapsed_sections": [],
   "provenance": []
  },
  "kernelspec": {
   "display_name": "Python 3 (ipykernel)",
   "language": "python",
   "name": "python3"
  },
  "language_info": {
   "codemirror_mode": {
    "name": "ipython",
    "version": 3
   },
   "file_extension": ".py",
   "mimetype": "text/x-python",
   "name": "python",
   "nbconvert_exporter": "python",
   "pygments_lexer": "ipython3",
   "version": "3.9.7"
  }
 },
 "nbformat": 4,
 "nbformat_minor": 1
}
